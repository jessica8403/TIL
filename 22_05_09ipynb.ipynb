{
  "nbformat": 4,
  "nbformat_minor": 0,
  "metadata": {
    "colab": {
      "name": "22.05.09ipynb",
      "provenance": [],
      "authorship_tag": "ABX9TyMhjB+VehLFv/HjNAC8lxv7",
      "include_colab_link": true
    },
    "kernelspec": {
      "name": "python3",
      "display_name": "Python 3"
    },
    "language_info": {
      "name": "python"
    }
  },
  "cells": [
    {
      "cell_type": "markdown",
      "metadata": {
        "id": "view-in-github",
        "colab_type": "text"
      },
      "source": [
        "<a href=\"https://colab.research.google.com/github/jessica8403/TIL/blob/master/22_05_09ipynb.ipynb\" target=\"_parent\"><img src=\"https://colab.research.google.com/assets/colab-badge.svg\" alt=\"Open In Colab\"/></a>"
      ]
    },
    {
      "cell_type": "code",
      "execution_count": 1,
      "metadata": {
        "colab": {
          "base_uri": "https://localhost:8080/"
        },
        "id": "ffznN2Qj12X9",
        "outputId": "10c7a389-6692-414c-b58c-9f85f7c8c0c7"
      },
      "outputs": [
        {
          "output_type": "stream",
          "name": "stdout",
          "text": [
            "9 3\n",
            "1 2 3 4 5 6 7 8 9\n",
            "1\n"
          ]
        }
      ],
      "source": [
        "def count(capacity):\n",
        "  cnt=1\n",
        "  sum=0\n",
        "  for x in music:\n",
        "    if sum+x>capacity:\n",
        "      cnt+=1\n",
        "      sum=x\n",
        "\n",
        "    else:\n",
        "      sum+=x\n",
        "\n",
        "    return cnt\n",
        "\n",
        "\n",
        "n,m=map(int,input().split())\n",
        "music=list(map(int,input().split()))\n",
        "lt=1\n",
        "rt=sum(music)\n",
        "res=0\n",
        "while lt<=rt:\n",
        "  mid=(lt+rt)//2\n",
        "  if count(mid)<=m:\n",
        "    res=mid\n",
        "    rt=mid-1\n",
        "  \n",
        "  else:\n",
        "    lt=mid+1\n",
        "\n",
        "print(res)"
      ]
    }
  ]
}