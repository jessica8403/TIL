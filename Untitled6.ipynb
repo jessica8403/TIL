{
  "nbformat": 4,
  "nbformat_minor": 0,
  "metadata": {
    "colab": {
      "name": "Untitled6.ipynb",
      "provenance": [],
      "mount_file_id": "1LyGVLFp1n-clp-vrOyB2-vp6x-4YW114",
      "authorship_tag": "ABX9TyM5sILb7+psnAZKq+/5myrt",
      "include_colab_link": true
    },
    "kernelspec": {
      "name": "python3",
      "display_name": "Python 3"
    },
    "language_info": {
      "name": "python"
    }
  },
  "cells": [
    {
      "cell_type": "markdown",
      "metadata": {
        "id": "view-in-github",
        "colab_type": "text"
      },
      "source": [
        "<a href=\"https://colab.research.google.com/github/jessica8403/TIL/blob/master/Untitled6.ipynb\" target=\"_parent\"><img src=\"https://colab.research.google.com/assets/colab-badge.svg\" alt=\"Open In Colab\"/></a>"
      ]
    },
    {
      "cell_type": "code",
      "execution_count": 1,
      "metadata": {
        "id": "NamsexHSNFAK"
      },
      "outputs": [],
      "source": [
        "import warnings\n",
        "warnings.filterwarnings('always')\n",
        "warnings.filterwarnings('ignore')\n",
        "\n",
        "import numpy as np\n",
        "import pandas as pd\n",
        "\n",
        "import matplotlib.pyplot as plt\n",
        "import seaborn as sns"
      ]
    },
    {
      "cell_type": "code",
      "source": [
        "x = np.array([20, 21, 22, 23, 24])\n",
        "y = np.array([15, 16, 21, 33, 42])"
      ],
      "metadata": {
        "id": "47BQv6--TUng"
      },
      "execution_count": 2,
      "outputs": []
    },
    {
      "cell_type": "code",
      "source": [
        "from scipy.stats import norm\n",
        "\n",
        "sigma = np.sqrt( np.var(x) )\n",
        "norm( loc= 1 * x[0] + 2, scale = sigma ).pdf(y[0]) * \\\n",
        "norm( loc= 1 * x[1] + 2, scale = sigma ).pdf(y[1]) * \\\n",
        "norm( loc= 1 * x[2] + 2, scale = sigma ).pdf(y[2]) * \\\n",
        "norm( loc= 1 * x[3] + 2, scale = sigma ).pdf(y[3]) * \\\n",
        "norm( loc= 1 * x[4] + 2, scale = sigma ).pdf(y[4]) "
      ],
      "metadata": {
        "colab": {
          "base_uri": "https://localhost:8080/"
        },
        "id": "n34badxANGNo",
        "outputId": "edb4ca76-0b11-4ee7-81fb-85dc7965bae4"
      },
      "execution_count": 17,
      "outputs": [
        {
          "output_type": "execute_result",
          "data": {
            "text/plain": [
              "7.781071333767142e-50"
            ]
          },
          "metadata": {},
          "execution_count": 17
        }
      ]
    },
    {
      "cell_type": "code",
      "source": [
        "norm( loc= 10 * x[0] + 12, scale = sigma ).pdf(y[0]) * \\\n",
        "norm( loc= 10 * x[1] + 12, scale = sigma ).pdf(y[1]) * \\\n",
        "norm( loc= 10 * x[2] + 12, scale = sigma ).pdf(y[2]) * \\\n",
        "norm( loc= 10 * x[3] + 12, scale = sigma ).pdf(y[3]) * \\\n",
        "norm( loc= 10 * x[4] + 12, scale = sigma ).pdf(y[4]) "
      ],
      "metadata": {
        "colab": {
          "base_uri": "https://localhost:8080/"
        },
        "id": "YrimOnIHT3wk",
        "outputId": "906b5bd2-9e13-4fd7-9150-96854259d80d"
      },
      "execution_count": 18,
      "outputs": [
        {
          "output_type": "execute_result",
          "data": {
            "text/plain": [
              "0.0"
            ]
          },
          "metadata": {},
          "execution_count": 18
        }
      ]
    },
    {
      "cell_type": "code",
      "source": [
        "sigma = np.sqrt( np.var(x) )\n",
        "np.log(norm( loc= 1 * x[0] + 2, scale = sigma ).pdf(y[0])) + \\\n",
        "np.log(norm( loc= 1 * x[1] + 2, scale = sigma ).pdf(y[1])) + \\\n",
        "np.log(norm( loc= 1 * x[2] + 2, scale = sigma ).pdf(y[2])) + \\\n",
        "np.log(norm( loc= 1 * x[3] + 2, scale = sigma ).pdf(y[3])) + \\\n",
        "np.log(norm( loc= 1 * x[4] + 2, scale = sigma ).pdf(y[4]) )"
      ],
      "metadata": {
        "colab": {
          "base_uri": "https://localhost:8080/"
        },
        "id": "ExM7Zn9rWAj8",
        "outputId": "30ec7162-01d4-40ee-a28b-b221a51d46d4"
      },
      "execution_count": 19,
      "outputs": [
        {
          "output_type": "execute_result",
          "data": {
            "text/plain": [
              "-113.0775606174232"
            ]
          },
          "metadata": {},
          "execution_count": 19
        }
      ]
    },
    {
      "cell_type": "code",
      "source": [
        "np.log(norm( loc= 2 * x[0] + 3, scale = sigma ).pdf(y[0])) + \\\n",
        "np.log(norm( loc= 2 * x[1] + 3, scale = sigma ).pdf(y[1])) + \\\n",
        "np.log(norm( loc= 2 * x[2] + 3, scale = sigma ).pdf(y[2])) + \\\n",
        "np.log(norm( loc= 2 * x[3] + 3, scale = sigma ).pdf(y[3])) + \\\n",
        "np.log(norm( loc= 2 * x[4] + 3, scale = sigma ).pdf(y[4]) )"
      ],
      "metadata": {
        "colab": {
          "base_uri": "https://localhost:8080/"
        },
        "id": "bXUn31AEWvw9",
        "outputId": "f1e2053d-d787-430c-fa17-81ea781e505d"
      },
      "execution_count": 20,
      "outputs": [
        {
          "output_type": "execute_result",
          "data": {
            "text/plain": [
              "-665.8275606174233"
            ]
          },
          "metadata": {},
          "execution_count": 20
        }
      ]
    },
    {
      "cell_type": "code",
      "source": [
        "x = np.array([20, 21, 22, 23, 24])\n",
        "y = np.array([15, 16, 21, 33, 42])"
      ],
      "metadata": {
        "id": "7BfId6NEXOQb"
      },
      "execution_count": 21,
      "outputs": []
    },
    {
      "cell_type": "code",
      "source": [
        "sigma = np.sqrt( np.var(y) )\n",
        "\n",
        "def L(beta):\n",
        "  likelihood = norm( beta[1] * x + beta[0], sigma).pdf(y)\n",
        "  return np.sum( - np.log( likelihood ) )"
      ],
      "metadata": {
        "id": "qrXKtMtNeYj6"
      },
      "execution_count": 22,
      "outputs": []
    },
    {
      "cell_type": "code",
      "source": [
        "from scipy.optimize import minimize"
      ],
      "metadata": {
        "id": "wNRpol_neldF"
      },
      "execution_count": 23,
      "outputs": []
    },
    {
      "cell_type": "code",
      "source": [
        "beta = np.array([0, 0])\n",
        "result = minimize( L, beta )\n",
        "result.x"
      ],
      "metadata": {
        "colab": {
          "base_uri": "https://localhost:8080/"
        },
        "id": "7004F_PceuPw",
        "outputId": "ac450848-89bd-4ee9-a073-c28d65d368ce"
      },
      "execution_count": 24,
      "outputs": [
        {
          "output_type": "execute_result",
          "data": {
            "text/plain": [
              "array([-130.80034496,    7.10001519])"
            ]
          },
          "metadata": {},
          "execution_count": 24
        }
      ]
    },
    {
      "cell_type": "code",
      "source": [
        "plt.plot( x, y, 'o' )\n",
        "plt.plot( x, 7.1 * x + -130.8, 'o')\n",
        "\n",
        "plt.grid()\n",
        "plt.show()"
      ],
      "metadata": {
        "colab": {
          "base_uri": "https://localhost:8080/",
          "height": 265
        },
        "id": "hJb3D3zlewz5",
        "outputId": "f1b65b11-916c-4a80-b2cc-646a89ca60e2"
      },
      "execution_count": 25,
      "outputs": [
        {
          "output_type": "display_data",
          "data": {
            "image/png": "[encoded data removed]",
            "text/plain": [
              "<Figure size 432x288 with 1 Axes>"
            ]
          },
          "metadata": {
            "needs_background": "light"
          }
        }
      ]
    },
    {
      "cell_type": "code",
      "source": [
        ""
      ],
      "metadata": {
        "id": "sVtoQTiUhChh"
      },
      "execution_count": null,
      "outputs": []
    }
  ]
}