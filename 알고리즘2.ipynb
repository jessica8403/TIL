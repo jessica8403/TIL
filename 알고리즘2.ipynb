{
  "nbformat": 4,
  "nbformat_minor": 0,
  "metadata": {
    "colab": {
      "name": "알고리즘2.ipynb",
      "provenance": [],
      "authorship_tag": "ABX9TyMgO8WNMuZkq5RWQk4+FiDy",
      "include_colab_link": true
    },
    "kernelspec": {
      "name": "python3",
      "display_name": "Python 3"
    },
    "language_info": {
      "name": "python"
    }
  },
  "cells": [
    {
      "cell_type": "markdown",
      "metadata": {
        "id": "view-in-github",
        "colab_type": "text"
      },
      "source": [
        "<a href=\"https://colab.research.google.com/github/jessica8403/TIL/blob/master/%EC%95%8C%EA%B3%A0%EB%A6%AC%EC%A6%982.ipynb\" target=\"_parent\"><img src=\"https://colab.research.google.com/assets/colab-badge.svg\" alt=\"Open In Colab\"/></a>"
      ]
    },
    {
      "cell_type": "code",
      "execution_count": 1,
      "metadata": {
        "colab": {
          "base_uri": "https://localhost:8080/"
        },
        "id": "rw9Pflbnutmv",
        "outputId": "9049f524-892c-42f3-f524-dedbb54f717f"
      },
      "outputs": [
        {
          "output_type": "stream",
          "name": "stdout",
          "text": [
            "출구<-- ['화사', '솔라', '문별', None, None] <--입구\n",
            "식사할 손님 :  화사\n",
            "식사할 손님 :  솔라\n",
            "식사할 손님 :  문별\n",
            "출구<-- [None, None, None, None, None] <--입구\n"
          ]
        }
      ],
      "source": [
        "## 함수\n",
        "## 전역\n",
        "SIZE = 5\n",
        "queue = [None for _ in range(SIZE)]\n",
        "front=rear=-1\n",
        "## 메인\n",
        "# enQueue\n",
        "rear += 1\n",
        "queue[rear] = '화사'\n",
        "rear += 1\n",
        "queue[rear] = '솔라'\n",
        "rear += 1\n",
        "queue[rear] = '문별'\n",
        "print('출구<--', queue, '<--입구')\n",
        "# deQueue\n",
        "front += 1\n",
        "data = queue[front]\n",
        "queue[front] = None\n",
        "print('식사할 손님 : ', data)\n",
        "front += 1\n",
        "data = queue[front]\n",
        "queue[front] = None\n",
        "print('식사할 손님 : ', data)\n",
        "front += 1\n",
        "data = queue[front]\n",
        "queue[front] = None\n",
        "print('식사할 손님 : ', data)\n",
        "print('출구<--', queue, '<--입구')"
      ]
    },
    {
      "cell_type": "code",
      "source": [
        "## 함수\n",
        "def isQueueFull() :\n",
        "    global SIZE, queue, front, rear\n",
        "    if (rear != SIZE-1) :\n",
        "        return False\n",
        "    elif (rear == SIZE-1) and (front == -1) :\n",
        "        return True\n",
        "    else :\n",
        "        for i in range(front+1, SIZE) :\n",
        "            queue[i-1] = queue[i]\n",
        "            queue[i] = None\n",
        "        front -= 1\n",
        "        rear -= 1\n",
        "        return False\n",
        "\n",
        "def enQueue(data) :\n",
        "    global SIZE, queue, front, rear\n",
        "    if (isQueueFull()) :\n",
        "        print('큐 꽉!')\n",
        "        return\n",
        "    rear += 1\n",
        "    queue[rear] = data\n",
        "\n",
        "def isQueueEmpty() :\n",
        "    global SIZE, queue, front, rear\n",
        "    if (front == rear) :\n",
        "        return True\n",
        "    else :\n",
        "        return False\n",
        "\n",
        "def deQueue() :\n",
        "    global SIZE, queue, front, rear\n",
        "    if (isQueueEmpty()) :\n",
        "        print('큐 텅~')\n",
        "        return None\n",
        "    front += 1\n",
        "    data = queue[front]\n",
        "    queue[front] = None\n",
        "    return data\n",
        "\n",
        "def peek() :\n",
        "    global SIZE, queue, front, rear\n",
        "    if (isQueueEmpty()) :\n",
        "        print('큐 텅~')\n",
        "        return None\n",
        "    return queue[front+1]\n",
        "\n",
        "## 전역\n",
        "SIZE = 5\n",
        "queue = [None for _ in range(SIZE)]\n",
        "front=rear=-1\n",
        "\n",
        "## 메인\n",
        "enQueue('화사')\n",
        "enQueue('솔라')\n",
        "enQueue('문별')\n",
        "enQueue('휘인')\n",
        "enQueue('선미')\n",
        "print('출구<--', queue, '<--입구')\n",
        "print('입장 손님 : ', deQueue())\n",
        "print('입장 손님 : ', deQueue())\n",
        "print('출구<--', queue, '<--입구')\n",
        "enQueue('재남')\n",
        "print('출구<--', queue, '<--입구')\n",
        "enQueue('BTS')\n",
        "print('출구<--', queue, '<--입구')\n",
        "enQueue('울랄라')\n",
        "print('출구<--', queue, '<--입구')\n"
      ],
      "metadata": {
        "colab": {
          "base_uri": "https://localhost:8080/"
        },
        "id": "YWmRKVv8DHSL",
        "outputId": "164c144f-e9ed-4af0-8e34-6a0f18f7f15f"
      },
      "execution_count": 5,
      "outputs": [
        {
          "output_type": "stream",
          "name": "stdout",
          "text": [
            "출구<-- ['화사', '솔라', '문별', '휘인', '선미'] <--입구\n",
            "입장 손님 :  화사\n",
            "입장 손님 :  솔라\n",
            "출구<-- [None, None, '문별', '휘인', '선미'] <--입구\n",
            "출구<-- [None, '문별', '휘인', '선미', '재남'] <--입구\n",
            "출구<-- ['문별', '휘인', '선미', '재남', 'BTS'] <--입구\n",
            "큐 꽉!\n",
            "출구<-- ['문별', '휘인', '선미', '재남', 'BTS'] <--입구\n"
          ]
        }
      ]
    },
    {
      "cell_type": "code",
      "source": [
        "## 함수\n",
        "def isQueueFull() :\n",
        "    global SIZE, queue, front, rear\n",
        "    if ( (rear+1)%SIZE == front) :\n",
        "        return True\n",
        "    else :\n",
        "        return False\n",
        "\n",
        "def enQueue(data) :\n",
        "    global SIZE, queue, front, rear\n",
        "    if (isQueueFull()) :\n",
        "        print('큐 꽉!')\n",
        "        return\n",
        "    rear = (rear + 1) %SIZE\n",
        "    queue[rear] = data\n",
        "\n",
        "def isQueueEmpty() :\n",
        "    global SIZE, queue, front, rear\n",
        "    if (front == rear) :\n",
        "        return True\n",
        "    else :\n",
        "        return False\n",
        "\n",
        "def deQueue() :\n",
        "    global SIZE, queue, front, rear\n",
        "    if (isQueueEmpty()) :\n",
        "        print('큐 텅~')\n",
        "        return None\n",
        "    front = (front + 1) %SIZE\n",
        "    data = queue[front]\n",
        "    queue[front] = None\n",
        "    return data\n",
        "\n",
        "def peek() :\n",
        "    global SIZE, queue, front, rear\n",
        "    if (isQueueEmpty()) :\n",
        "        print('큐 텅~')\n",
        "        return None\n",
        "    return queue[ (front+1) % SIZE]\n",
        "\n",
        "## 전역\n",
        "SIZE = 5\n",
        "queue = [None for _ in range(SIZE)]\n",
        "front=rear=0\n",
        "\n",
        "## 메인\n",
        "enQueue('화사')\n",
        "enQueue('솔라')\n",
        "enQueue('문별')\n",
        "enQueue('휘인')\n",
        "enQueue('선미')\n",
        "print('출구<--', queue, '<--입구')\n",
        "print('입장 손님 : ', deQueue())\n",
        "print('입장 손님 : ', deQueue())\n",
        "print('출구<--', queue, '<--입구')\n",
        "enQueue('선미')\n",
        "print('출구<--', queue, '<--입구')\n"
      ],
      "metadata": {
        "colab": {
          "base_uri": "https://localhost:8080/"
        },
        "id": "f-3cWgefQkLF",
        "outputId": "1235228b-b63e-4e99-9636-55efbc7a4017"
      },
      "execution_count": 7,
      "outputs": [
        {
          "output_type": "stream",
          "name": "stdout",
          "text": [
            "큐 꽉!\n",
            "출구<-- [None, '화사', '솔라', '문별', '휘인'] <--입구\n",
            "입장 손님 :  화사\n",
            "입장 손님 :  솔라\n",
            "출구<-- [None, None, None, '문별', '휘인'] <--입구\n",
            "출구<-- ['선미', None, None, '문별', '휘인'] <--입구\n"
          ]
        }
      ]
    },
    {
      "cell_type": "code",
      "source": [
        "## 함수/클래스\n",
        "class TreeNode() :\n",
        "    def __init__(self):\n",
        "        self.left = None\n",
        "        self.data = None\n",
        "        self.right = None\n",
        "\n",
        "## 전역\n",
        "\n",
        "\n",
        "## 메인\n",
        "node1 = TreeNode()\n",
        "node1.data = '화사'\n",
        "\n",
        "node2 = TreeNode()\n",
        "node2.data = '솔라'\n",
        "node1.left = node2\n",
        "node3 = TreeNode(); node3.data = '문별'; node1.right = node3\n",
        "node4 = TreeNode();node4.data = '휘인';node2.left = node4\n",
        "node5 = TreeNode();node5.data = '쯔위';node2.right = node5\n",
        "node6 = TreeNode();node6.data = '선미';node3.left = node6\n",
        "\n",
        "print(node1.data)\n",
        "print(node1.left.data, node1.right.data)\n",
        "print(node1.left.left.data, node1.left.right.data, node1.right.left.data)\n"
      ],
      "metadata": {
        "colab": {
          "base_uri": "https://localhost:8080/"
        },
        "id": "JDLFKUY4qCN0",
        "outputId": "fb90f3f6-26e0-4251-dd1d-1861a7f1ba29"
      },
      "execution_count": 9,
      "outputs": [
        {
          "output_type": "stream",
          "name": "stdout",
          "text": [
            "화사\n",
            "솔라 문별\n",
            "휘인 쯔위 선미\n"
          ]
        }
      ]
    }
  ]
}