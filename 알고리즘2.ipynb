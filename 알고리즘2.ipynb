{
  "nbformat": 4,
  "nbformat_minor": 0,
  "metadata": {
    "colab": {
      "name": "알고리즘2.ipynb",
      "provenance": [],
      "authorship_tag": "ABX9TyOsHRZV6SvsrvGqGQArm7Kk",
      "include_colab_link": true
    },
    "kernelspec": {
      "name": "python3",
      "display_name": "Python 3"
    },
    "language_info": {
      "name": "python"
    }
  },
  "cells": [
    {
      "cell_type": "markdown",
      "metadata": {
        "id": "view-in-github",
        "colab_type": "text"
      },
      "source": [
        "<a href=\"https://colab.research.google.com/github/jessica8403/TIL/blob/master/%EC%95%8C%EA%B3%A0%EB%A6%AC%EC%A6%982.ipynb\" target=\"_parent\"><img src=\"https://colab.research.google.com/assets/colab-badge.svg\" alt=\"Open In Colab\"/></a>"
      ]
    },
    {
      "cell_type": "code",
      "execution_count": 1,
      "metadata": {
        "colab": {
          "base_uri": "https://localhost:8080/"
        },
        "id": "rw9Pflbnutmv",
        "outputId": "9049f524-892c-42f3-f524-dedbb54f717f"
      },
      "outputs": [
        {
          "output_type": "stream",
          "name": "stdout",
          "text": [
            "출구<-- ['화사', '솔라', '문별', None, None] <--입구\n",
            "식사할 손님 :  화사\n",
            "식사할 손님 :  솔라\n",
            "식사할 손님 :  문별\n",
            "출구<-- [None, None, None, None, None] <--입구\n"
          ]
        }
      ],
      "source": [
        "## 함수\n",
        "## 전역\n",
        "SIZE = 5\n",
        "queue = [None for _ in range(SIZE)]\n",
        "front=rear=-1\n",
        "## 메인\n",
        "# enQueue\n",
        "rear += 1\n",
        "queue[rear] = '화사'\n",
        "rear += 1\n",
        "queue[rear] = '솔라'\n",
        "rear += 1\n",
        "queue[rear] = '문별'\n",
        "print('출구<--', queue, '<--입구')\n",
        "# deQueue\n",
        "front += 1\n",
        "data = queue[front]\n",
        "queue[front] = None\n",
        "print('식사할 손님 : ', data)\n",
        "front += 1\n",
        "data = queue[front]\n",
        "queue[front] = None\n",
        "print('식사할 손님 : ', data)\n",
        "front += 1\n",
        "data = queue[front]\n",
        "queue[front] = None\n",
        "print('식사할 손님 : ', data)\n",
        "print('출구<--', queue, '<--입구')"
      ]
    },
    {
      "cell_type": "code",
      "source": [
        "## 함수\n",
        "def isQueueFull() :\n",
        "    global SIZE, queue, front, rear\n",
        "    if (rear != SIZE-1) :\n",
        "        return False\n",
        "    elif (rear == SIZE-1) and (front == -1) :\n",
        "        return True\n",
        "    else :\n",
        "        for i in range(front+1, SIZE) :\n",
        "            queue[i-1] = queue[i]\n",
        "            queue[i] = None\n",
        "        front -= 1\n",
        "        rear -= 1\n",
        "        return False\n",
        "\n",
        "def enQueue(data) :\n",
        "    global SIZE, queue, front, rear\n",
        "    if (isQueueFull()) :\n",
        "        print('큐 꽉!')\n",
        "        return\n",
        "    rear += 1\n",
        "    queue[rear] = data\n",
        "\n",
        "def isQueueEmpty() :\n",
        "    global SIZE, queue, front, rear\n",
        "    if (front == rear) :\n",
        "        return True\n",
        "    else :\n",
        "        return False\n",
        "\n",
        "def deQueue() :\n",
        "    global SIZE, queue, front, rear\n",
        "    if (isQueueEmpty()) :\n",
        "        print('큐 텅~')\n",
        "        return None\n",
        "    front += 1\n",
        "    data = queue[front]\n",
        "    queue[front] = None\n",
        "    return data\n",
        "\n",
        "def peek() :\n",
        "    global SIZE, queue, front, rear\n",
        "    if (isQueueEmpty()) :\n",
        "        print('큐 텅~')\n",
        "        return None\n",
        "    return queue[front+1]\n",
        "\n",
        "## 전역\n",
        "SIZE = 5\n",
        "queue = [None for _ in range(SIZE)]\n",
        "front=rear=-1\n",
        "\n",
        "## 메인\n",
        "enQueue('화사')\n",
        "enQueue('솔라')\n",
        "enQueue('문별')\n",
        "enQueue('휘인')\n",
        "enQueue('선미')\n",
        "print('출구<--', queue, '<--입구')\n",
        "print('입장 손님 : ', deQueue())\n",
        "print('입장 손님 : ', deQueue())\n",
        "print('출구<--', queue, '<--입구')\n",
        "enQueue('재남')\n",
        "print('출구<--', queue, '<--입구')\n",
        "enQueue('BTS')\n",
        "print('출구<--', queue, '<--입구')\n",
        "enQueue('울랄라')\n",
        "print('출구<--', queue, '<--입구')\n"
      ],
      "metadata": {
        "colab": {
          "base_uri": "https://localhost:8080/"
        },
        "id": "YWmRKVv8DHSL",
        "outputId": "164c144f-e9ed-4af0-8e34-6a0f18f7f15f"
      },
      "execution_count": 5,
      "outputs": [
        {
          "output_type": "stream",
          "name": "stdout",
          "text": [
            "출구<-- ['화사', '솔라', '문별', '휘인', '선미'] <--입구\n",
            "입장 손님 :  화사\n",
            "입장 손님 :  솔라\n",
            "출구<-- [None, None, '문별', '휘인', '선미'] <--입구\n",
            "출구<-- [None, '문별', '휘인', '선미', '재남'] <--입구\n",
            "출구<-- ['문별', '휘인', '선미', '재남', 'BTS'] <--입구\n",
            "큐 꽉!\n",
            "출구<-- ['문별', '휘인', '선미', '재남', 'BTS'] <--입구\n"
          ]
        }
      ]
    },
    {
      "cell_type": "code",
      "source": [
        "## 함수\n",
        "def isQueueFull() :\n",
        "    global SIZE, queue, front, rear\n",
        "    if ( (rear+1)%SIZE == front) :\n",
        "        return True\n",
        "    else :\n",
        "        return False\n",
        "\n",
        "def enQueue(data) :\n",
        "    global SIZE, queue, front, rear\n",
        "    if (isQueueFull()) :\n",
        "        print('큐 꽉!')\n",
        "        return\n",
        "    rear = (rear + 1) %SIZE\n",
        "    queue[rear] = data\n",
        "\n",
        "def isQueueEmpty() :\n",
        "    global SIZE, queue, front, rear\n",
        "    if (front == rear) :\n",
        "        return True\n",
        "    else :\n",
        "        return False\n",
        "\n",
        "def deQueue() :\n",
        "    global SIZE, queue, front, rear\n",
        "    if (isQueueEmpty()) :\n",
        "        print('큐 텅~')\n",
        "        return None\n",
        "    front = (front + 1) %SIZE\n",
        "    data = queue[front]\n",
        "    queue[front] = None\n",
        "    return data\n",
        "\n",
        "def peek() :\n",
        "    global SIZE, queue, front, rear\n",
        "    if (isQueueEmpty()) :\n",
        "        print('큐 텅~')\n",
        "        return None\n",
        "    return queue[ (front+1) % SIZE]\n",
        "\n",
        "## 전역\n",
        "SIZE = 5\n",
        "queue = [None for _ in range(SIZE)]\n",
        "front=rear=0\n",
        "\n",
        "## 메인\n",
        "enQueue('화사')\n",
        "enQueue('솔라')\n",
        "enQueue('문별')\n",
        "enQueue('휘인')\n",
        "enQueue('선미')\n",
        "print('출구<--', queue, '<--입구')\n",
        "print('입장 손님 : ', deQueue())\n",
        "print('입장 손님 : ', deQueue())\n",
        "print('출구<--', queue, '<--입구')\n",
        "enQueue('선미')\n",
        "print('출구<--', queue, '<--입구')\n"
      ],
      "metadata": {
        "colab": {
          "base_uri": "https://localhost:8080/"
        },
        "id": "f-3cWgefQkLF",
        "outputId": "1235228b-b63e-4e99-9636-55efbc7a4017"
      },
      "execution_count": 7,
      "outputs": [
        {
          "output_type": "stream",
          "name": "stdout",
          "text": [
            "큐 꽉!\n",
            "출구<-- [None, '화사', '솔라', '문별', '휘인'] <--입구\n",
            "입장 손님 :  화사\n",
            "입장 손님 :  솔라\n",
            "출구<-- [None, None, None, '문별', '휘인'] <--입구\n",
            "출구<-- ['선미', None, None, '문별', '휘인'] <--입구\n"
          ]
        }
      ]
    },
    {
      "cell_type": "code",
      "source": [
        "## 함수/클래스\n",
        "class TreeNode() :\n",
        "    def __init__(self):\n",
        "        self.left = None\n",
        "        self.data = None\n",
        "        self.right = None\n",
        "\n",
        "## 전역\n",
        "\n",
        "\n",
        "## 메인\n",
        "node1 = TreeNode()\n",
        "node1.data = '화사'\n",
        "\n",
        "node2 = TreeNode()\n",
        "node2.data = '솔라'\n",
        "node1.left = node2\n",
        "node3 = TreeNode(); node3.data = '문별'; node1.right = node3\n",
        "node4 = TreeNode();node4.data = '휘인';node2.left = node4\n",
        "node5 = TreeNode();node5.data = '쯔위';node2.right = node5\n",
        "node6 = TreeNode();node6.data = '선미';node3.left = node6\n",
        "\n",
        "print(node1.data)\n",
        "print(node1.left.data, node1.right.data)\n",
        "print(node1.left.left.data, node1.left.right.data, node1.right.left.data)\n"
      ],
      "metadata": {
        "colab": {
          "base_uri": "https://localhost:8080/"
        },
        "id": "JDLFKUY4qCN0",
        "outputId": "fb90f3f6-26e0-4251-dd1d-1861a7f1ba29"
      },
      "execution_count": 9,
      "outputs": [
        {
          "output_type": "stream",
          "name": "stdout",
          "text": [
            "화사\n",
            "솔라 문별\n",
            "휘인 쯔위 선미\n"
          ]
        }
      ]
    },
    {
      "cell_type": "code",
      "source": [
        "## 함수\n",
        "class TreeNode() :\n",
        "    def __init__(self):\n",
        "        self.left = None\n",
        "        self.data = None\n",
        "        self.right = None\n",
        "## 전역\n",
        "memory = []\n",
        "root = None\n",
        "nameAry = ['블랙핑크', '레드벨벳', '마마무', '에이핑크', '걸스데이', '트와이스']\n",
        "## 메인\n",
        "node = TreeNode()\n",
        "node.data = nameAry[0]\n",
        "root = node\n",
        "memory.append(node)\n",
        "\n",
        "for name in nameAry[1:] : # ['레드벨벳', '마마무', '에이핑크', '걸스데이', '트와이스']\n",
        "    node = TreeNode()\n",
        "    node.data = name\n",
        "\n",
        "    current = root\n",
        "    while True :\n",
        "        if name < current.data :\n",
        "            if current.left == None:\n",
        "                current.left = node\n",
        "                break\n",
        "            current = current.left\n",
        "        else :\n",
        "            if current.right == None:\n",
        "                current.right = node\n",
        "                break\n",
        "            current = current.right\n",
        "\n",
        "    memory.append(node)\n",
        "\n",
        "print('이진 탐색 트리 구성 완료!')\n",
        "\n",
        "\n",
        "#이진탐색 트리의 활용(검색)\n",
        "findName='마마무'\n",
        "current= root\n",
        "\n",
        "while True:\n",
        "  if findName== current.data:\n",
        "    print(findName, '찾음')\n",
        "    break\n",
        "  elif findName < current.data:\n",
        "    if current.left ==None:\n",
        "      print(findName, '없음')\n",
        "      break \n",
        "    current = current.left \n",
        "  \n",
        "  else: \n",
        "    if current.right ==None:\n",
        "      print(findName, '없음')\n",
        "      break \n",
        "    current = current.right\n",
        "\n",
        "print('종료')\n"
      ],
      "metadata": {
        "colab": {
          "base_uri": "https://localhost:8080/"
        },
        "id": "aOXu_QXarUsA",
        "outputId": "59f29c83-75ea-4781-af63-c7303876719a"
      },
      "execution_count": 11,
      "outputs": [
        {
          "output_type": "stream",
          "name": "stdout",
          "text": [
            "이진 탐색 트리 구성 완료!\n",
            "마마무 찾음\n",
            "종료\n"
          ]
        }
      ]
    },
    {
      "cell_type": "code",
      "source": [
        "## 함수\n",
        "class Graph() :\n",
        "    def __init__(self, size):\n",
        "        self.SIZE = size\n",
        "        self.graph = [ [0 for _ in range(size)] for _ in range(size)]\n",
        "\n",
        "## 전역\n",
        "G = None\n",
        "\n",
        "## 메인\n",
        "G = Graph(4)\n",
        "G.graph[0][1] = 1; G.graph[0][2]=1; G.graph[0][3] = 1\n",
        "G.graph[1][2] = 1\n",
        "G.graph[2][3] = 1\n",
        "\n",
        "G.graph[1][0] = 1; G.graph[2][0]=1; G.graph[3][0] = 1\n",
        "G.graph[2][1] = 1\n",
        "G.graph[3][2] = 1\n",
        "\n",
        "\n",
        "for row in range(4) :\n",
        "    for col in range(4) :\n",
        "        print(G.graph[row][col], end= ' ')\n",
        "    print()\n",
        "\n",
        "\n",
        "\n",
        "\n",
        "\n"
      ],
      "metadata": {
        "colab": {
          "base_uri": "https://localhost:8080/"
        },
        "id": "zWQnEU1Z79IH",
        "outputId": "49f67e5c-e2c3-47d8-f4b8-7e847fbc7b3d"
      },
      "execution_count": 23,
      "outputs": [
        {
          "output_type": "stream",
          "name": "stdout",
          "text": [
            "0 1 1 1 \n",
            "1 0 1 0 \n",
            "1 1 0 1 \n",
            "1 0 1 0 \n"
          ]
        }
      ]
    },
    {
      "cell_type": "code",
      "source": [
        "import random\n",
        "## 함수\n",
        "def findMinIndex(ary) :\n",
        "    minIdx = 0\n",
        "    for i in range(1, len(ary)) :\n",
        "        if(ary[minIdx] > ary[i]) :\n",
        "            minIdx = i\n",
        "    return minIdx\n",
        "\n",
        "## 전역\n",
        "#testAry = [55, 88, 33, 77]\n",
        "testAry = [ random.randint(1, 99) for _ in range(20)]\n",
        "\n",
        "## 메인\n",
        "print(testAry)\n",
        "minPos = findMinIndex(testAry)\n",
        "print('최소값-->', testAry[minPos])\n"
      ],
      "metadata": {
        "colab": {
          "base_uri": "https://localhost:8080/"
        },
        "id": "P5OFtjEdGD5a",
        "outputId": "9d0a1ad1-2ce5-460b-be91-9c9d0eb23e9f"
      },
      "execution_count": 26,
      "outputs": [
        {
          "output_type": "stream",
          "name": "stdout",
          "text": [
            "[58, 21, 17, 50, 51, 72, 22, 36, 34, 34, 92, 42, 1, 89, 92, 72, 66, 14, 95, 27]\n",
            "최소값--> 1\n"
          ]
        }
      ]
    },
    {
      "cell_type": "code",
      "source": [
        "import random\n",
        "## 선택정렬 1 --> 기본 (실무)\n",
        "## 함수\n",
        "def findMinIndex(ary) :\n",
        "    minIdx = 0\n",
        "    for i in range(1, len(ary)) :\n",
        "        if(ary[minIdx] > ary[i]) :\n",
        "            minIdx = i\n",
        "    return minIdx\n",
        "\n",
        "## 전역\n",
        "before = [ random.randint(10, 99) for _ in range(20)]\n",
        "after = []\n",
        "\n",
        "## 메인\n",
        "print('정렬 전-->', before)\n",
        "for i in range(len(before)) :\n",
        "    minPos = findMinIndex(before)\n",
        "    after.append(before[minPos])\n",
        "    del (before[minPos])\n",
        "print('정렬 후-->', after)\n",
        "\n"
      ],
      "metadata": {
        "colab": {
          "base_uri": "https://localhost:8080/"
        },
        "id": "WE5KQSUZIZWs",
        "outputId": "d5ea9c09-22d9-428d-b300-3c9aaacbf6b4"
      },
      "execution_count": 28,
      "outputs": [
        {
          "output_type": "stream",
          "name": "stdout",
          "text": [
            "정렬 전--> [97, 17, 82, 37, 57, 95, 58, 37, 87, 29, 85, 28, 94, 15, 83, 67, 93, 71, 85, 54]\n",
            "정렬 후--> [15, 17, 28, 29, 37, 37, 54, 57, 58, 67, 71, 82, 83, 85, 85, 87, 93, 94, 95, 97]\n"
          ]
        }
      ]
    },
    {
      "cell_type": "code",
      "source": [
        "import random\n",
        "## 함수\n",
        "def selectionSort(ary) :\n",
        "    n = len(ary)\n",
        "    for cy in range(0, n-1) :\n",
        "        minIdx = cy\n",
        "        for i in range(cy+1, n):\n",
        "            if (ary[minIdx] > ary[i]):\n",
        "                minIdx = i\n",
        "        ary[cy], ary[minIdx] = ary[minIdx], ary[cy]\n",
        "    return ary\n",
        "\n",
        "## 전역\n",
        "dataAry = [ random.randint(10, 99) for _ in range(20)]\n",
        "\n",
        "## 메인\n",
        "print('정렬 전 -->', dataAry)\n",
        "dataAry = selectionSort(dataAry)\n",
        "print('정렬 후 -->', dataAry)\n"
      ],
      "metadata": {
        "colab": {
          "base_uri": "https://localhost:8080/"
        },
        "id": "JHr14GhQPYXO",
        "outputId": "0a581156-9fcc-4f0b-e31e-32a11c6d6913"
      },
      "execution_count": 29,
      "outputs": [
        {
          "output_type": "stream",
          "name": "stdout",
          "text": [
            "정렬 전 --> [17, 56, 40, 51, 24, 39, 53, 15, 40, 67, 90, 15, 67, 33, 70, 73, 32, 95, 66, 89]\n",
            "정렬 후 --> [15, 15, 17, 24, 32, 33, 39, 40, 40, 51, 53, 56, 66, 67, 67, 70, 73, 89, 90, 95]\n"
          ]
        }
      ]
    },
    {
      "cell_type": "code",
      "source": [
        "import random\n",
        "## 함수\n",
        "def seqSearch(ary, fData) :\n",
        "    pos = -1\n",
        "    for i in range(len(ary)) :\n",
        "        if ary[i] == fData :\n",
        "            pos = i\n",
        "            break\n",
        "    return pos\n",
        "\n",
        "## 전역\n",
        "dataAry = [ random.randint(10, 99) for _ in range(20)]\n",
        "findData = dataAry[random.randint(0,19)]\n",
        "\n",
        "## 메인\n",
        "print('배열 -->', dataAry)\n",
        "position = seqSearch(dataAry, findData)\n",
        "if position == -1 :\n",
        "    print(findData, ' 없어요ㅠㅠ')\n",
        "else :\n",
        "    print(findData, '는', position, '위치에 있어요')"
      ],
      "metadata": {
        "colab": {
          "base_uri": "https://localhost:8080/"
        },
        "id": "uLGEVmHcTPaJ",
        "outputId": "65ca9ecc-8822-43d0-c280-1e58fb2bb650"
      },
      "execution_count": 30,
      "outputs": [
        {
          "output_type": "stream",
          "name": "stdout",
          "text": [
            "배열 --> [34, 45, 24, 80, 25, 79, 69, 55, 96, 41, 32, 19, 38, 70, 46, 85, 81, 50, 13, 67]\n",
            "50 는 17 위치에 있어요\n"
          ]
        }
      ]
    }
  ]
}