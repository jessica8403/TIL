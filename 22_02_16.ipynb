{
  "nbformat": 4,
  "nbformat_minor": 0,
  "metadata": {
    "colab": {
      "name": "22.02.16.ipynb",
      "provenance": [],
      "authorship_tag": "ABX9TyP/cTDa2Nrm0nGW/UhlDSV5",
      "include_colab_link": true
    },
    "kernelspec": {
      "name": "python3",
      "display_name": "Python 3"
    },
    "language_info": {
      "name": "python"
    }
  },
  "cells": [
    {
      "cell_type": "markdown",
      "metadata": {
        "id": "view-in-github",
        "colab_type": "text"
      },
      "source": [
        "<a href=\"https://colab.research.google.com/github/jessica8403/TIL/blob/master/22_02_16.ipynb\" target=\"_parent\"><img src=\"https://colab.research.google.com/assets/colab-badge.svg\" alt=\"Open In Colab\"/></a>"
      ]
    },
    {
      "cell_type": "code",
      "execution_count": 3,
      "metadata": {
        "colab": {
          "base_uri": "https://localhost:8080/"
        },
        "id": "LgUkccXIY9_-",
        "outputId": "43ff0dfc-209b-4c0e-b33c-aeec39d6c8ed"
      },
      "outputs": [
        {
          "output_type": "stream",
          "name": "stdout",
          "text": [
            "3\n",
            "3 3 6\n",
            "2 2 2\n",
            "6 2 5\n",
            "12000\n"
          ]
        }
      ],
      "source": [
        "n= int(input())\n",
        "\n",
        "res=0\n",
        "\n",
        "\n",
        "for i in range(n):\n",
        "  tmp=input().split()\n",
        "  tmp.sort()\n",
        "  a,b,c=map(int,tmp)\n",
        "  if a==b and b==c:\n",
        "    money=10000+a*1000\n",
        "  \n",
        "  elif a==b or a==c:\n",
        "    money=1000+a*100\n",
        "\n",
        "  elif b==c:\n",
        "    money=1000+b*100\n",
        "  \n",
        "  else:\n",
        "    money=c*100\n",
        "\n",
        "  if money>res:\n",
        "    res=money\n",
        "\n",
        "\n",
        "print(res)\n",
        "\n",
        "\n"
      ]
    }
  ]
}