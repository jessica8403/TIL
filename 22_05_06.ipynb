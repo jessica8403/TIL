{
  "nbformat": 4,
  "nbformat_minor": 0,
  "metadata": {
    "colab": {
      "name": "22.05.06.ipynb",
      "provenance": [],
      "authorship_tag": "ABX9TyNJRrsoCS2OZWF4lUue0TgH",
      "include_colab_link": true
    },
    "kernelspec": {
      "name": "python3",
      "display_name": "Python 3"
    },
    "language_info": {
      "name": "python"
    }
  },
  "cells": [
    {
      "cell_type": "markdown",
      "metadata": {
        "id": "view-in-github",
        "colab_type": "text"
      },
      "source": [
        "<a href=\"https://colab.research.google.com/github/jessica8403/TIL/blob/master/22_05_06.ipynb\" target=\"_parent\"><img src=\"https://colab.research.google.com/assets/colab-badge.svg\" alt=\"Open In Colab\"/></a>"
      ]
    },
    {
      "cell_type": "code",
      "execution_count": 1,
      "metadata": {
        "colab": {
          "base_uri": "https://localhost:8080/"
        },
        "id": "bPKDfFuoLe0O",
        "outputId": "217ae9cd-0cfc-432b-b05b-270bf349ed5d"
      },
      "outputs": [
        {
          "output_type": "stream",
          "name": "stdout",
          "text": [
            "8 32\n",
            "23 87 65 12 57 32 99 81\n",
            "3\n"
          ]
        }
      ],
      "source": [
        "n,m=map(int,input().split())\n",
        "a=list(map(int,input().split()))\n",
        "a.sort()\n",
        "lt=0\n",
        "rt=n-1\n",
        "while lt<=rt:\n",
        "  mid=(lt+rt)//2\n",
        "  if a[mid]==m:\n",
        "    print(mid+1)\n",
        "    break\n",
        "  \n",
        "  elif a[mid]>m:\n",
        "    rt=mid-1\n",
        "\n",
        "  else:\n",
        "    lt=mid+1\n",
        "    "
      ]
    }
  ]
}