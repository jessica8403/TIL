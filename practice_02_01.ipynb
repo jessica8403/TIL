{
  "nbformat": 4,
  "nbformat_minor": 0,
  "metadata": {
    "colab": {
      "name": "practice 02-01.ipynb",
      "provenance": [],
      "authorship_tag": "ABX9TyPXL25l0U8Zayu/h8wDFSuK",
      "include_colab_link": true
    },
    "kernelspec": {
      "name": "python3",
      "display_name": "Python 3"
    },
    "language_info": {
      "name": "python"
    }
  },
  "cells": [
    {
      "cell_type": "markdown",
      "metadata": {
        "id": "view-in-github",
        "colab_type": "text"
      },
      "source": [
        "<a href=\"https://colab.research.google.com/github/jessica8403/TIL/blob/master/practice_02_01.ipynb\" target=\"_parent\"><img src=\"https://colab.research.google.com/assets/colab-badge.svg\" alt=\"Open In Colab\"/></a>"
      ]
    },
    {
      "cell_type": "code",
      "execution_count": 2,
      "metadata": {
        "colab": {
          "base_uri": "https://localhost:8080/"
        },
        "id": "aDKTsI1ZlvEc",
        "outputId": "3bf48986-1fbe-4601-c047-8294a8222d24"
      },
      "outputs": [
        {
          "output_type": "stream",
          "name": "stdout",
          "text": [
            "2\n",
            "6 2 5 3\n",
            "5 2 7 3 8 9\n",
            "15 3 10 3\n",
            "4 15 8 16 6 6 17 3 10 11 18 7 14 7  15\n",
            "#2 6\n"
          ]
        }
      ],
      "source": [
        "T= int(input())\n",
        "\n",
        "for t in range(T):\n",
        "  n,s,e,k= map(int,input().split())\n",
        "  a=list(map(int,input().split()))\n",
        "  a=a[s-1:e]\n",
        "  a.sort()\n",
        "\n",
        "print('#%d %d' %(t+1,a[k-1]))"
      ]
    }
  ]
}