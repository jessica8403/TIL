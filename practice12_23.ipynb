{
  "nbformat": 4,
  "nbformat_minor": 0,
  "metadata": {
    "colab": {
      "name": "practice12.23.ipynb",
      "provenance": [],
      "authorship_tag": "ABX9TyPETd6GoHt27KH8Wx+2yWIi",
      "include_colab_link": true
    },
    "kernelspec": {
      "name": "python3",
      "display_name": "Python 3"
    },
    "language_info": {
      "name": "python"
    }
  },
  "cells": [
    {
      "cell_type": "markdown",
      "metadata": {
        "id": "view-in-github",
        "colab_type": "text"
      },
      "source": [
        "<a href=\"https://colab.research.google.com/github/jessica8403/TIL/blob/master/practice12_23.ipynb\" target=\"_parent\"><img src=\"https://colab.research.google.com/assets/colab-badge.svg\" alt=\"Open In Colab\"/></a>"
      ]
    },
    {
      "cell_type": "code",
      "execution_count": 4,
      "metadata": {
        "colab": {
          "base_uri": "https://localhost:8080/"
        },
        "id": "VxSJCP8gbEXD",
        "outputId": "763f9fc2-34f2-42c5-bc65-c98f9be24145"
      },
      "outputs": [
        {
          "output_type": "stream",
          "name": "stdout",
          "text": [
            "2000\n",
            "1\n"
          ]
        }
      ],
      "source": [
        "# 백준 2753번 \n",
        "\n",
        "# 문제\n",
        "# 연도가 주어졌을 때, 윤년이면 1, 아니면 0을 출력하는 프로그램을 작성하시오.\n",
        "\n",
        "# 윤년은 연도가 4의 배수이면서, 100의 배수가 아닐 때 또는 400의 배수일 때이다.\n",
        "\n",
        "# 예를 들어, 2012년은 4의 배수이면서 100의 배수가 아니라서 윤년이다. 1900년은 100의 배수이고 400의 배수는 아니기 때문에 윤년이 아니다. 하지만, 2000년은 400의 배수이기 때문에 윤년이다.\n",
        "\n",
        "# 입력\n",
        "# 첫째 줄에 연도가 주어진다. 연도는 1보다 크거나 같고, 4000보다 작거나 같은 자연수이다.\n",
        "\n",
        "# 출력\n",
        "# 첫째 줄에 윤년이면 1, 아니면 0을 출력한다.\n",
        "\n",
        "year= int(input())\n",
        "\n",
        "if (year % 4 == 0) and (year % 100 != 0) or (year % 400 ==0):\n",
        "  print('1')\n",
        "\n",
        "else:\n",
        "   print('0')\n",
        "\n"
      ]
    },
    {
      "cell_type": "code",
      "source": [
        "# 백준 1110번\n",
        "\n",
        "# 문제\n",
        "# 0보다 크거나 같고, 99보다 작거나 같은 정수가 주어질 때 다음과 같은 연산을 할 수 있다. 먼저 주어진 수가 10보다 작다면 앞에 0을 붙여 두 자리 수로 만들고, 각 자리의 숫자를 더한다. 그 다음, 주어진 수의 가장 오른쪽 자리 수와 앞에서 구한 합의 가장 오른쪽 자리 수를 이어 붙이면 새로운 수를 만들 수 있다. 다음 예를 보자.\n",
        "\n",
        "# 26부터 시작한다. 2+6 = 8이다. 새로운 수는 68이다. 6+8 = 14이다. 새로운 수는 84이다. 8+4 = 12이다. 새로운 수는 42이다. 4+2 = 6이다. 새로운 수는 26이다.\n",
        "\n",
        "# 위의 예는 4번만에 원래 수로 돌아올 수 있다. 따라서 26의 사이클의 길이는 4이다.\n",
        "\n",
        "# N이 주어졌을 때, N의 사이클의 길이를 구하는 프로그램을 작성하시오.\n",
        "\n",
        "# 입력\n",
        "# 첫째 줄에 N이 주어진다. N은 0보다 크거나 같고, 99보다 작거나 같은 정수이다.\n",
        "\n",
        "# 출력\n",
        "# 첫째 줄에 N의 사이클 길이를 출력한다.\n",
        "\n",
        "N= int(input())\n",
        "f=N\n",
        "cycle=0\n",
        "\n",
        "while True:\n",
        "  a=f//10\n",
        "  b=f%10\n",
        "  c=(a+b)%10\n",
        "  f=10*b+c\n",
        "  cycle +=1\n",
        "  if (N==f):\n",
        "    break\n",
        "print(cycle)\n",
        "\n"
      ],
      "metadata": {
        "colab": {
          "base_uri": "https://localhost:8080/"
        },
        "id": "AJW9SheUdXbv",
        "outputId": "f6583564-b9ab-4e8f-e2c1-6b86a02a6b54"
      },
      "execution_count": 19,
      "outputs": [
        {
          "output_type": "stream",
          "name": "stdout",
          "text": [
            "26\n",
            "4\n"
          ]
        }
      ]
    }
  ]
}