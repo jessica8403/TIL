{
  "nbformat": 4,
  "nbformat_minor": 0,
  "metadata": {
    "colab": {
      "name": "선형회귀연습.ipynb",
      "provenance": [],
      "authorship_tag": "ABX9TyNqdZZpHL3154/ZD97ZGn+o",
      "include_colab_link": true
    },
    "kernelspec": {
      "name": "python3",
      "display_name": "Python 3"
    },
    "language_info": {
      "name": "python"
    }
  },
  "cells": [
    {
      "cell_type": "markdown",
      "metadata": {
        "id": "view-in-github",
        "colab_type": "text"
      },
      "source": [
        "<a href=\"https://colab.research.google.com/github/jessica8403/TIL/blob/master/%EC%84%A0%ED%98%95%ED%9A%8C%EA%B7%80%EC%97%B0%EC%8A%B5.ipynb\" target=\"_parent\"><img src=\"https://colab.research.google.com/assets/colab-badge.svg\" alt=\"Open In Colab\"/></a>"
      ]
    },
    {
      "cell_type": "code",
      "execution_count": 3,
      "metadata": {
        "id": "pBPB_RMz8-5-"
      },
      "outputs": [],
      "source": [
        "import warnings\n",
        "warnings.filterwarnings('always')\n",
        "warnings.filterwarnings('ignore')\n",
        "\n",
        "import numpy as np\n",
        "import pandas as pd\n",
        "import sympy as sp\n",
        "\n",
        "import matplotlib.pyplot as plt\n",
        "import seaborn as sns"
      ]
    },
    {
      "cell_type": "code",
      "source": [
        "def f(x):\n",
        "  return 2 * x + 30"
      ],
      "metadata": {
        "id": "ZVnTxrVr9AxI"
      },
      "execution_count": 4,
      "outputs": []
    },
    {
      "cell_type": "code",
      "source": [
        "x = np.linspace(-5, 5, 1000)\n",
        "plt.plot(x, f(x) )\n",
        "plt.grid()\n",
        "plt.show()"
      ],
      "metadata": {
        "colab": {
          "base_uri": "https://localhost:8080/",
          "height": 265
        },
        "id": "rFI3TtgJ9xsD",
        "outputId": "8f7ce0ec-46a2-48ef-f553-f9274c312e11"
      },
      "execution_count": 5,
      "outputs": [
        {
          "output_type": "display_data",
          "data": {
            "image/png": "[encoded data removed]",
            "text/plain": [
              "<Figure size 432x288 with 1 Axes>"
            ]
          },
          "metadata": {
            "needs_background": "light"
          }
        }
      ]
    },
    {
      "cell_type": "code",
      "source": [
        "def f(x):\n",
        "  return x ** 2 - 4 * x + 6"
      ],
      "metadata": {
        "id": "_MEON4vO96mq"
      },
      "execution_count": 6,
      "outputs": []
    },
    {
      "cell_type": "code",
      "source": [
        "x = np.linspace(-5, 5, 1000)\n",
        "plt.plot(x, f(x) )\n",
        "plt.grid()\n",
        "plt.show()"
      ],
      "metadata": {
        "colab": {
          "base_uri": "https://localhost:8080/",
          "height": 265
        },
        "id": "Z6MOMlPd-RYf",
        "outputId": "a77cada0-291c-451b-bebc-f26075d6030e"
      },
      "execution_count": 7,
      "outputs": [
        {
          "output_type": "display_data",
          "data": {
            "image/png": "[encoded data removed]",
            "text/plain": [
              "<Figure size 432x288 with 1 Axes>"
            ]
          },
          "metadata": {
            "needs_background": "light"
          }
        }
      ]
    },
    {
      "cell_type": "code",
      "source": [
        "def f(x):\n",
        "  return x ** 2 - 4 * x + 6"
      ],
      "metadata": {
        "id": "fRUIQUD_-Tc9"
      },
      "execution_count": 8,
      "outputs": []
    },
    {
      "cell_type": "code",
      "source": [
        "x = sp.Symbol('x')\n",
        "f = x ** 2 \n",
        "display(f)\n",
        "sp.diff(f,x)"
      ],
      "metadata": {
        "colab": {
          "base_uri": "https://localhost:8080/",
          "height": 61
        },
        "id": "_VmWEwBPECbS",
        "outputId": "e46dfb50-5caf-4d48-9620-1f0588df1811"
      },
      "execution_count": 10,
      "outputs": [
        {
          "output_type": "display_data",
          "data": {
            "text/latex": "$\\displaystyle x^{2}$",
            "text/plain": [
              "x**2"
            ]
          },
          "metadata": {}
        },
        {
          "output_type": "execute_result",
          "data": {
            "text/latex": "$\\displaystyle 2 x$",
            "text/plain": [
              "2*x"
            ]
          },
          "metadata": {},
          "execution_count": 10
        }
      ]
    },
    {
      "cell_type": "code",
      "source": [
        "x = sp.Symbol('x')\n",
        "f = x ** 2 - 4 * x + 6\n",
        "display(f)\n",
        "sp.diff(f, x)"
      ],
      "metadata": {
        "colab": {
          "base_uri": "https://localhost:8080/",
          "height": 61
        },
        "id": "0iqvUqdyEfjr",
        "outputId": "7135793d-919b-4308-ba0a-2c179018f21d"
      },
      "execution_count": 11,
      "outputs": [
        {
          "output_type": "display_data",
          "data": {
            "text/latex": "$\\displaystyle x^{2} - 4 x + 6$",
            "text/plain": [
              "x**2 - 4*x + 6"
            ]
          },
          "metadata": {}
        },
        {
          "output_type": "execute_result",
          "data": {
            "text/latex": "$\\displaystyle 2 x - 4$",
            "text/plain": [
              "2*x - 4"
            ]
          },
          "metadata": {},
          "execution_count": 11
        }
      ]
    },
    {
      "cell_type": "code",
      "source": [
        "x = sp.Symbol('x')\n",
        "f = x ** 2 - 4 * x + 6\n",
        "F=sp.Matrix([f])\n",
        "F.jacobian([x])"
      ],
      "metadata": {
        "colab": {
          "base_uri": "https://localhost:8080/",
          "height": 38
        },
        "id": "Zs9_G9I3E-3_",
        "outputId": "5c6abdba-65ea-44de-e7db-1abe97073051"
      },
      "execution_count": 13,
      "outputs": [
        {
          "output_type": "execute_result",
          "data": {
            "text/latex": "$\\displaystyle \\left[\\begin{matrix}2 x - 4\\end{matrix}\\right]$",
            "text/plain": [
              "Matrix([[2*x - 4]])"
            ]
          },
          "metadata": {},
          "execution_count": 13
        }
      ]
    },
    {
      "cell_type": "code",
      "source": [
        "def error(x):\n",
        "  return x ** 2 - 4 * x + 6\n",
        "\n",
        "def grad_fx(x):\n",
        "  return 2 * x - 4"
      ],
      "metadata": {
        "id": "fbvKeYYiFd11"
      },
      "execution_count": 23,
      "outputs": []
    },
    {
      "cell_type": "code",
      "source": [
        "x = np.linspace(-5, 5, 1000)\n",
        "plt.plot( x, error(x) )\n",
        "plt.grid()\n",
        "plt.show()"
      ],
      "metadata": {
        "colab": {
          "base_uri": "https://localhost:8080/",
          "height": 265
        },
        "id": "8LIn99tdI_eq",
        "outputId": "d6830f95-a827-4549-fbee-cc1d8c3288a3"
      },
      "execution_count": 27,
      "outputs": [
        {
          "output_type": "display_data",
          "data": {
            "image/png": "[encoded data removed]",
            "text/plain": [
              "<Figure size 432x288 with 1 Axes>"
            ]
          },
          "metadata": {
            "needs_background": "light"
          }
        }
      ]
    },
    {
      "cell_type": "code",
      "source": [
        "x0 = -4\n",
        "lr = 0.01\n",
        "maxIter = 1000\n",
        "a=[]\n",
        "for _ in range(maxIter):\n",
        "  a.append(x0)\n",
        "  x1 = x0 - lr * grad_fx(x0)\n",
        "  # print('error: {}, grad: {}, x: {}'.format( error(x0), grad_fx(x0), x0))\n",
        "  x0 = x1"
      ],
      "metadata": {
        "id": "O3dDQPstJUtl"
      },
      "execution_count": 32,
      "outputs": []
    },
    {
      "cell_type": "code",
      "source": [
        "a = np.array(a)\n",
        "x = np.linspace(-5, 5, 1000)\n",
        "\n",
        "plt.plot( x, error(x) )\n",
        "plt.plot( a, error(a), 'o' )\n",
        "plt.grid()\n",
        "plt.show()"
      ],
      "metadata": {
        "colab": {
          "base_uri": "https://localhost:8080/",
          "height": 265
        },
        "id": "MJMR5Te-LAHJ",
        "outputId": "cae0f569-b6ad-4972-c81f-8b960192d556"
      },
      "execution_count": 33,
      "outputs": [
        {
          "output_type": "display_data",
          "data": {
            "image/png": "[encoded data removed]",
            "text/plain": [
              "<Figure size 432x288 with 1 Axes>"
            ]
          },
          "metadata": {
            "needs_background": "light"
          }
        }
      ]
    },
    {
      "cell_type": "code",
      "source": [
        "plt.plot(error(a))\n",
        "plt.grid()\n",
        "plt.show()"
      ],
      "metadata": {
        "colab": {
          "base_uri": "https://localhost:8080/",
          "height": 265
        },
        "id": "3tYq3UQqLUhC",
        "outputId": "e407d907-a96d-4829-83b9-cdb1df281249"
      },
      "execution_count": 34,
      "outputs": [
        {
          "output_type": "display_data",
          "data": {
            "image/png": "[encoded data removed]",
            "text/plain": [
              "<Figure size 432x288 with 1 Axes>"
            ]
          },
          "metadata": {
            "needs_background": "light"
          }
        }
      ]
    },
    {
      "cell_type": "code",
      "source": [
        "x0 = -4\n",
        "lr = 0.5\n",
        "maxIter = 100\n",
        "\n",
        "a = []\n",
        "for _ in range(maxIter):\n",
        "  a.append(x0)\n",
        "  x1 = x0 - lr * grad_fx(x0)\n",
        "  x0 = x1"
      ],
      "metadata": {
        "id": "8PGfcwpYNyyx"
      },
      "execution_count": 47,
      "outputs": []
    },
    {
      "cell_type": "code",
      "source": [
        "a = np.array(a)\n",
        "x = np.linspace(-5, 5, 1000)\n",
        "\n",
        "plt.plot( x, error(x) )\n",
        "plt.plot( a, error(a), 'o-' )\n",
        "plt.grid()\n",
        "plt.show()"
      ],
      "metadata": {
        "colab": {
          "base_uri": "https://localhost:8080/",
          "height": 265
        },
        "id": "m1Mo1TUfVnuh",
        "outputId": "5fcafedc-fd36-44ba-d9c3-ee06d6cce18b"
      },
      "execution_count": 48,
      "outputs": [
        {
          "output_type": "display_data",
          "data": {
            "image/png": "[encoded data removed]",
            "text/plain": [
              "<Figure size 432x288 with 1 Axes>"
            ]
          },
          "metadata": {
            "needs_background": "light"
          }
        }
      ]
    },
    {
      "cell_type": "code",
      "source": [
        "plt.plot( error(a) )\n",
        "plt.grid()\n",
        "plt.show()"
      ],
      "metadata": {
        "colab": {
          "base_uri": "https://localhost:8080/",
          "height": 265
        },
        "id": "Cgg8ss_wV3Xx",
        "outputId": "12bdf7f0-24ad-46f3-f4af-95611b387b73"
      },
      "execution_count": 49,
      "outputs": [
        {
          "output_type": "display_data",
          "data": {
            "image/png": "[encoded data removed]",
            "text/plain": [
              "<Figure size 432x288 with 1 Axes>"
            ]
          },
          "metadata": {
            "needs_background": "light"
          }
        }
      ]
    },
    {
      "cell_type": "code",
      "source": [
        ""
      ],
      "metadata": {
        "id": "Z40zhA_aV6PJ"
      },
      "execution_count": null,
      "outputs": []
    }
  ]
}