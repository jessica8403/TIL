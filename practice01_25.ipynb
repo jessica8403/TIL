{
  "nbformat": 4,
  "nbformat_minor": 0,
  "metadata": {
    "colab": {
      "name": "practice01-25.ipynb",
      "provenance": [],
      "authorship_tag": "ABX9TyP6wDys1T6mi8Qt9cGuBjfp",
      "include_colab_link": true
    },
    "kernelspec": {
      "name": "python3",
      "display_name": "Python 3"
    },
    "language_info": {
      "name": "python"
    }
  },
  "cells": [
    {
      "cell_type": "markdown",
      "metadata": {
        "id": "view-in-github",
        "colab_type": "text"
      },
      "source": [
        "<a href=\"https://colab.research.google.com/github/jessica8403/TIL/blob/master/practice01_25.ipynb\" target=\"_parent\"><img src=\"https://colab.research.google.com/assets/colab-badge.svg\" alt=\"Open In Colab\"/></a>"
      ]
    },
    {
      "cell_type": "code",
      "execution_count": 10,
      "metadata": {
        "colab": {
          "base_uri": "https://localhost:8080/"
        },
        "id": "2UGAnELIOC5K",
        "outputId": "0060898e-8d5f-449d-982e-d6091e5199ea"
      },
      "outputs": [
        {
          "output_type": "stream",
          "name": "stdout",
          "text": [
            "order: tea\n",
            "tea costs 7, total is 7\n",
            "order: salad\n",
            "salad costs 9, total is 16\n",
            "order: coffe\n",
            "we are fresh out of coffe today\n",
            "order: coffee\n",
            "we are fresh out of coffee today\n",
            "order: \n",
            "your total is 16\n"
          ]
        }
      ],
      "source": [
        "MENU={'sandwich':10, 'tea':7, 'salad':9}\n",
        "def restaurant():\n",
        "  total=0\n",
        "  while True:\n",
        "   order= input('order: ').strip()\n",
        "   if not order:\n",
        "     break\n",
        "  \n",
        "   if order in MENU:\n",
        "     price=MENU[order]\n",
        "     total += price\n",
        "     print(f'{order} costs {price}, total is {total}')\n",
        "    \n",
        "   else:\n",
        "      print(f'we are fresh out of {order} today')\n",
        "  \n",
        "  print(f'your total is {total}')\n",
        "\n",
        "restaurant()"
      ]
    },
    {
      "cell_type": "code",
      "source": [
        ""
      ],
      "metadata": {
        "id": "fCvGjW7pTvRJ"
      },
      "execution_count": null,
      "outputs": []
    }
  ]
}