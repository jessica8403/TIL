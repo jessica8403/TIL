{
  "nbformat": 4,
  "nbformat_minor": 0,
  "metadata": {
    "colab": {
      "name": "Untitled9.ipynb",
      "provenance": [],
      "authorship_tag": "ABX9TyNnihTAd28Ww1j9iZ9HbxL0",
      "include_colab_link": true
    },
    "kernelspec": {
      "name": "python3",
      "display_name": "Python 3"
    },
    "language_info": {
      "name": "python"
    }
  },
  "cells": [
    {
      "cell_type": "markdown",
      "metadata": {
        "id": "view-in-github",
        "colab_type": "text"
      },
      "source": [
        "<a href=\"https://colab.research.google.com/github/jessica8403/TIL/blob/master/Untitled9.ipynb\" target=\"_parent\"><img src=\"https://colab.research.google.com/assets/colab-badge.svg\" alt=\"Open In Colab\"/></a>"
      ]
    },
    {
      "cell_type": "code",
      "execution_count": 1,
      "metadata": {
        "colab": {
          "base_uri": "https://localhost:8080/"
        },
        "id": "62V9KjvfMd5G",
        "outputId": "75522ae4-e888-4810-e91f-c82ace324803"
      },
      "outputs": [
        {
          "output_type": "stream",
          "name": "stdout",
          "text": [
            "5\n",
            "1 4\n",
            "2 3\n",
            "3 5\n",
            "4 6\n",
            "5 7\n",
            "3\n"
          ]
        }
      ],
      "source": [
        "n=int(input())\n",
        "meeting=[]\n",
        "for i in range(n):\n",
        "  s, e= map(int,input(). split())\n",
        "  meeting.append((s,e))\n",
        "\n",
        "meeting.sort(key=lambda x: (x[1], x[0]))\n",
        "et=0\n",
        "cnt=0\n",
        "for s,e in meeting:\n",
        "  if s>=et:\n",
        "    et=e\n",
        "    cnt+=1\n",
        "print(cnt)\n"
      ]
    }
  ]
}