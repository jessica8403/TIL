{
  "nbformat": 4,
  "nbformat_minor": 0,
  "metadata": {
    "colab": {
      "name": "practice 12.21.ipynb",
      "provenance": [],
      "collapsed_sections": [],
      "authorship_tag": "ABX9TyMPTFO+OI01O1KMN+CiAUls",
      "include_colab_link": true
    },
    "kernelspec": {
      "name": "python3",
      "display_name": "Python 3"
    },
    "language_info": {
      "name": "python"
    }
  },
  "cells": [
    {
      "cell_type": "markdown",
      "metadata": {
        "id": "view-in-github",
        "colab_type": "text"
      },
      "source": [
        "<a href=\"https://colab.research.google.com/github/jessica8403/TIL/blob/master/practice_12_21.ipynb\" target=\"_parent\"><img src=\"https://colab.research.google.com/assets/colab-badge.svg\" alt=\"Open In Colab\"/></a>"
      ]
    },
    {
      "cell_type": "code",
      "execution_count": 6,
      "metadata": {
        "colab": {
          "base_uri": "https://localhost:8080/"
        },
        "id": "4bncCe4O6gw6",
        "outputId": "3332988d-3bcf-44a5-a3a0-e17b2760a2a1"
      },
      "outputs": [
        {
          "output_type": "stream",
          "name": "stdout",
          "text": [
            "1 2\n",
            "3\n"
          ]
        }
      ],
      "source": [
        "# 백준 1000번\n",
        "\n",
        "# 두 정수 A와 B를 입력받은 다음, A+B를 출력하는 프로그램을 작성하시오.\n",
        "\n",
        "# 입력\n",
        "# 첫째 줄에 A와 B가 주어진다. (0 < A, B < 10)\n",
        "\n",
        "# 출력\n",
        "# 첫째 줄에 A+B를 출력한다.\n",
        "\n",
        "\n",
        "a,b= map(int,input().split())\n",
        "print(a+b)"
      ]
    },
    {
      "cell_type": "code",
      "source": [
        "# 백준 1330번\n",
        "\n",
        "# 문제\n",
        "# 두 정수 A와 B가 주어졌을 때, A와 B를 비교하는 프로그램을 작성하시오.\n",
        "\n",
        "# 입력\n",
        "# 첫째 줄에 A와 B가 주어진다. A와 B는 공백 한 칸으로 구분되어져 있다.\n",
        "\n",
        "# 출력\n",
        "# 첫째 줄에 다음 세 가지 중 하나를 출력한다.\n",
        "\n",
        "# A가 B보다 큰 경우에는 '>'를 출력한다.\n",
        "# A가 B보다 작은 경우에는 '<'를 출력한다.\n",
        "# A와 B가 같은 경우에는 '=='를 출력한다.\n",
        "# 제한\n",
        "# -10,000 ≤ A, B ≤ 10,000\n",
        "\n",
        "\n",
        "a,b= map(int,input().split())\n",
        "if a>b:\n",
        "  print('>')\n",
        "\n",
        "elif a<b:\n",
        "  print('<')\n",
        "\n",
        "elif a==b:\n",
        "  print('==')"
      ],
      "metadata": {
        "colab": {
          "base_uri": "https://localhost:8080/"
        },
        "id": "U9iD4Zfn9Z-b",
        "outputId": "c5f88f3f-a560-44dd-d6d6-204eb6d130d7"
      },
      "execution_count": 14,
      "outputs": [
        {
          "output_type": "stream",
          "name": "stdout",
          "text": [
            "1 2\n",
            "<\n"
          ]
        }
      ]
    },
    {
      "cell_type": "code",
      "source": [
        "# 백준 9498번\n",
        "\n",
        "# 문제\n",
        "# 시험 점수를 입력받아 90 ~ 100점은 A, 80 ~ 89점은 B, 70 ~ 79점은 C, 60 ~ 69점은 D, 나머지 점수는 F를 출력하는 프로그램을 작성하시오.\n",
        "\n",
        "# 입력\n",
        "# 첫째 줄에 시험 점수가 주어진다. 시험 점수는 0보다 크거나 같고, 100보다 작거나 같은 정수이다.\n",
        "\n",
        "# 출력\n",
        "# 시험 성적을 출력한다.\n",
        "\n",
        "score= int(input())\n",
        "\n",
        "if score>=90:\n",
        "  print('A')\n",
        "\n",
        "elif score>=80:\n",
        "  print('B')\n",
        "\n",
        "elif score>=70:\n",
        "  print('C')\n",
        "\n",
        "elif score>=60:\n",
        "  print('D')\n",
        "\n",
        "else:\n",
        "  print('F')\n"
      ],
      "metadata": {
        "colab": {
          "base_uri": "https://localhost:8080/"
        },
        "id": "z9s_fx8kCnSc",
        "outputId": "e35499d1-348a-48bd-f579-d387b166301a"
      },
      "execution_count": 26,
      "outputs": [
        {
          "output_type": "stream",
          "name": "stdout",
          "text": [
            "77\n",
            "C\n"
          ]
        }
      ]
    }
  ]
}