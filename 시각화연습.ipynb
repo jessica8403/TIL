{
  "nbformat": 4,
  "nbformat_minor": 0,
  "metadata": {
    "colab": {
      "name": "시각화연습.ipynb",
      "provenance": [],
      "mount_file_id": "191ALJ9kc3_v6xxMVikH5_67gfoI_Qcm3",
      "authorship_tag": "ABX9TyPK+v75B0C7B4B6UGfcAdLU",
      "include_colab_link": true
    },
    "kernelspec": {
      "name": "python3",
      "display_name": "Python 3"
    },
    "language_info": {
      "name": "python"
    }
  },
  "cells": [
    {
      "cell_type": "markdown",
      "metadata": {
        "id": "view-in-github",
        "colab_type": "text"
      },
      "source": [
        "<a href=\"https://colab.research.google.com/github/jessica8403/TIL/blob/master/%EC%8B%9C%EA%B0%81%ED%99%94%EC%97%B0%EC%8A%B5.ipynb\" target=\"_parent\"><img src=\"https://colab.research.google.com/assets/colab-badge.svg\" alt=\"Open In Colab\"/></a>"
      ]
    },
    {
      "cell_type": "code",
      "execution_count": 1,
      "metadata": {
        "id": "4hQXt0vmeGc0"
      },
      "outputs": [],
      "source": [
        "import numpy as np\n",
        "import pandas as pd\n",
        "import matplotlib.pyplot as plt\n",
        "import seaborn as sns\n"
      ]
    },
    {
      "cell_type": "code",
      "source": [
        "from matplotlib import font_manager, rcParams\n",
        "!apt-get install fonts-nanum*\n",
        "rcParams['font.family'] = 'NanumGothicCoding'\n",
        "rcParams['axes.unicode_minus'] = False\n",
        "font_manager._rebuild()"
      ],
      "metadata": {
        "colab": {
          "base_uri": "https://localhost:8080/"
        },
        "id": "UWy6L7WVel_S",
        "outputId": "17b408d3-f3f6-413d-8aee-a5939a05da9f"
      },
      "execution_count": 2,
      "outputs": [
        {
          "output_type": "stream",
          "name": "stdout",
          "text": [
            "Reading package lists... Done\n",
            "Building dependency tree       \n",
            "Reading state information... Done\n",
            "Note, selecting 'fonts-nanum-eco' for glob 'fonts-nanum*'\n",
            "Note, selecting 'fonts-nanum' for glob 'fonts-nanum*'\n",
            "Note, selecting 'fonts-nanum-gothic-light' for glob 'fonts-nanum*'\n",
            "Note, selecting 'fonts-nanum-coding' for glob 'fonts-nanum*'\n",
            "Note, selecting 'fonts-nanum-extra' for glob 'fonts-nanum*'\n",
            "fonts-nanum is already the newest version (20170925-1).\n",
            "fonts-nanum-coding is already the newest version (2.5-1).\n",
            "fonts-nanum-eco is already the newest version (1.000-6).\n",
            "fonts-nanum-extra is already the newest version (20170925-1).\n",
            "0 upgraded, 0 newly installed, 0 to remove and 37 not upgraded.\n"
          ]
        }
      ]
    },
    {
      "cell_type": "code",
      "source": [
        "import numpy as np\n",
        "import pandas as pd\n",
        "import matplotlib.pyplot as plt\n",
        "import seaborn as sns\n"
      ],
      "metadata": {
        "id": "SgdtVAnWhC0J"
      },
      "execution_count": 3,
      "outputs": []
    },
    {
      "cell_type": "code",
      "source": [
        "\n",
        "rawData=pd.read_csv('/content/drive/MyDrive/health_2016.csv의 사본')\n"
      ],
      "metadata": {
        "id": "J05jmKzRhIxI"
      },
      "execution_count": 4,
      "outputs": []
    },
    {
      "cell_type": "code",
      "source": [
        "rawData"
      ],
      "metadata": {
        "colab": {
          "base_uri": "https://localhost:8080/",
          "height": 626
        },
        "id": "QXb06DfahmEv",
        "outputId": "54967392-8995-4b87-ed3d-5e9f7ff4101b"
      },
      "execution_count": 5,
      "outputs": [
        {
          "output_type": "execute_result",
          "data": {
            "text/html": [
              "\n",
              "  <div id=\"df-b4a185b3-5e7c-4403-9b37-a68f0769f408\">\n",
              "    <div class=\"colab-df-container\">\n",
              "      <div>\n",
              "<style scoped>\n",
              "    .dataframe tbody tr th:only-of-type {\n",
              "        vertical-align: middle;\n",
              "    }\n",
              "\n",
              "    .dataframe tbody tr th {\n",
              "        vertical-align: top;\n",
              "    }\n",
              "\n",
              "    .dataframe thead th {\n",
              "        text-align: right;\n",
              "    }\n",
              "</style>\n",
              "<table border=\"1\" class=\"dataframe\">\n",
              "  <thead>\n",
              "    <tr style=\"text-align: right;\">\n",
              "      <th></th>\n",
              "      <th>기준년도</th>\n",
              "      <th>가입자일련번호</th>\n",
              "      <th>성별코드</th>\n",
              "      <th>연령대코드(5세단위)</th>\n",
              "      <th>시도코드</th>\n",
              "      <th>신장(5Cm단위)</th>\n",
              "      <th>체중(5Kg단위)</th>\n",
              "      <th>허리둘레</th>\n",
              "      <th>시력(좌)</th>\n",
              "      <th>시력(우)</th>\n",
              "      <th>청력(좌)</th>\n",
              "      <th>청력(우)</th>\n",
              "      <th>수축기혈압</th>\n",
              "      <th>이완기혈압</th>\n",
              "      <th>식전혈당(공복혈당)</th>\n",
              "      <th>총콜레스테롤</th>\n",
              "      <th>트리글리세라이드</th>\n",
              "      <th>HDL콜레스테롤</th>\n",
              "      <th>LDL콜레스테롤</th>\n",
              "      <th>혈색소</th>\n",
              "      <th>요단백</th>\n",
              "      <th>혈청크레아티닌</th>\n",
              "      <th>(혈청지오티)AST</th>\n",
              "      <th>(혈청지오티)ALT</th>\n",
              "      <th>감마지티피</th>\n",
              "      <th>흡연상태</th>\n",
              "      <th>음주여부</th>\n",
              "      <th>구강검진 수검여부</th>\n",
              "      <th>치아우식증유무</th>\n",
              "      <th>결손치유무</th>\n",
              "      <th>치아마모증유무</th>\n",
              "      <th>제3대구치(사랑니)이상</th>\n",
              "      <th>치석</th>\n",
              "      <th>데이터공개일자</th>\n",
              "    </tr>\n",
              "  </thead>\n",
              "  <tbody>\n",
              "    <tr>\n",
              "      <th>0</th>\n",
              "      <td>2016</td>\n",
              "      <td>465969</td>\n",
              "      <td>1</td>\n",
              "      <td>8</td>\n",
              "      <td>41</td>\n",
              "      <td>170.0</td>\n",
              "      <td>70.0</td>\n",
              "      <td>74.0</td>\n",
              "      <td>0.7</td>\n",
              "      <td>0.7</td>\n",
              "      <td>1.0</td>\n",
              "      <td>1.0</td>\n",
              "      <td>118.0</td>\n",
              "      <td>70.0</td>\n",
              "      <td>85.0</td>\n",
              "      <td>194.0</td>\n",
              "      <td>97.0</td>\n",
              "      <td>54.0</td>\n",
              "      <td>120.0</td>\n",
              "      <td>14.6</td>\n",
              "      <td>2.0</td>\n",
              "      <td>1.1</td>\n",
              "      <td>31.0</td>\n",
              "      <td>36.0</td>\n",
              "      <td>96.0</td>\n",
              "      <td>3.0</td>\n",
              "      <td>NaN</td>\n",
              "      <td>1</td>\n",
              "      <td>NaN</td>\n",
              "      <td>NaN</td>\n",
              "      <td>NaN</td>\n",
              "      <td>NaN</td>\n",
              "      <td>2.0</td>\n",
              "      <td>20171219</td>\n",
              "    </tr>\n",
              "    <tr>\n",
              "      <th>1</th>\n",
              "      <td>2016</td>\n",
              "      <td>565871</td>\n",
              "      <td>1</td>\n",
              "      <td>10</td>\n",
              "      <td>41</td>\n",
              "      <td>160.0</td>\n",
              "      <td>60.0</td>\n",
              "      <td>81.0</td>\n",
              "      <td>1.2</td>\n",
              "      <td>1.0</td>\n",
              "      <td>1.0</td>\n",
              "      <td>1.0</td>\n",
              "      <td>134.0</td>\n",
              "      <td>84.0</td>\n",
              "      <td>105.0</td>\n",
              "      <td>143.0</td>\n",
              "      <td>84.0</td>\n",
              "      <td>33.0</td>\n",
              "      <td>93.0</td>\n",
              "      <td>16.2</td>\n",
              "      <td>1.0</td>\n",
              "      <td>1.0</td>\n",
              "      <td>20.0</td>\n",
              "      <td>23.0</td>\n",
              "      <td>14.0</td>\n",
              "      <td>1.0</td>\n",
              "      <td>NaN</td>\n",
              "      <td>0</td>\n",
              "      <td>NaN</td>\n",
              "      <td>NaN</td>\n",
              "      <td>NaN</td>\n",
              "      <td>NaN</td>\n",
              "      <td>NaN</td>\n",
              "      <td>20171219</td>\n",
              "    </tr>\n",
              "    <tr>\n",
              "      <th>2</th>\n",
              "      <td>2016</td>\n",
              "      <td>115718</td>\n",
              "      <td>2</td>\n",
              "      <td>11</td>\n",
              "      <td>11</td>\n",
              "      <td>160.0</td>\n",
              "      <td>55.0</td>\n",
              "      <td>71.0</td>\n",
              "      <td>1.0</td>\n",
              "      <td>1.0</td>\n",
              "      <td>1.0</td>\n",
              "      <td>1.0</td>\n",
              "      <td>129.0</td>\n",
              "      <td>85.0</td>\n",
              "      <td>86.0</td>\n",
              "      <td>203.0</td>\n",
              "      <td>52.0</td>\n",
              "      <td>51.0</td>\n",
              "      <td>141.0</td>\n",
              "      <td>14.0</td>\n",
              "      <td>1.0</td>\n",
              "      <td>0.8</td>\n",
              "      <td>17.0</td>\n",
              "      <td>14.0</td>\n",
              "      <td>20.0</td>\n",
              "      <td>1.0</td>\n",
              "      <td>NaN</td>\n",
              "      <td>1</td>\n",
              "      <td>NaN</td>\n",
              "      <td>NaN</td>\n",
              "      <td>NaN</td>\n",
              "      <td>NaN</td>\n",
              "      <td>0.0</td>\n",
              "      <td>20171219</td>\n",
              "    </tr>\n",
              "    <tr>\n",
              "      <th>3</th>\n",
              "      <td>2016</td>\n",
              "      <td>767524</td>\n",
              "      <td>1</td>\n",
              "      <td>6</td>\n",
              "      <td>28</td>\n",
              "      <td>180.0</td>\n",
              "      <td>70.0</td>\n",
              "      <td>79.0</td>\n",
              "      <td>1.0</td>\n",
              "      <td>0.9</td>\n",
              "      <td>1.0</td>\n",
              "      <td>1.0</td>\n",
              "      <td>137.0</td>\n",
              "      <td>78.0</td>\n",
              "      <td>92.0</td>\n",
              "      <td>154.0</td>\n",
              "      <td>53.0</td>\n",
              "      <td>55.0</td>\n",
              "      <td>94.0</td>\n",
              "      <td>14.6</td>\n",
              "      <td>1.0</td>\n",
              "      <td>1.0</td>\n",
              "      <td>21.0</td>\n",
              "      <td>23.0</td>\n",
              "      <td>16.0</td>\n",
              "      <td>1.0</td>\n",
              "      <td>NaN</td>\n",
              "      <td>0</td>\n",
              "      <td>NaN</td>\n",
              "      <td>NaN</td>\n",
              "      <td>NaN</td>\n",
              "      <td>NaN</td>\n",
              "      <td>NaN</td>\n",
              "      <td>20171219</td>\n",
              "    </tr>\n",
              "    <tr>\n",
              "      <th>4</th>\n",
              "      <td>2016</td>\n",
              "      <td>482178</td>\n",
              "      <td>2</td>\n",
              "      <td>9</td>\n",
              "      <td>11</td>\n",
              "      <td>160.0</td>\n",
              "      <td>60.0</td>\n",
              "      <td>85.0</td>\n",
              "      <td>0.8</td>\n",
              "      <td>1.2</td>\n",
              "      <td>1.0</td>\n",
              "      <td>1.0</td>\n",
              "      <td>92.0</td>\n",
              "      <td>60.0</td>\n",
              "      <td>90.0</td>\n",
              "      <td>239.0</td>\n",
              "      <td>148.0</td>\n",
              "      <td>46.0</td>\n",
              "      <td>163.0</td>\n",
              "      <td>10.3</td>\n",
              "      <td>1.0</td>\n",
              "      <td>0.9</td>\n",
              "      <td>17.0</td>\n",
              "      <td>12.0</td>\n",
              "      <td>13.0</td>\n",
              "      <td>1.0</td>\n",
              "      <td>NaN</td>\n",
              "      <td>1</td>\n",
              "      <td>NaN</td>\n",
              "      <td>NaN</td>\n",
              "      <td>NaN</td>\n",
              "      <td>NaN</td>\n",
              "      <td>0.0</td>\n",
              "      <td>20171219</td>\n",
              "    </tr>\n",
              "    <tr>\n",
              "      <th>...</th>\n",
              "      <td>...</td>\n",
              "      <td>...</td>\n",
              "      <td>...</td>\n",
              "      <td>...</td>\n",
              "      <td>...</td>\n",
              "      <td>...</td>\n",
              "      <td>...</td>\n",
              "      <td>...</td>\n",
              "      <td>...</td>\n",
              "      <td>...</td>\n",
              "      <td>...</td>\n",
              "      <td>...</td>\n",
              "      <td>...</td>\n",
              "      <td>...</td>\n",
              "      <td>...</td>\n",
              "      <td>...</td>\n",
              "      <td>...</td>\n",
              "      <td>...</td>\n",
              "      <td>...</td>\n",
              "      <td>...</td>\n",
              "      <td>...</td>\n",
              "      <td>...</td>\n",
              "      <td>...</td>\n",
              "      <td>...</td>\n",
              "      <td>...</td>\n",
              "      <td>...</td>\n",
              "      <td>...</td>\n",
              "      <td>...</td>\n",
              "      <td>...</td>\n",
              "      <td>...</td>\n",
              "      <td>...</td>\n",
              "      <td>...</td>\n",
              "      <td>...</td>\n",
              "      <td>...</td>\n",
              "    </tr>\n",
              "    <tr>\n",
              "      <th>995</th>\n",
              "      <td>2016</td>\n",
              "      <td>206725</td>\n",
              "      <td>2</td>\n",
              "      <td>12</td>\n",
              "      <td>41</td>\n",
              "      <td>150.0</td>\n",
              "      <td>60.0</td>\n",
              "      <td>86.0</td>\n",
              "      <td>0.8</td>\n",
              "      <td>0.8</td>\n",
              "      <td>1.0</td>\n",
              "      <td>1.0</td>\n",
              "      <td>117.0</td>\n",
              "      <td>80.0</td>\n",
              "      <td>121.0</td>\n",
              "      <td>226.0</td>\n",
              "      <td>103.0</td>\n",
              "      <td>73.0</td>\n",
              "      <td>132.0</td>\n",
              "      <td>13.6</td>\n",
              "      <td>1.0</td>\n",
              "      <td>0.9</td>\n",
              "      <td>24.0</td>\n",
              "      <td>36.0</td>\n",
              "      <td>34.0</td>\n",
              "      <td>1.0</td>\n",
              "      <td>NaN</td>\n",
              "      <td>0</td>\n",
              "      <td>NaN</td>\n",
              "      <td>NaN</td>\n",
              "      <td>NaN</td>\n",
              "      <td>NaN</td>\n",
              "      <td>NaN</td>\n",
              "      <td>20171219</td>\n",
              "    </tr>\n",
              "    <tr>\n",
              "      <th>996</th>\n",
              "      <td>2016</td>\n",
              "      <td>339681</td>\n",
              "      <td>2</td>\n",
              "      <td>12</td>\n",
              "      <td>48</td>\n",
              "      <td>155.0</td>\n",
              "      <td>55.0</td>\n",
              "      <td>66.0</td>\n",
              "      <td>0.8</td>\n",
              "      <td>0.7</td>\n",
              "      <td>1.0</td>\n",
              "      <td>1.0</td>\n",
              "      <td>122.0</td>\n",
              "      <td>85.0</td>\n",
              "      <td>103.0</td>\n",
              "      <td>181.0</td>\n",
              "      <td>70.0</td>\n",
              "      <td>81.0</td>\n",
              "      <td>86.0</td>\n",
              "      <td>11.0</td>\n",
              "      <td>1.0</td>\n",
              "      <td>0.7</td>\n",
              "      <td>24.0</td>\n",
              "      <td>20.0</td>\n",
              "      <td>21.0</td>\n",
              "      <td>1.0</td>\n",
              "      <td>NaN</td>\n",
              "      <td>0</td>\n",
              "      <td>NaN</td>\n",
              "      <td>NaN</td>\n",
              "      <td>NaN</td>\n",
              "      <td>NaN</td>\n",
              "      <td>NaN</td>\n",
              "      <td>20171219</td>\n",
              "    </tr>\n",
              "    <tr>\n",
              "      <th>997</th>\n",
              "      <td>2016</td>\n",
              "      <td>653494</td>\n",
              "      <td>2</td>\n",
              "      <td>11</td>\n",
              "      <td>11</td>\n",
              "      <td>155.0</td>\n",
              "      <td>45.0</td>\n",
              "      <td>66.0</td>\n",
              "      <td>1.2</td>\n",
              "      <td>1.0</td>\n",
              "      <td>1.0</td>\n",
              "      <td>1.0</td>\n",
              "      <td>104.0</td>\n",
              "      <td>71.0</td>\n",
              "      <td>80.0</td>\n",
              "      <td>222.0</td>\n",
              "      <td>46.0</td>\n",
              "      <td>61.0</td>\n",
              "      <td>152.0</td>\n",
              "      <td>13.2</td>\n",
              "      <td>1.0</td>\n",
              "      <td>0.8</td>\n",
              "      <td>18.0</td>\n",
              "      <td>14.0</td>\n",
              "      <td>16.0</td>\n",
              "      <td>1.0</td>\n",
              "      <td>NaN</td>\n",
              "      <td>1</td>\n",
              "      <td>NaN</td>\n",
              "      <td>NaN</td>\n",
              "      <td>NaN</td>\n",
              "      <td>NaN</td>\n",
              "      <td>0.0</td>\n",
              "      <td>20171219</td>\n",
              "    </tr>\n",
              "    <tr>\n",
              "      <th>998</th>\n",
              "      <td>2016</td>\n",
              "      <td>190984</td>\n",
              "      <td>2</td>\n",
              "      <td>14</td>\n",
              "      <td>41</td>\n",
              "      <td>145.0</td>\n",
              "      <td>50.0</td>\n",
              "      <td>80.0</td>\n",
              "      <td>0.5</td>\n",
              "      <td>0.5</td>\n",
              "      <td>1.0</td>\n",
              "      <td>1.0</td>\n",
              "      <td>133.0</td>\n",
              "      <td>68.0</td>\n",
              "      <td>91.0</td>\n",
              "      <td>164.0</td>\n",
              "      <td>101.0</td>\n",
              "      <td>52.0</td>\n",
              "      <td>91.0</td>\n",
              "      <td>13.9</td>\n",
              "      <td>1.0</td>\n",
              "      <td>0.8</td>\n",
              "      <td>37.0</td>\n",
              "      <td>25.0</td>\n",
              "      <td>17.0</td>\n",
              "      <td>1.0</td>\n",
              "      <td>NaN</td>\n",
              "      <td>0</td>\n",
              "      <td>NaN</td>\n",
              "      <td>NaN</td>\n",
              "      <td>NaN</td>\n",
              "      <td>NaN</td>\n",
              "      <td>NaN</td>\n",
              "      <td>20171219</td>\n",
              "    </tr>\n",
              "    <tr>\n",
              "      <th>999</th>\n",
              "      <td>2016</td>\n",
              "      <td>548105</td>\n",
              "      <td>1</td>\n",
              "      <td>6</td>\n",
              "      <td>41</td>\n",
              "      <td>170.0</td>\n",
              "      <td>80.0</td>\n",
              "      <td>85.0</td>\n",
              "      <td>1.2</td>\n",
              "      <td>1.5</td>\n",
              "      <td>1.0</td>\n",
              "      <td>1.0</td>\n",
              "      <td>121.0</td>\n",
              "      <td>72.0</td>\n",
              "      <td>94.0</td>\n",
              "      <td>202.0</td>\n",
              "      <td>82.0</td>\n",
              "      <td>42.0</td>\n",
              "      <td>144.0</td>\n",
              "      <td>15.6</td>\n",
              "      <td>1.0</td>\n",
              "      <td>1.0</td>\n",
              "      <td>18.0</td>\n",
              "      <td>19.0</td>\n",
              "      <td>33.0</td>\n",
              "      <td>3.0</td>\n",
              "      <td>NaN</td>\n",
              "      <td>1</td>\n",
              "      <td>NaN</td>\n",
              "      <td>NaN</td>\n",
              "      <td>NaN</td>\n",
              "      <td>NaN</td>\n",
              "      <td>0.0</td>\n",
              "      <td>20171219</td>\n",
              "    </tr>\n",
              "  </tbody>\n",
              "</table>\n",
              "<p>1000 rows × 34 columns</p>\n",
              "</div>\n",
              "      <button class=\"colab-df-convert\" onclick=\"convertToInteractive('df-b4a185b3-5e7c-4403-9b37-a68f0769f408')\"\n",
              "              title=\"Convert this dataframe to an interactive table.\"\n",
              "              style=\"display:none;\">\n",
              "        \n",
              "  <svg xmlns=\"http://www.w3.org/2000/svg\" height=\"24px\"viewBox=\"0 0 24 24\"\n",
              "       width=\"24px\">\n",
              "    <path d=\"M0 0h24v24H0V0z\" fill=\"none\"/>\n",
              "    <path d=\"M18.56 5.44l.94 2.06.94-2.06 2.06-.94-2.06-.94-.94-2.06-.94 2.06-2.06.94zm-11 1L8.5 8.5l.94-2.06 2.06-.94-2.06-.94L8.5 2.5l-.94 2.06-2.06.94zm10 10l.94 2.06.94-2.06 2.06-.94-2.06-.94-.94-2.06-.94 2.06-2.06.94z\"/><path d=\"M17.41 7.96l-1.37-1.37c-.4-.4-.92-.59-1.43-.59-.52 0-1.04.2-1.43.59L10.3 9.45l-7.72 7.72c-.78.78-.78 2.05 0 2.83L4 21.41c.39.39.9.59 1.41.59.51 0 1.02-.2 1.41-.59l7.78-7.78 2.81-2.81c.8-.78.8-2.07 0-2.86zM5.41 20L4 18.59l7.72-7.72 1.47 1.35L5.41 20z\"/>\n",
              "  </svg>\n",
              "      </button>\n",
              "      \n",
              "  <style>\n",
              "    .colab-df-container {\n",
              "      display:flex;\n",
              "      flex-wrap:wrap;\n",
              "      gap: 12px;\n",
              "    }\n",
              "\n",
              "    .colab-df-convert {\n",
              "      background-color: #E8F0FE;\n",
              "      border: none;\n",
              "      border-radius: 50%;\n",
              "      cursor: pointer;\n",
              "      display: none;\n",
              "      fill: #1967D2;\n",
              "      height: 32px;\n",
              "      padding: 0 0 0 0;\n",
              "      width: 32px;\n",
              "    }\n",
              "\n",
              "    .colab-df-convert:hover {\n",
              "      background-color: #E2EBFA;\n",
              "      box-shadow: 0px 1px 2px rgba(60, 64, 67, 0.3), 0px 1px 3px 1px rgba(60, 64, 67, 0.15);\n",
              "      fill: #174EA6;\n",
              "    }\n",
              "\n",
              "    [theme=dark] .colab-df-convert {\n",
              "      background-color: #3B4455;\n",
              "      fill: #D2E3FC;\n",
              "    }\n",
              "\n",
              "    [theme=dark] .colab-df-convert:hover {\n",
              "      background-color: #434B5C;\n",
              "      box-shadow: 0px 1px 3px 1px rgba(0, 0, 0, 0.15);\n",
              "      filter: drop-shadow(0px 1px 2px rgba(0, 0, 0, 0.3));\n",
              "      fill: #FFFFFF;\n",
              "    }\n",
              "  </style>\n",
              "\n",
              "      <script>\n",
              "        const buttonEl =\n",
              "          document.querySelector('#df-b4a185b3-5e7c-4403-9b37-a68f0769f408 button.colab-df-convert');\n",
              "        buttonEl.style.display =\n",
              "          google.colab.kernel.accessAllowed ? 'block' : 'none';\n",
              "\n",
              "        async function convertToInteractive(key) {\n",
              "          const element = document.querySelector('#df-b4a185b3-5e7c-4403-9b37-a68f0769f408');\n",
              "          const dataTable =\n",
              "            await google.colab.kernel.invokeFunction('convertToInteractive',\n",
              "                                                     [key], {});\n",
              "          if (!dataTable) return;\n",
              "\n",
              "          const docLinkHtml = 'Like what you see? Visit the ' +\n",
              "            '<a target=\"_blank\" href=https://colab.research.google.com/notebooks/data_table.ipynb>data table notebook</a>'\n",
              "            + ' to learn more about interactive tables.';\n",
              "          element.innerHTML = '';\n",
              "          dataTable['output_type'] = 'display_data';\n",
              "          await google.colab.output.renderOutput(dataTable, element);\n",
              "          const docLink = document.createElement('div');\n",
              "          docLink.innerHTML = docLinkHtml;\n",
              "          element.appendChild(docLink);\n",
              "        }\n",
              "      </script>\n",
              "    </div>\n",
              "  </div>\n",
              "  "
            ],
            "text/plain": [
              "     기준년도  가입자일련번호  성별코드  연령대코드(5세단위)  ...  치아마모증유무  제3대구치(사랑니)이상   치석   데이터공개일자\n",
              "0    2016   465969     1            8  ...      NaN           NaN  2.0  20171219\n",
              "1    2016   565871     1           10  ...      NaN           NaN  NaN  20171219\n",
              "2    2016   115718     2           11  ...      NaN           NaN  0.0  20171219\n",
              "3    2016   767524     1            6  ...      NaN           NaN  NaN  20171219\n",
              "4    2016   482178     2            9  ...      NaN           NaN  0.0  20171219\n",
              "..    ...      ...   ...          ...  ...      ...           ...  ...       ...\n",
              "995  2016   206725     2           12  ...      NaN           NaN  NaN  20171219\n",
              "996  2016   339681     2           12  ...      NaN           NaN  NaN  20171219\n",
              "997  2016   653494     2           11  ...      NaN           NaN  0.0  20171219\n",
              "998  2016   190984     2           14  ...      NaN           NaN  NaN  20171219\n",
              "999  2016   548105     1            6  ...      NaN           NaN  0.0  20171219\n",
              "\n",
              "[1000 rows x 34 columns]"
            ]
          },
          "metadata": {},
          "execution_count": 5
        }
      ]
    },
    {
      "cell_type": "code",
      "source": [
        "rawData['흡연상태'].unique()"
      ],
      "metadata": {
        "colab": {
          "base_uri": "https://localhost:8080/"
        },
        "id": "2pdgMMUdhq0C",
        "outputId": "f51c594d-1d74-471e-8171-f9d4eb3cbcef"
      },
      "execution_count": 6,
      "outputs": [
        {
          "output_type": "execute_result",
          "data": {
            "text/plain": [
              "array([3., 1., 2.])"
            ]
          },
          "metadata": {},
          "execution_count": 6
        }
      ]
    },
    {
      "cell_type": "code",
      "source": [
        "rawData['성별코드'].unique()"
      ],
      "metadata": {
        "colab": {
          "base_uri": "https://localhost:8080/"
        },
        "id": "RkRShsxzigcI",
        "outputId": "b2d66281-106d-4d19-8d0a-d68e02c25e45"
      },
      "execution_count": 7,
      "outputs": [
        {
          "output_type": "execute_result",
          "data": {
            "text/plain": [
              "array([1, 2])"
            ]
          },
          "metadata": {},
          "execution_count": 7
        }
      ]
    },
    {
      "cell_type": "code",
      "source": [
        "sns.countplot(data=rawData,x='흡연상태')"
      ],
      "metadata": {
        "colab": {
          "base_uri": "https://localhost:8080/",
          "height": 296
        },
        "id": "OKDnAuS8i64u",
        "outputId": "2b9e8b1e-8bea-4c69-baab-b792319e7ac2"
      },
      "execution_count": 8,
      "outputs": [
        {
          "output_type": "execute_result",
          "data": {
            "text/plain": [
              "<matplotlib.axes._subplots.AxesSubplot at 0x7ff4d27d2990>"
            ]
          },
          "metadata": {},
          "execution_count": 8
        },
        {
          "output_type": "display_data",
          "data": {
            "image/png": "[encoded data removed]",
            "text/plain": [
              "<Figure size 432x288 with 1 Axes>"
            ]
          },
          "metadata": {
            "needs_background": "light"
          }
        }
      ]
    },
    {
      "cell_type": "code",
      "source": [
        "sns.countplot(data=rawData, x='성별코드')"
      ],
      "metadata": {
        "colab": {
          "base_uri": "https://localhost:8080/",
          "height": 296
        },
        "id": "lFNuUnAsjyne",
        "outputId": "f280620c-7789-41b5-fb63-f43e033b5700"
      },
      "execution_count": 10,
      "outputs": [
        {
          "output_type": "execute_result",
          "data": {
            "text/plain": [
              "<matplotlib.axes._subplots.AxesSubplot at 0x7ff4bd620bd0>"
            ]
          },
          "metadata": {},
          "execution_count": 10
        },
        {
          "output_type": "display_data",
          "data": {
            "image/png": "[encoded data removed]",
            "text/plain": [
              "<Figure size 432x288 with 1 Axes>"
            ]
          },
          "metadata": {
            "needs_background": "light"
          }
        }
      ]
    },
    {
      "cell_type": "code",
      "source": [
        "rawData['시도코드'].unique()"
      ],
      "metadata": {
        "colab": {
          "base_uri": "https://localhost:8080/"
        },
        "id": "Z8KFitq2kZ1D",
        "outputId": "14e5727e-4df8-44ed-e398-5c91f8efdfa4"
      },
      "execution_count": 11,
      "outputs": [
        {
          "output_type": "execute_result",
          "data": {
            "text/plain": [
              "array([41, 11, 28, 42, 26, 29, 45, 43, 47, 48, 30, 27, 31, 44, 46, 36, 49])"
            ]
          },
          "metadata": {},
          "execution_count": 11
        }
      ]
    },
    {
      "cell_type": "code",
      "source": [
        "sns.countplot(data=rawData, x='연령대코드(5세단위)')"
      ],
      "metadata": {
        "colab": {
          "base_uri": "https://localhost:8080/",
          "height": 297
        },
        "id": "UX06w11sk5h3",
        "outputId": "5d8043fc-270f-4833-968e-0b965d6c6157"
      },
      "execution_count": 13,
      "outputs": [
        {
          "output_type": "execute_result",
          "data": {
            "text/plain": [
              "<matplotlib.axes._subplots.AxesSubplot at 0x7ff4bd83c050>"
            ]
          },
          "metadata": {},
          "execution_count": 13
        },
        {
          "output_type": "display_data",
          "data": {
            "image/png": "[encoded data removed]",
            "text/plain": [
              "<Figure size 432x288 with 1 Axes>"
            ]
          },
          "metadata": {
            "needs_background": "light"
          }
        }
      ]
    },
    {
      "cell_type": "code",
      "source": [
        "sns.histplot(data=rawData, x='총콜레스테롤')"
      ],
      "metadata": {
        "colab": {
          "base_uri": "https://localhost:8080/",
          "height": 296
        },
        "id": "SdKWsNy_lGJw",
        "outputId": "d9ef77be-672c-48fb-832f-b3fc95fc6ab8"
      },
      "execution_count": 14,
      "outputs": [
        {
          "output_type": "execute_result",
          "data": {
            "text/plain": [
              "<matplotlib.axes._subplots.AxesSubplot at 0x7ff4b9223f90>"
            ]
          },
          "metadata": {},
          "execution_count": 14
        },
        {
          "output_type": "display_data",
          "data": {
            "image/png": "[encoded data removed]",
            "text/plain": [
              "<Figure size 432x288 with 1 Axes>"
            ]
          },
          "metadata": {
            "needs_background": "light"
          }
        }
      ]
    },
    {
      "cell_type": "code",
      "source": [
        "sns.histplot(data=rawData,x='트리글리세라이드', bins=50)"
      ],
      "metadata": {
        "colab": {
          "base_uri": "https://localhost:8080/",
          "height": 296
        },
        "id": "evSro3gamGq2",
        "outputId": "a48a38e4-969c-42b2-a6ad-58804c0e834b"
      },
      "execution_count": 15,
      "outputs": [
        {
          "output_type": "execute_result",
          "data": {
            "text/plain": [
              "<matplotlib.axes._subplots.AxesSubplot at 0x7ff4b7ea4690>"
            ]
          },
          "metadata": {},
          "execution_count": 15
        },
        {
          "output_type": "display_data",
          "data": {
            "image/png": "[encoded data removed]",
            "text/plain": [
              "<Figure size 432x288 with 1 Axes>"
            ]
          },
          "metadata": {
            "needs_background": "light"
          }
        }
      ]
    },
    {
      "cell_type": "code",
      "source": [
        "rawData_without_outlier= rawData.drop(index=942)"
      ],
      "metadata": {
        "id": "IQ0l2ql0mXfN"
      },
      "execution_count": 16,
      "outputs": []
    },
    {
      "cell_type": "code",
      "source": [
        "rawData"
      ],
      "metadata": {
        "colab": {
          "base_uri": "https://localhost:8080/",
          "height": 626
        },
        "id": "IvyKcslKnQVz",
        "outputId": "a795acb8-5194-4d7c-9844-739ea854f6ec"
      },
      "execution_count": 17,
      "outputs": [
        {
          "output_type": "execute_result",
          "data": {
            "text/html": [
              "\n",
              "  <div id=\"df-20dcdb4f-9575-4e07-b54e-f0fa3ae720d7\">\n",
              "    <div class=\"colab-df-container\">\n",
              "      <div>\n",
              "<style scoped>\n",
              "    .dataframe tbody tr th:only-of-type {\n",
              "        vertical-align: middle;\n",
              "    }\n",
              "\n",
              "    .dataframe tbody tr th {\n",
              "        vertical-align: top;\n",
              "    }\n",
              "\n",
              "    .dataframe thead th {\n",
              "        text-align: right;\n",
              "    }\n",
              "</style>\n",
              "<table border=\"1\" class=\"dataframe\">\n",
              "  <thead>\n",
              "    <tr style=\"text-align: right;\">\n",
              "      <th></th>\n",
              "      <th>기준년도</th>\n",
              "      <th>가입자일련번호</th>\n",
              "      <th>성별코드</th>\n",
              "      <th>연령대코드(5세단위)</th>\n",
              "      <th>시도코드</th>\n",
              "      <th>신장(5Cm단위)</th>\n",
              "      <th>체중(5Kg단위)</th>\n",
              "      <th>허리둘레</th>\n",
              "      <th>시력(좌)</th>\n",
              "      <th>시력(우)</th>\n",
              "      <th>청력(좌)</th>\n",
              "      <th>청력(우)</th>\n",
              "      <th>수축기혈압</th>\n",
              "      <th>이완기혈압</th>\n",
              "      <th>식전혈당(공복혈당)</th>\n",
              "      <th>총콜레스테롤</th>\n",
              "      <th>트리글리세라이드</th>\n",
              "      <th>HDL콜레스테롤</th>\n",
              "      <th>LDL콜레스테롤</th>\n",
              "      <th>혈색소</th>\n",
              "      <th>요단백</th>\n",
              "      <th>혈청크레아티닌</th>\n",
              "      <th>(혈청지오티)AST</th>\n",
              "      <th>(혈청지오티)ALT</th>\n",
              "      <th>감마지티피</th>\n",
              "      <th>흡연상태</th>\n",
              "      <th>음주여부</th>\n",
              "      <th>구강검진 수검여부</th>\n",
              "      <th>치아우식증유무</th>\n",
              "      <th>결손치유무</th>\n",
              "      <th>치아마모증유무</th>\n",
              "      <th>제3대구치(사랑니)이상</th>\n",
              "      <th>치석</th>\n",
              "      <th>데이터공개일자</th>\n",
              "    </tr>\n",
              "  </thead>\n",
              "  <tbody>\n",
              "    <tr>\n",
              "      <th>0</th>\n",
              "      <td>2016</td>\n",
              "      <td>465969</td>\n",
              "      <td>1</td>\n",
              "      <td>8</td>\n",
              "      <td>41</td>\n",
              "      <td>170.0</td>\n",
              "      <td>70.0</td>\n",
              "      <td>74.0</td>\n",
              "      <td>0.7</td>\n",
              "      <td>0.7</td>\n",
              "      <td>1.0</td>\n",
              "      <td>1.0</td>\n",
              "      <td>118.0</td>\n",
              "      <td>70.0</td>\n",
              "      <td>85.0</td>\n",
              "      <td>194.0</td>\n",
              "      <td>97.0</td>\n",
              "      <td>54.0</td>\n",
              "      <td>120.0</td>\n",
              "      <td>14.6</td>\n",
              "      <td>2.0</td>\n",
              "      <td>1.1</td>\n",
              "      <td>31.0</td>\n",
              "      <td>36.0</td>\n",
              "      <td>96.0</td>\n",
              "      <td>3.0</td>\n",
              "      <td>NaN</td>\n",
              "      <td>1</td>\n",
              "      <td>NaN</td>\n",
              "      <td>NaN</td>\n",
              "      <td>NaN</td>\n",
              "      <td>NaN</td>\n",
              "      <td>2.0</td>\n",
              "      <td>20171219</td>\n",
              "    </tr>\n",
              "    <tr>\n",
              "      <th>1</th>\n",
              "      <td>2016</td>\n",
              "      <td>565871</td>\n",
              "      <td>1</td>\n",
              "      <td>10</td>\n",
              "      <td>41</td>\n",
              "      <td>160.0</td>\n",
              "      <td>60.0</td>\n",
              "      <td>81.0</td>\n",
              "      <td>1.2</td>\n",
              "      <td>1.0</td>\n",
              "      <td>1.0</td>\n",
              "      <td>1.0</td>\n",
              "      <td>134.0</td>\n",
              "      <td>84.0</td>\n",
              "      <td>105.0</td>\n",
              "      <td>143.0</td>\n",
              "      <td>84.0</td>\n",
              "      <td>33.0</td>\n",
              "      <td>93.0</td>\n",
              "      <td>16.2</td>\n",
              "      <td>1.0</td>\n",
              "      <td>1.0</td>\n",
              "      <td>20.0</td>\n",
              "      <td>23.0</td>\n",
              "      <td>14.0</td>\n",
              "      <td>1.0</td>\n",
              "      <td>NaN</td>\n",
              "      <td>0</td>\n",
              "      <td>NaN</td>\n",
              "      <td>NaN</td>\n",
              "      <td>NaN</td>\n",
              "      <td>NaN</td>\n",
              "      <td>NaN</td>\n",
              "      <td>20171219</td>\n",
              "    </tr>\n",
              "    <tr>\n",
              "      <th>2</th>\n",
              "      <td>2016</td>\n",
              "      <td>115718</td>\n",
              "      <td>2</td>\n",
              "      <td>11</td>\n",
              "      <td>11</td>\n",
              "      <td>160.0</td>\n",
              "      <td>55.0</td>\n",
              "      <td>71.0</td>\n",
              "      <td>1.0</td>\n",
              "      <td>1.0</td>\n",
              "      <td>1.0</td>\n",
              "      <td>1.0</td>\n",
              "      <td>129.0</td>\n",
              "      <td>85.0</td>\n",
              "      <td>86.0</td>\n",
              "      <td>203.0</td>\n",
              "      <td>52.0</td>\n",
              "      <td>51.0</td>\n",
              "      <td>141.0</td>\n",
              "      <td>14.0</td>\n",
              "      <td>1.0</td>\n",
              "      <td>0.8</td>\n",
              "      <td>17.0</td>\n",
              "      <td>14.0</td>\n",
              "      <td>20.0</td>\n",
              "      <td>1.0</td>\n",
              "      <td>NaN</td>\n",
              "      <td>1</td>\n",
              "      <td>NaN</td>\n",
              "      <td>NaN</td>\n",
              "      <td>NaN</td>\n",
              "      <td>NaN</td>\n",
              "      <td>0.0</td>\n",
              "      <td>20171219</td>\n",
              "    </tr>\n",
              "    <tr>\n",
              "      <th>3</th>\n",
              "      <td>2016</td>\n",
              "      <td>767524</td>\n",
              "      <td>1</td>\n",
              "      <td>6</td>\n",
              "      <td>28</td>\n",
              "      <td>180.0</td>\n",
              "      <td>70.0</td>\n",
              "      <td>79.0</td>\n",
              "      <td>1.0</td>\n",
              "      <td>0.9</td>\n",
              "      <td>1.0</td>\n",
              "      <td>1.0</td>\n",
              "      <td>137.0</td>\n",
              "      <td>78.0</td>\n",
              "      <td>92.0</td>\n",
              "      <td>154.0</td>\n",
              "      <td>53.0</td>\n",
              "      <td>55.0</td>\n",
              "      <td>94.0</td>\n",
              "      <td>14.6</td>\n",
              "      <td>1.0</td>\n",
              "      <td>1.0</td>\n",
              "      <td>21.0</td>\n",
              "      <td>23.0</td>\n",
              "      <td>16.0</td>\n",
              "      <td>1.0</td>\n",
              "      <td>NaN</td>\n",
              "      <td>0</td>\n",
              "      <td>NaN</td>\n",
              "      <td>NaN</td>\n",
              "      <td>NaN</td>\n",
              "      <td>NaN</td>\n",
              "      <td>NaN</td>\n",
              "      <td>20171219</td>\n",
              "    </tr>\n",
              "    <tr>\n",
              "      <th>4</th>\n",
              "      <td>2016</td>\n",
              "      <td>482178</td>\n",
              "      <td>2</td>\n",
              "      <td>9</td>\n",
              "      <td>11</td>\n",
              "      <td>160.0</td>\n",
              "      <td>60.0</td>\n",
              "      <td>85.0</td>\n",
              "      <td>0.8</td>\n",
              "      <td>1.2</td>\n",
              "      <td>1.0</td>\n",
              "      <td>1.0</td>\n",
              "      <td>92.0</td>\n",
              "      <td>60.0</td>\n",
              "      <td>90.0</td>\n",
              "      <td>239.0</td>\n",
              "      <td>148.0</td>\n",
              "      <td>46.0</td>\n",
              "      <td>163.0</td>\n",
              "      <td>10.3</td>\n",
              "      <td>1.0</td>\n",
              "      <td>0.9</td>\n",
              "      <td>17.0</td>\n",
              "      <td>12.0</td>\n",
              "      <td>13.0</td>\n",
              "      <td>1.0</td>\n",
              "      <td>NaN</td>\n",
              "      <td>1</td>\n",
              "      <td>NaN</td>\n",
              "      <td>NaN</td>\n",
              "      <td>NaN</td>\n",
              "      <td>NaN</td>\n",
              "      <td>0.0</td>\n",
              "      <td>20171219</td>\n",
              "    </tr>\n",
              "    <tr>\n",
              "      <th>...</th>\n",
              "      <td>...</td>\n",
              "      <td>...</td>\n",
              "      <td>...</td>\n",
              "      <td>...</td>\n",
              "      <td>...</td>\n",
              "      <td>...</td>\n",
              "      <td>...</td>\n",
              "      <td>...</td>\n",
              "      <td>...</td>\n",
              "      <td>...</td>\n",
              "      <td>...</td>\n",
              "      <td>...</td>\n",
              "      <td>...</td>\n",
              "      <td>...</td>\n",
              "      <td>...</td>\n",
              "      <td>...</td>\n",
              "      <td>...</td>\n",
              "      <td>...</td>\n",
              "      <td>...</td>\n",
              "      <td>...</td>\n",
              "      <td>...</td>\n",
              "      <td>...</td>\n",
              "      <td>...</td>\n",
              "      <td>...</td>\n",
              "      <td>...</td>\n",
              "      <td>...</td>\n",
              "      <td>...</td>\n",
              "      <td>...</td>\n",
              "      <td>...</td>\n",
              "      <td>...</td>\n",
              "      <td>...</td>\n",
              "      <td>...</td>\n",
              "      <td>...</td>\n",
              "      <td>...</td>\n",
              "    </tr>\n",
              "    <tr>\n",
              "      <th>995</th>\n",
              "      <td>2016</td>\n",
              "      <td>206725</td>\n",
              "      <td>2</td>\n",
              "      <td>12</td>\n",
              "      <td>41</td>\n",
              "      <td>150.0</td>\n",
              "      <td>60.0</td>\n",
              "      <td>86.0</td>\n",
              "      <td>0.8</td>\n",
              "      <td>0.8</td>\n",
              "      <td>1.0</td>\n",
              "      <td>1.0</td>\n",
              "      <td>117.0</td>\n",
              "      <td>80.0</td>\n",
              "      <td>121.0</td>\n",
              "      <td>226.0</td>\n",
              "      <td>103.0</td>\n",
              "      <td>73.0</td>\n",
              "      <td>132.0</td>\n",
              "      <td>13.6</td>\n",
              "      <td>1.0</td>\n",
              "      <td>0.9</td>\n",
              "      <td>24.0</td>\n",
              "      <td>36.0</td>\n",
              "      <td>34.0</td>\n",
              "      <td>1.0</td>\n",
              "      <td>NaN</td>\n",
              "      <td>0</td>\n",
              "      <td>NaN</td>\n",
              "      <td>NaN</td>\n",
              "      <td>NaN</td>\n",
              "      <td>NaN</td>\n",
              "      <td>NaN</td>\n",
              "      <td>20171219</td>\n",
              "    </tr>\n",
              "    <tr>\n",
              "      <th>996</th>\n",
              "      <td>2016</td>\n",
              "      <td>339681</td>\n",
              "      <td>2</td>\n",
              "      <td>12</td>\n",
              "      <td>48</td>\n",
              "      <td>155.0</td>\n",
              "      <td>55.0</td>\n",
              "      <td>66.0</td>\n",
              "      <td>0.8</td>\n",
              "      <td>0.7</td>\n",
              "      <td>1.0</td>\n",
              "      <td>1.0</td>\n",
              "      <td>122.0</td>\n",
              "      <td>85.0</td>\n",
              "      <td>103.0</td>\n",
              "      <td>181.0</td>\n",
              "      <td>70.0</td>\n",
              "      <td>81.0</td>\n",
              "      <td>86.0</td>\n",
              "      <td>11.0</td>\n",
              "      <td>1.0</td>\n",
              "      <td>0.7</td>\n",
              "      <td>24.0</td>\n",
              "      <td>20.0</td>\n",
              "      <td>21.0</td>\n",
              "      <td>1.0</td>\n",
              "      <td>NaN</td>\n",
              "      <td>0</td>\n",
              "      <td>NaN</td>\n",
              "      <td>NaN</td>\n",
              "      <td>NaN</td>\n",
              "      <td>NaN</td>\n",
              "      <td>NaN</td>\n",
              "      <td>20171219</td>\n",
              "    </tr>\n",
              "    <tr>\n",
              "      <th>997</th>\n",
              "      <td>2016</td>\n",
              "      <td>653494</td>\n",
              "      <td>2</td>\n",
              "      <td>11</td>\n",
              "      <td>11</td>\n",
              "      <td>155.0</td>\n",
              "      <td>45.0</td>\n",
              "      <td>66.0</td>\n",
              "      <td>1.2</td>\n",
              "      <td>1.0</td>\n",
              "      <td>1.0</td>\n",
              "      <td>1.0</td>\n",
              "      <td>104.0</td>\n",
              "      <td>71.0</td>\n",
              "      <td>80.0</td>\n",
              "      <td>222.0</td>\n",
              "      <td>46.0</td>\n",
              "      <td>61.0</td>\n",
              "      <td>152.0</td>\n",
              "      <td>13.2</td>\n",
              "      <td>1.0</td>\n",
              "      <td>0.8</td>\n",
              "      <td>18.0</td>\n",
              "      <td>14.0</td>\n",
              "      <td>16.0</td>\n",
              "      <td>1.0</td>\n",
              "      <td>NaN</td>\n",
              "      <td>1</td>\n",
              "      <td>NaN</td>\n",
              "      <td>NaN</td>\n",
              "      <td>NaN</td>\n",
              "      <td>NaN</td>\n",
              "      <td>0.0</td>\n",
              "      <td>20171219</td>\n",
              "    </tr>\n",
              "    <tr>\n",
              "      <th>998</th>\n",
              "      <td>2016</td>\n",
              "      <td>190984</td>\n",
              "      <td>2</td>\n",
              "      <td>14</td>\n",
              "      <td>41</td>\n",
              "      <td>145.0</td>\n",
              "      <td>50.0</td>\n",
              "      <td>80.0</td>\n",
              "      <td>0.5</td>\n",
              "      <td>0.5</td>\n",
              "      <td>1.0</td>\n",
              "      <td>1.0</td>\n",
              "      <td>133.0</td>\n",
              "      <td>68.0</td>\n",
              "      <td>91.0</td>\n",
              "      <td>164.0</td>\n",
              "      <td>101.0</td>\n",
              "      <td>52.0</td>\n",
              "      <td>91.0</td>\n",
              "      <td>13.9</td>\n",
              "      <td>1.0</td>\n",
              "      <td>0.8</td>\n",
              "      <td>37.0</td>\n",
              "      <td>25.0</td>\n",
              "      <td>17.0</td>\n",
              "      <td>1.0</td>\n",
              "      <td>NaN</td>\n",
              "      <td>0</td>\n",
              "      <td>NaN</td>\n",
              "      <td>NaN</td>\n",
              "      <td>NaN</td>\n",
              "      <td>NaN</td>\n",
              "      <td>NaN</td>\n",
              "      <td>20171219</td>\n",
              "    </tr>\n",
              "    <tr>\n",
              "      <th>999</th>\n",
              "      <td>2016</td>\n",
              "      <td>548105</td>\n",
              "      <td>1</td>\n",
              "      <td>6</td>\n",
              "      <td>41</td>\n",
              "      <td>170.0</td>\n",
              "      <td>80.0</td>\n",
              "      <td>85.0</td>\n",
              "      <td>1.2</td>\n",
              "      <td>1.5</td>\n",
              "      <td>1.0</td>\n",
              "      <td>1.0</td>\n",
              "      <td>121.0</td>\n",
              "      <td>72.0</td>\n",
              "      <td>94.0</td>\n",
              "      <td>202.0</td>\n",
              "      <td>82.0</td>\n",
              "      <td>42.0</td>\n",
              "      <td>144.0</td>\n",
              "      <td>15.6</td>\n",
              "      <td>1.0</td>\n",
              "      <td>1.0</td>\n",
              "      <td>18.0</td>\n",
              "      <td>19.0</td>\n",
              "      <td>33.0</td>\n",
              "      <td>3.0</td>\n",
              "      <td>NaN</td>\n",
              "      <td>1</td>\n",
              "      <td>NaN</td>\n",
              "      <td>NaN</td>\n",
              "      <td>NaN</td>\n",
              "      <td>NaN</td>\n",
              "      <td>0.0</td>\n",
              "      <td>20171219</td>\n",
              "    </tr>\n",
              "  </tbody>\n",
              "</table>\n",
              "<p>1000 rows × 34 columns</p>\n",
              "</div>\n",
              "      <button class=\"colab-df-convert\" onclick=\"convertToInteractive('df-20dcdb4f-9575-4e07-b54e-f0fa3ae720d7')\"\n",
              "              title=\"Convert this dataframe to an interactive table.\"\n",
              "              style=\"display:none;\">\n",
              "        \n",
              "  <svg xmlns=\"http://www.w3.org/2000/svg\" height=\"24px\"viewBox=\"0 0 24 24\"\n",
              "       width=\"24px\">\n",
              "    <path d=\"M0 0h24v24H0V0z\" fill=\"none\"/>\n",
              "    <path d=\"M18.56 5.44l.94 2.06.94-2.06 2.06-.94-2.06-.94-.94-2.06-.94 2.06-2.06.94zm-11 1L8.5 8.5l.94-2.06 2.06-.94-2.06-.94L8.5 2.5l-.94 2.06-2.06.94zm10 10l.94 2.06.94-2.06 2.06-.94-2.06-.94-.94-2.06-.94 2.06-2.06.94z\"/><path d=\"M17.41 7.96l-1.37-1.37c-.4-.4-.92-.59-1.43-.59-.52 0-1.04.2-1.43.59L10.3 9.45l-7.72 7.72c-.78.78-.78 2.05 0 2.83L4 21.41c.39.39.9.59 1.41.59.51 0 1.02-.2 1.41-.59l7.78-7.78 2.81-2.81c.8-.78.8-2.07 0-2.86zM5.41 20L4 18.59l7.72-7.72 1.47 1.35L5.41 20z\"/>\n",
              "  </svg>\n",
              "      </button>\n",
              "      \n",
              "  <style>\n",
              "    .colab-df-container {\n",
              "      display:flex;\n",
              "      flex-wrap:wrap;\n",
              "      gap: 12px;\n",
              "    }\n",
              "\n",
              "    .colab-df-convert {\n",
              "      background-color: #E8F0FE;\n",
              "      border: none;\n",
              "      border-radius: 50%;\n",
              "      cursor: pointer;\n",
              "      display: none;\n",
              "      fill: #1967D2;\n",
              "      height: 32px;\n",
              "      padding: 0 0 0 0;\n",
              "      width: 32px;\n",
              "    }\n",
              "\n",
              "    .colab-df-convert:hover {\n",
              "      background-color: #E2EBFA;\n",
              "      box-shadow: 0px 1px 2px rgba(60, 64, 67, 0.3), 0px 1px 3px 1px rgba(60, 64, 67, 0.15);\n",
              "      fill: #174EA6;\n",
              "    }\n",
              "\n",
              "    [theme=dark] .colab-df-convert {\n",
              "      background-color: #3B4455;\n",
              "      fill: #D2E3FC;\n",
              "    }\n",
              "\n",
              "    [theme=dark] .colab-df-convert:hover {\n",
              "      background-color: #434B5C;\n",
              "      box-shadow: 0px 1px 3px 1px rgba(0, 0, 0, 0.15);\n",
              "      filter: drop-shadow(0px 1px 2px rgba(0, 0, 0, 0.3));\n",
              "      fill: #FFFFFF;\n",
              "    }\n",
              "  </style>\n",
              "\n",
              "      <script>\n",
              "        const buttonEl =\n",
              "          document.querySelector('#df-20dcdb4f-9575-4e07-b54e-f0fa3ae720d7 button.colab-df-convert');\n",
              "        buttonEl.style.display =\n",
              "          google.colab.kernel.accessAllowed ? 'block' : 'none';\n",
              "\n",
              "        async function convertToInteractive(key) {\n",
              "          const element = document.querySelector('#df-20dcdb4f-9575-4e07-b54e-f0fa3ae720d7');\n",
              "          const dataTable =\n",
              "            await google.colab.kernel.invokeFunction('convertToInteractive',\n",
              "                                                     [key], {});\n",
              "          if (!dataTable) return;\n",
              "\n",
              "          const docLinkHtml = 'Like what you see? Visit the ' +\n",
              "            '<a target=\"_blank\" href=https://colab.research.google.com/notebooks/data_table.ipynb>data table notebook</a>'\n",
              "            + ' to learn more about interactive tables.';\n",
              "          element.innerHTML = '';\n",
              "          dataTable['output_type'] = 'display_data';\n",
              "          await google.colab.output.renderOutput(dataTable, element);\n",
              "          const docLink = document.createElement('div');\n",
              "          docLink.innerHTML = docLinkHtml;\n",
              "          element.appendChild(docLink);\n",
              "        }\n",
              "      </script>\n",
              "    </div>\n",
              "  </div>\n",
              "  "
            ],
            "text/plain": [
              "     기준년도  가입자일련번호  성별코드  연령대코드(5세단위)  ...  치아마모증유무  제3대구치(사랑니)이상   치석   데이터공개일자\n",
              "0    2016   465969     1            8  ...      NaN           NaN  2.0  20171219\n",
              "1    2016   565871     1           10  ...      NaN           NaN  NaN  20171219\n",
              "2    2016   115718     2           11  ...      NaN           NaN  0.0  20171219\n",
              "3    2016   767524     1            6  ...      NaN           NaN  NaN  20171219\n",
              "4    2016   482178     2            9  ...      NaN           NaN  0.0  20171219\n",
              "..    ...      ...   ...          ...  ...      ...           ...  ...       ...\n",
              "995  2016   206725     2           12  ...      NaN           NaN  NaN  20171219\n",
              "996  2016   339681     2           12  ...      NaN           NaN  NaN  20171219\n",
              "997  2016   653494     2           11  ...      NaN           NaN  0.0  20171219\n",
              "998  2016   190984     2           14  ...      NaN           NaN  NaN  20171219\n",
              "999  2016   548105     1            6  ...      NaN           NaN  0.0  20171219\n",
              "\n",
              "[1000 rows x 34 columns]"
            ]
          },
          "metadata": {},
          "execution_count": 17
        }
      ]
    },
    {
      "cell_type": "code",
      "source": [
        "sns.histplot(data=rawData_without_outlier, x='트리글리세라이드')"
      ],
      "metadata": {
        "colab": {
          "base_uri": "https://localhost:8080/",
          "height": 296
        },
        "id": "84asQHAInRgz",
        "outputId": "63c0fb21-4a73-4f07-d784-af0d6064eaf9"
      },
      "execution_count": 20,
      "outputs": [
        {
          "output_type": "execute_result",
          "data": {
            "text/plain": [
              "<matplotlib.axes._subplots.AxesSubplot at 0x7ff4b7ccba90>"
            ]
          },
          "metadata": {},
          "execution_count": 20
        },
        {
          "output_type": "display_data",
          "data": {
            "image/png": "[encoded data removed]",
            "text/plain": [
              "<Figure size 432x288 with 1 Axes>"
            ]
          },
          "metadata": {
            "needs_background": "light"
          }
        }
      ]
    },
    {
      "cell_type": "code",
      "source": [
        "sns.displot(data=rawData, x='총콜레스테롤', kde=True)"
      ],
      "metadata": {
        "colab": {
          "base_uri": "https://localhost:8080/",
          "height": 387
        },
        "id": "zWmZH0W-nWMS",
        "outputId": "a877c620-fa43-432c-c162-40db44a4dc63"
      },
      "execution_count": 26,
      "outputs": [
        {
          "output_type": "execute_result",
          "data": {
            "text/plain": [
              "<seaborn.axisgrid.FacetGrid at 0x7ff4af2bd590>"
            ]
          },
          "metadata": {},
          "execution_count": 26
        },
        {
          "output_type": "display_data",
          "data": {
            "image/png": "[encoded data removed]",
            "text/plain": [
              "<Figure size 360x360 with 1 Axes>"
            ]
          },
          "metadata": {
            "needs_background": "light"
          }
        }
      ]
    },
    {
      "cell_type": "code",
      "source": [
        "sns.scatterplot(data=rawData_without_outlier, x='총콜레스테롤', y='트리글리세라이드')"
      ],
      "metadata": {
        "colab": {
          "base_uri": "https://localhost:8080/",
          "height": 296
        },
        "id": "r9PoIOi3pQ5j",
        "outputId": "7434da80-98af-484c-e33a-ec2cd201404b"
      },
      "execution_count": 27,
      "outputs": [
        {
          "output_type": "execute_result",
          "data": {
            "text/plain": [
              "<matplotlib.axes._subplots.AxesSubplot at 0x7ff4aef144d0>"
            ]
          },
          "metadata": {},
          "execution_count": 27
        },
        {
          "output_type": "display_data",
          "data": {
            "image/png": "[encoded data removed]",
            "text/plain": [
              "<Figure size 432x288 with 1 Axes>"
            ]
          },
          "metadata": {
            "needs_background": "light"
          }
        }
      ]
    },
    {
      "cell_type": "code",
      "source": [
        "sns.regplot(data=rawData_without_outlier, x='총콜레스테롤', y='트리글리세라이드', line_kws={'color':'red'})"
      ],
      "metadata": {
        "colab": {
          "base_uri": "https://localhost:8080/",
          "height": 296
        },
        "id": "5_9axLKSqaHT",
        "outputId": "75eeabf4-a809-45fc-9108-6063b6ff56be"
      },
      "execution_count": 33,
      "outputs": [
        {
          "output_type": "execute_result",
          "data": {
            "text/plain": [
              "<matplotlib.axes._subplots.AxesSubplot at 0x7ff4aedb7fd0>"
            ]
          },
          "metadata": {},
          "execution_count": 33
        },
        {
          "output_type": "display_data",
          "data": {
            "image/png": "[encoded data removed]",
            "text/plain": [
              "<Figure size 432x288 with 1 Axes>"
            ]
          },
          "metadata": {
            "needs_background": "light"
          }
        }
      ]
    },
    {
      "cell_type": "code",
      "source": [
        "sns.jointplot(data=rawData_without_outlier, x='LDL콜레스테롤', y='총콜레스테롤')"
      ],
      "metadata": {
        "colab": {
          "base_uri": "https://localhost:8080/",
          "height": 459
        },
        "id": "6zXCveWkqmGs",
        "outputId": "29af1a3a-25e1-4b0e-d6f9-e5932899b11e"
      },
      "execution_count": 37,
      "outputs": [
        {
          "output_type": "execute_result",
          "data": {
            "text/plain": [
              "<seaborn.axisgrid.JointGrid at 0x7ff4aeb32410>"
            ]
          },
          "metadata": {},
          "execution_count": 37
        },
        {
          "output_type": "display_data",
          "data": {
            "image/png": "[encoded data removed]",
            "text/plain": [
              "<Figure size 432x432 with 3 Axes>"
            ]
          },
          "metadata": {
            "needs_background": "light"
          }
        }
      ]
    },
    {
      "cell_type": "code",
      "source": [
        "sns.barplot(data=rawData_without_outlier, x='흡연상태', y='LDL콜레스테롤')"
      ],
      "metadata": {
        "colab": {
          "base_uri": "https://localhost:8080/",
          "height": 296
        },
        "id": "GRxXT13ztvUA",
        "outputId": "5be566b1-36c1-4fcb-987c-2d3d6d913126"
      },
      "execution_count": 44,
      "outputs": [
        {
          "output_type": "execute_result",
          "data": {
            "text/plain": [
              "<matplotlib.axes._subplots.AxesSubplot at 0x7ff4ae903b90>"
            ]
          },
          "metadata": {},
          "execution_count": 44
        },
        {
          "output_type": "display_data",
          "data": {
            "image/png": "[encoded data removed]",
            "text/plain": [
              "<Figure size 432x288 with 1 Axes>"
            ]
          },
          "metadata": {
            "needs_background": "light"
          }
        }
      ]
    },
    {
      "cell_type": "code",
      "source": [
        "plt.figure( figsize=(15,7) )\n",
        "sns.histplot(data=rawData_without_outlier, x='LDL콜레스테롤', hue='성별코드', multiple='fill')"
      ],
      "metadata": {
        "colab": {
          "base_uri": "https://localhost:8080/",
          "height": 463
        },
        "id": "a6U5-DChvngm",
        "outputId": "443312bc-24ee-44d8-cb5d-a54d048800aa"
      },
      "execution_count": 50,
      "outputs": [
        {
          "output_type": "execute_result",
          "data": {
            "text/plain": [
              "<matplotlib.axes._subplots.AxesSubplot at 0x7ff4ae85e8d0>"
            ]
          },
          "metadata": {},
          "execution_count": 50
        },
        {
          "output_type": "display_data",
          "data": {
            "image/png": "[encoded data removed]",
            "text/plain": [
              "<Figure size 1080x504 with 1 Axes>"
            ]
          },
          "metadata": {
            "needs_background": "light"
          }
        }
      ]
    },
    {
      "cell_type": "code",
      "source": [
        "plt.figure( figsize=(12,7) )\n",
        "sns.boxplot(data=rawData_without_outlier, x='흡연상태', y='LDL콜레스테롤')"
      ],
      "metadata": {
        "colab": {
          "base_uri": "https://localhost:8080/",
          "height": 459
        },
        "id": "LUKdQt_8wTyB",
        "outputId": "b43fdf5b-bce7-4049-ed65-a1b9fea04d00"
      },
      "execution_count": 52,
      "outputs": [
        {
          "output_type": "execute_result",
          "data": {
            "text/plain": [
              "<matplotlib.axes._subplots.AxesSubplot at 0x7ff4ae72a990>"
            ]
          },
          "metadata": {},
          "execution_count": 52
        },
        {
          "output_type": "display_data",
          "data": {
            "image/png": "[encoded data removed]",
            "text/plain": [
              "<Figure size 864x504 with 1 Axes>"
            ]
          },
          "metadata": {
            "needs_background": "light"
          }
        }
      ]
    },
    {
      "cell_type": "code",
      "source": [
        "colors = sns.color_palette('hls')\n",
        "sns.countplot(data=rawData, x='연령대코드(5세단위)', palette=colors)"
      ],
      "metadata": {
        "colab": {
          "base_uri": "https://localhost:8080/",
          "height": 297
        },
        "id": "rbucC41xxczj",
        "outputId": "3e49db51-36cd-4c1b-b9ee-ba414db76f19"
      },
      "execution_count": 55,
      "outputs": [
        {
          "output_type": "execute_result",
          "data": {
            "text/plain": [
              "<matplotlib.axes._subplots.AxesSubplot at 0x7ff4ae507410>"
            ]
          },
          "metadata": {},
          "execution_count": 55
        },
        {
          "output_type": "display_data",
          "data": {
            "image/png": "[encoded data removed]",
            "text/plain": [
              "<Figure size 432x288 with 1 Axes>"
            ]
          },
          "metadata": {
            "needs_background": "light"
          }
        }
      ]
    }
  ]
}