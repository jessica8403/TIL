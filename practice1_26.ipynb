{
  "nbformat": 4,
  "nbformat_minor": 0,
  "metadata": {
    "colab": {
      "name": "practice1-26.ipynb",
      "provenance": [],
      "authorship_tag": "ABX9TyMT+l13LVdxP1E9y7HuyhWO",
      "include_colab_link": true
    },
    "kernelspec": {
      "name": "python3",
      "display_name": "Python 3"
    },
    "language_info": {
      "name": "python"
    }
  },
  "cells": [
    {
      "cell_type": "markdown",
      "metadata": {
        "id": "view-in-github",
        "colab_type": "text"
      },
      "source": [
        "<a href=\"https://colab.research.google.com/github/jessica8403/TIL/blob/master/practice1_26.ipynb\" target=\"_parent\"><img src=\"https://colab.research.google.com/assets/colab-badge.svg\" alt=\"Open In Colab\"/></a>"
      ]
    },
    {
      "cell_type": "code",
      "source": [
        "\n",
        "def get_rainfall():\n",
        "  rainfall={}\n",
        "\n",
        "  while True:\n",
        "    city_name=input('Enter city name: ')\n",
        "    if not city_name:\n",
        "      break\n",
        "\n",
        "    mm_rain=input('Enter mm rain: ')\n",
        "    rainfall[city_name]= rainfall.get(city_name,0) + int(mm_rain)\n",
        "\n",
        "  for city, rain in rainfall.items():\n",
        "\n",
        "      print(f'{city}:{rain}')\n",
        "\n",
        "get_rainfall()"
      ],
      "metadata": {
        "colab": {
          "base_uri": "https://localhost:8080/"
        },
        "id": "FJF0QESmaJ-A",
        "outputId": "cb8f1982-570a-436d-94a4-97ecc578f3be"
      },
      "execution_count": 13,
      "outputs": [
        {
          "output_type": "stream",
          "name": "stdout",
          "text": [
            "Enter city name: Boston\n",
            "Enter mm rain: 5\n",
            "Enter city name: NewYork\n",
            "Enter mm rain: 7\n",
            "Enter city name: Boston\n",
            "Enter mm rain: 5\n",
            "Enter city name: \n",
            "Boston:10\n",
            "NewYork:7\n"
          ]
        }
      ]
    }
  ]
}