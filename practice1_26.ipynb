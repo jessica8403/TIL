{
  "nbformat": 4,
  "nbformat_minor": 0,
  "metadata": {
    "colab": {
      "name": "practice1-26.ipynb",
      "provenance": [],
      "authorship_tag": "ABX9TyNzRcRGW72KhIiZIf1PQsDf",
      "include_colab_link": true
    },
    "kernelspec": {
      "name": "python3",
      "display_name": "Python 3"
    },
    "language_info": {
      "name": "python"
    }
  },
  "cells": [
    {
      "cell_type": "markdown",
      "metadata": {
        "id": "view-in-github",
        "colab_type": "text"
      },
      "source": [
        "<a href=\"https://colab.research.google.com/github/jessica8403/TIL/blob/master/practice1_26.ipynb\" target=\"_parent\"><img src=\"https://colab.research.google.com/assets/colab-badge.svg\" alt=\"Open In Colab\"/></a>"
      ]
    },
    {
      "cell_type": "code",
      "source": [
        "\n",
        "def get_rainfall():\n",
        "  rainfall={}\n",
        "\n",
        "  while True:\n",
        "    city_name=input('Enter city name: ')\n",
        "    if not city_name:\n",
        "      break\n",
        "\n",
        "    mm_rain=input('Enter mm rain: ')\n",
        "    rainfall[city_name]= rainfall.get(city_name,0)\n",
        "    + int(mm_rain)\n",
        "\n",
        "  for city, rain in rainfall.items():\n",
        "\n",
        "      print(f'{city}:{rain}')\n",
        "\n",
        "get_rainfall()"
      ],
      "metadata": {
        "colab": {
          "base_uri": "https://localhost:8080/"
        },
        "id": "FJF0QESmaJ-A",
        "outputId": "f435a0b4-1b64-4a60-c5b4-979d0b5a92f9"
      },
      "execution_count": 12,
      "outputs": [
        {
          "output_type": "stream",
          "name": "stdout",
          "text": [
            "Enter city name: Boston\n",
            "Enter mm rain: 5\n",
            "Enter city name: New York\n",
            "Enter mm rain: 7\n",
            "Enter city name: Boston\n",
            "Enter mm rain: 5\n",
            "Enter city name: \n",
            "Boston:0\n",
            "New York:0\n"
          ]
        }
      ]
    }
  ]
}