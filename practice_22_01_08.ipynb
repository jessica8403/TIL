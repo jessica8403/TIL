{
  "nbformat": 4,
  "nbformat_minor": 0,
  "metadata": {
    "colab": {
      "name": "practice 22-01-08.ipynb",
      "provenance": [],
      "authorship_tag": "ABX9TyMvPpY64FFkZQCMeG32sAl3",
      "include_colab_link": true
    },
    "kernelspec": {
      "name": "python3",
      "display_name": "Python 3"
    },
    "language_info": {
      "name": "python"
    }
  },
  "cells": [
    {
      "cell_type": "markdown",
      "metadata": {
        "id": "view-in-github",
        "colab_type": "text"
      },
      "source": [
        "<a href=\"https://colab.research.google.com/github/jessica8403/TIL/blob/master/practice_22_01_08.ipynb\" target=\"_parent\"><img src=\"https://colab.research.google.com/assets/colab-badge.svg\" alt=\"Open In Colab\"/></a>"
      ]
    },
    {
      "cell_type": "code",
      "execution_count": 3,
      "metadata": {
        "colab": {
          "base_uri": "https://localhost:8080/"
        },
        "id": "LU8pBV7miezp",
        "outputId": "96b8c5ec-743d-4c04-f2a9-2b521ac65433"
      },
      "outputs": [
        {
          "output_type": "stream",
          "name": "stdout",
          "text": [
            "65\n",
            "Your guess of 65 is Too high\n",
            "55\n",
            "Your guess of 55 is Too high\n",
            "45\n",
            "Your guess of 45 is Too low\n",
            "55\n",
            "Your guess of 55 is Too high\n",
            "50\n",
            "right! The answer is 50\n"
          ]
        }
      ],
      "source": [
        "import random\n",
        "def guessing_game():\n",
        "  answer=random.randint(0,100)\n",
        "\n",
        "  while True:\n",
        "   user_guess= int(input())\n",
        "   if user_guess==answer:\n",
        "     print(f'right! The answer is {user_guess}')\n",
        "     break\n",
        "  \n",
        "   if user_guess<answer:\n",
        "     print(f'Your guess of {user_guess} is Too low')\n",
        "\n",
        "   else:\n",
        "     print(f'Your guess of {user_guess} is Too high')\n",
        "\n",
        "\n",
        "guessing_game()\n"
      ]
    },
    {
      "cell_type": "code",
      "source": [
        "def mysum(*numbers):\n",
        "  output=0\n",
        "  for number in numbers:\n",
        "    output+= number\n",
        "  return output\n",
        "  \n",
        "print(mysum(10,20,30,40))"
      ],
      "metadata": {
        "colab": {
          "base_uri": "https://localhost:8080/"
        },
        "id": "ODHgeJfen3I6",
        "outputId": "3ec7195a-0b9e-4aa2-ccc4-20ea54f09261"
      },
      "execution_count": 6,
      "outputs": [
        {
          "output_type": "stream",
          "name": "stdout",
          "text": [
            "100\n"
          ]
        }
      ]
    }
  ]
}