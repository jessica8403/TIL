{
  "nbformat": 4,
  "nbformat_minor": 0,
  "metadata": {
    "colab": {
      "name": "22.04.25.ipynb",
      "provenance": [],
      "authorship_tag": "ABX9TyOmd9zysSiGsagoOxTbPpsS",
      "include_colab_link": true
    },
    "kernelspec": {
      "name": "python3",
      "display_name": "Python 3"
    },
    "language_info": {
      "name": "python"
    }
  },
  "cells": [
    {
      "cell_type": "markdown",
      "metadata": {
        "id": "view-in-github",
        "colab_type": "text"
      },
      "source": [
        "<a href=\"https://colab.research.google.com/github/jessica8403/TIL/blob/master/22_04_25.ipynb\" target=\"_parent\"><img src=\"https://colab.research.google.com/assets/colab-badge.svg\" alt=\"Open In Colab\"/></a>"
      ]
    },
    {
      "cell_type": "code",
      "execution_count": 7,
      "metadata": {
        "colab": {
          "base_uri": "https://localhost:8080/"
        },
        "id": "cnwFTg3mTWtU",
        "outputId": "eca9e49b-0a4b-4e09-91d0-c411ea12d288"
      },
      "outputs": [
        {
          "output_type": "stream",
          "name": "stdout",
          "text": [
            "5\n",
            "10 13 10 12 15\n",
            "12 39 30 23 11\n",
            "11 25 50 53 15\n",
            "19 27 29 37 27\n",
            "19 13 30 13 19\n",
            "3\n",
            "2 0 3\n",
            "5 1 2\n",
            "3 1 4\n",
            "389\n"
          ]
        }
      ],
      "source": [
        "n=int(input())\n",
        "a=[list(map(int, input().split())) for _ in range(n)]\n",
        "m= int(input())\n",
        "for i in range(m):\n",
        "  h,t,k=map(int, input().split())\n",
        "  if t==0:\n",
        "    for _ in range(k):\n",
        "      a[h-1].append(a[h-1].pop(0))\n",
        "\n",
        "    else:\n",
        "     for _ in range(k):\n",
        "      a[h-1].insert(0, a[h-1].pop()) \n",
        "\n",
        "res=0\n",
        "s=0\n",
        "e=n-1\n",
        "for i in range(n):\n",
        "  for j in range(s,e+1):\n",
        "    res+=a[i][j]\n",
        "\n",
        "  if i <n//2:\n",
        "    s+=1\n",
        "    e-=1\n",
        "  \n",
        "  else: \n",
        "    s-=1\n",
        "    e+=1\n",
        "\n",
        "print(res)\n"
      ]
    },
    {
      "cell_type": "code",
      "source": [
        ""
      ],
      "metadata": {
        "id": "HKN5gK3JYjuu"
      },
      "execution_count": null,
      "outputs": []
    }
  ]
}