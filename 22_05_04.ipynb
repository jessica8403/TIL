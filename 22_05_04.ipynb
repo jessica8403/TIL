{
  "nbformat": 4,
  "nbformat_minor": 0,
  "metadata": {
    "colab": {
      "name": "22.05.04.ipynb",
      "provenance": [],
      "authorship_tag": "ABX9TyM0DCj7HA4ozl5E3bteJ079",
      "include_colab_link": true
    },
    "kernelspec": {
      "name": "python3",
      "display_name": "Python 3"
    },
    "language_info": {
      "name": "python"
    }
  },
  "cells": [
    {
      "cell_type": "markdown",
      "metadata": {
        "id": "view-in-github",
        "colab_type": "text"
      },
      "source": [
        "<a href=\"https://colab.research.google.com/github/jessica8403/TIL/blob/master/22_05_04.ipynb\" target=\"_parent\"><img src=\"https://colab.research.google.com/assets/colab-badge.svg\" alt=\"Open In Colab\"/></a>"
      ]
    },
    {
      "cell_type": "code",
      "execution_count": 3,
      "metadata": {
        "colab": {
          "base_uri": "https://localhost:8080/"
        },
        "id": "nd1cvGU0okS6",
        "outputId": "2b52d19a-91f1-4ca8-9f05-473c21cd841f"
      },
      "outputs": [
        {
          "output_type": "stream",
          "name": "stdout",
          "text": [
            "2 4 1 5 3 2 6\n",
            "3 5 1 8 7 1 7\n",
            "8 3 2 7 1 3 8\n",
            "6 1 2 3 2 1 1\n",
            "1 3 1 3 5 3 2\n",
            "1 1 2 5 6 5 2 \n",
            "1 2 2 2 2 1 5 \n",
            "3\n"
          ]
        }
      ],
      "source": [
        "board=[list(map(int, input().split())) for _ in range(7)]\n",
        "cnt=0\n",
        "for i in range(3):\n",
        "  for j in range(7):\n",
        "    tmp=board[j][i:i+5]\n",
        "    if tmp==tmp[::-1]:\n",
        "      cnt+=1\n",
        "    \n",
        "    for k in range(2):\n",
        "      if board[i+k][j]!=board[i+5-k-1][j]:\n",
        "        break\n",
        "\n",
        "    else:\n",
        "      cnt+=1\n",
        "\n",
        "print(cnt)"
      ]
    }
  ]
}