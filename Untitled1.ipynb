{
  "nbformat": 4,
  "nbformat_minor": 0,
  "metadata": {
    "colab": {
      "name": "Untitled1.ipynb",
      "provenance": [],
      "authorship_tag": "ABX9TyMoZUgColAYyEIRlaZqnd08",
      "include_colab_link": true
    },
    "kernelspec": {
      "name": "python3",
      "display_name": "Python 3"
    },
    "language_info": {
      "name": "python"
    }
  },
  "cells": [
    {
      "cell_type": "markdown",
      "metadata": {
        "id": "view-in-github",
        "colab_type": "text"
      },
      "source": [
        "<a href=\"https://colab.research.google.com/github/jessica8403/TIL/blob/master/Untitled1.ipynb\" target=\"_parent\"><img src=\"https://colab.research.google.com/assets/colab-badge.svg\" alt=\"Open In Colab\"/></a>"
      ]
    },
    {
      "cell_type": "code",
      "execution_count": 2,
      "metadata": {
        "colab": {
          "base_uri": "https://localhost:8080/"
        },
        "id": "WniSLj9_LmKq",
        "outputId": "ac479de0-3b33-4684-c101-a6e6f8c5b7ee"
      },
      "outputs": [
        {
          "output_type": "stream",
          "name": "stdout",
          "text": [
            "[2, 3, 4]\n"
          ]
        }
      ],
      "source": [
        "a=[1,2,3]\n",
        "print(list(map(lambda x:x+1,a)))"
      ]
    },
    {
      "cell_type": "code",
      "source": [
        "n,k= map(int,input().split())\n",
        "\n",
        "a= list(map(int,input().split()))\n",
        "res=set() #중복을 제거\n",
        "\n",
        "for i in range (n):\n",
        " for j in range (i+1, n):\n",
        "   for m in range (j+1, n):\n",
        "     res.add(a[i]+a[j]+a[m])\n",
        "\n",
        "res=list(res)\n",
        "res.sort(reverse=True)\n",
        "\n",
        "print(res[k-1])\n",
        "\n"
      ],
      "metadata": {
        "colab": {
          "base_uri": "https://localhost:8080/"
        },
        "id": "IS8Y0WcHNHhD",
        "outputId": "690e7d90-f413-4f80-c929-307750dc139c"
      },
      "execution_count": 7,
      "outputs": [
        {
          "output_type": "stream",
          "name": "stdout",
          "text": [
            "10 3\n",
            "13 15 34 23 45 65 33 11 26 42\n",
            "143\n"
          ]
        }
      ]
    }
  ]
}