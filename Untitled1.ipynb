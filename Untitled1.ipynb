{
  "nbformat": 4,
  "nbformat_minor": 0,
  "metadata": {
    "colab": {
      "name": "Untitled1.ipynb",
      "provenance": [],
      "authorship_tag": "ABX9TyM+xXacKm3An52ZvTuYDCkP",
      "include_colab_link": true
    },
    "kernelspec": {
      "name": "python3",
      "display_name": "Python 3"
    },
    "language_info": {
      "name": "python"
    }
  },
  "cells": [
    {
      "cell_type": "markdown",
      "metadata": {
        "id": "view-in-github",
        "colab_type": "text"
      },
      "source": [
        "<a href=\"https://colab.research.google.com/github/jessica8403/TIL/blob/master/Untitled1.ipynb\" target=\"_parent\"><img src=\"https://colab.research.google.com/assets/colab-badge.svg\" alt=\"Open In Colab\"/></a>"
      ]
    },
    {
      "cell_type": "code",
      "execution_count": null,
      "metadata": {
        "id": "HCtPDvL0fZyH"
      },
      "outputs": [],
      "source": [
        "# \n",
        "정수값이 입력될 때,\n",
        "# 그 불 값을 반대로 출력하는 프로그램을 작성해보자.\n",
        "\n",
        "# 와 같은 형태로 겹쳐 작성하면, 한 번에 한 단계씩 계산/처리/평가된다.\n",
        "…# 참, 거짓의 논리값 인 불(boolean) 값을 다루어주는 예약어는 not, and, or 이 있고,\n",
        "# 불 값들 사이의 논리(not, and, or) 연산 결과도 마찬가지로 True 또는 False 의 불 값으로 계산 된다.\n",
        "\n",
        "# 정수값 0은 False 이고, 나머지 정수 값들은 True 로 평가된다.\n",
        "# 빈 문자열 \"\" 나 ''는 False 이고, 나머지 문자열들은 True 로 평가된다.\n",
        "\n",
        "# ** 불 대수(boolean algebra)는 수학자 불이 만들어낸 것으로 True(참)/False(거짓) 값만 가지는 논리값과 그 값들 사이의 연산을 다룬다.\n",
        "\n",
        "a = bool(int(input()))\n",
        "print(not a)\n"
      ]
    }
  ]
}