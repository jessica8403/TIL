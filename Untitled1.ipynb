{
  "nbformat": 4,
  "nbformat_minor": 0,
  "metadata": {
    "colab": {
      "name": "Untitled1.ipynb",
      "provenance": [],
      "authorship_tag": "ABX9TyPCRmMWegnx6YwQleq/wnvt",
      "include_colab_link": true
    },
    "kernelspec": {
      "name": "python3",
      "display_name": "Python 3"
    },
    "language_info": {
      "name": "python"
    }
  },
  "cells": [
    {
      "cell_type": "markdown",
      "metadata": {
        "id": "view-in-github",
        "colab_type": "text"
      },
      "source": [
        "<a href=\"https://colab.research.google.com/github/jessica8403/TIL/blob/master/Untitled1.ipynb\" target=\"_parent\"><img src=\"https://colab.research.google.com/assets/colab-badge.svg\" alt=\"Open In Colab\"/></a>"
      ]
    },
    {
      "cell_type": "code",
      "execution_count": 1,
      "metadata": {
        "colab": {
          "base_uri": "https://localhost:8080/"
        },
        "id": "x8tQP5I9yPZ9",
        "outputId": "99459a90-8135-4264-ea0e-f12005ffa59d"
      },
      "outputs": [
        {
          "output_type": "stream",
          "name": "stdout",
          "text": [
            "4 6\n",
            "5 6 7 "
          ]
        }
      ],
      "source": [
        "n,m= map(int,input().split())\n",
        "cnt=[0]*(n+m+3)\n",
        "max=-2147000000\n",
        "for i in range(1,n+1):\n",
        "  for j in range(1,m+1):\n",
        "    cnt[i+j]+=1\n",
        "\n",
        "for i in range(n+m+1):\n",
        "  if cnt[i]>max:\n",
        "    max=cnt[i]\n",
        "\n",
        "for i in range(n+m+1):\n",
        "  if cnt[i]==max:\n",
        "    print(i, end=' ')\n",
        "    "
      ]
    }
  ]
}