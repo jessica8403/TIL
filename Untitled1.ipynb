{
  "nbformat": 4,
  "nbformat_minor": 0,
  "metadata": {
    "colab": {
      "name": "Untitled1.ipynb",
      "provenance": [],
      "authorship_tag": "ABX9TyNkBGGNMqWY9MVl9iQP1O2c",
      "include_colab_link": true
    },
    "kernelspec": {
      "name": "python3",
      "display_name": "Python 3"
    },
    "language_info": {
      "name": "python"
    }
  },
  "cells": [
    {
      "cell_type": "markdown",
      "metadata": {
        "id": "view-in-github",
        "colab_type": "text"
      },
      "source": [
        "<a href=\"https://colab.research.google.com/github/jessica8403/TIL/blob/master/Untitled1.ipynb\" target=\"_parent\"><img src=\"https://colab.research.google.com/assets/colab-badge.svg\" alt=\"Open In Colab\"/></a>"
      ]
    },
    {
      "cell_type": "code",
      "execution_count": 1,
      "metadata": {
        "colab": {
          "base_uri": "https://localhost:8080/"
        },
        "id": "x8tQP5I9yPZ9",
        "outputId": "99459a90-8135-4264-ea0e-f12005ffa59d"
      },
      "outputs": [
        {
          "output_type": "stream",
          "name": "stdout",
          "text": [
            "4 6\n",
            "5 6 7 "
          ]
        }
      ],
      "source": [
        "n,m= map(int,input().split())\n",
        "cnt=[0]*(n+m+3)\n",
        "max=-2147000000\n",
        "for i in range(1,n+1):\n",
        "  for j in range(1,m+1):\n",
        "    cnt[i+j]+=1\n",
        "\n",
        "for i in range(n+m+1):\n",
        "  if cnt[i]>max:\n",
        "    max=cnt[i]\n",
        "\n",
        "for i in range(n+m+1):\n",
        "  if cnt[i]==max:\n",
        "    print(i, end=' ')\n",
        "    "
      ]
    },
    {
      "cell_type": "code",
      "source": [
        "n= int(input())\n",
        "a= list(map(int,input().split()))\n",
        "\n",
        "def digit_sum(x):\n",
        "\n",
        "   sum=0\n",
        "   while x>0:\n",
        "     sum+=x%10\n",
        "     x=x//10\n",
        "   return sum\n",
        "  \n",
        "max=-2147000000\n",
        "for x in a:\n",
        "   total=digit_sum(x)\n",
        "   if total>max:\n",
        "      max=total\n",
        "      result=x\n",
        " \n",
        "print(result)\n",
        "\n",
        "\n"
      ],
      "metadata": {
        "colab": {
          "base_uri": "https://localhost:8080/"
        },
        "id": "PvqaNHIt42q_",
        "outputId": "ba82cefc-bc7f-4752-ea04-76baf98d1caa"
      },
      "execution_count": 15,
      "outputs": [
        {
          "output_type": "stream",
          "name": "stdout",
          "text": [
            "3\n",
            "125 15232 97\n",
            "97\n"
          ]
        }
      ]
    },
    {
      "cell_type": "code",
      "source": [
        ""
      ],
      "metadata": {
        "id": "xDL-UZaG6yz4"
      },
      "execution_count": null,
      "outputs": []
    }
  ]
}