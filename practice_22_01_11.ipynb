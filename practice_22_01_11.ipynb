{
  "nbformat": 4,
  "nbformat_minor": 0,
  "metadata": {
    "colab": {
      "name": "practice 22.01.11.ipynb",
      "provenance": [],
      "authorship_tag": "ABX9TyNyCsOR8O8CX5ix10BwAd4l",
      "include_colab_link": true
    },
    "kernelspec": {
      "name": "python3",
      "display_name": "Python 3"
    },
    "language_info": {
      "name": "python"
    }
  },
  "cells": [
    {
      "cell_type": "markdown",
      "metadata": {
        "id": "view-in-github",
        "colab_type": "text"
      },
      "source": [
        "<a href=\"https://colab.research.google.com/github/jessica8403/TIL/blob/master/practice_22_01_11.ipynb\" target=\"_parent\"><img src=\"https://colab.research.google.com/assets/colab-badge.svg\" alt=\"Open In Colab\"/></a>"
      ]
    },
    {
      "cell_type": "code",
      "execution_count": 2,
      "metadata": {
        "colab": {
          "base_uri": "https://localhost:8080/"
        },
        "id": "kSL_GprZpmlj",
        "outputId": "a4e46531-85de-4603-d366-0f7fc326c4b8"
      },
      "outputs": [
        {
          "output_type": "stream",
          "name": "stdout",
          "text": [
            "ythonpay\n",
            "airway\n"
          ]
        }
      ],
      "source": [
        "def pig_latin(word):\n",
        "  if word[0] in 'aeiou':\n",
        "    return f'{word}way'\n",
        "\n",
        "  else:\n",
        "    return f'{word[1:]}{word[0]}ay'\n",
        "\n",
        "\n",
        "print(pig_latin('python'))\n",
        "print(pig_latin('air'))"
      ]
    },
    {
      "cell_type": "code",
      "source": [
        "def pl_sentence(sentence):\n",
        "\n",
        "  output=[]\n",
        "\n",
        "  for word in sentence.split():\n",
        "    if word[0] in 'aeiou':\n",
        "     output.append(f'{word}way')\n",
        "\n",
        "    else:\n",
        "     output.append(f'{word[1:]}{word[0]}ay')\n",
        "\n",
        "  return ' '.join(output)\n",
        "\n",
        "print(pl_sentence('this is a test translation'))\n"
      ],
      "metadata": {
        "colab": {
          "base_uri": "https://localhost:8080/"
        },
        "id": "aSej8OKxsOZ8",
        "outputId": "df9a14c6-2a8c-4663-9a4a-9f407f927ed1"
      },
      "execution_count": 8,
      "outputs": [
        {
          "output_type": "stream",
          "name": "stdout",
          "text": [
            "histay isway away esttay ranslationtay\n"
          ]
        }
      ]
    }
  ]
}