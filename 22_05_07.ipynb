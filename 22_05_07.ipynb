{
  "nbformat": 4,
  "nbformat_minor": 0,
  "metadata": {
    "colab": {
      "name": "22.05.07.ipynb",
      "provenance": [],
      "authorship_tag": "ABX9TyN9bq9rNPX7UL7FkzEshw0q",
      "include_colab_link": true
    },
    "kernelspec": {
      "name": "python3",
      "display_name": "Python 3"
    },
    "language_info": {
      "name": "python"
    }
  },
  "cells": [
    {
      "cell_type": "markdown",
      "metadata": {
        "id": "view-in-github",
        "colab_type": "text"
      },
      "source": [
        "<a href=\"https://colab.research.google.com/github/jessica8403/TIL/blob/master/22_05_07.ipynb\" target=\"_parent\"><img src=\"https://colab.research.google.com/assets/colab-badge.svg\" alt=\"Open In Colab\"/></a>"
      ]
    },
    {
      "cell_type": "code",
      "execution_count": 2,
      "metadata": {
        "colab": {
          "base_uri": "https://localhost:8080/"
        },
        "id": "7AbSuG92O1jo",
        "outputId": "8a2adb19-3dde-4f8e-fdc9-1579a17b0585"
      },
      "outputs": [
        {
          "output_type": "stream",
          "name": "stdout",
          "text": [
            "4 11\n",
            "802\n",
            "743\n",
            "457\n",
            "539\n",
            "200\n"
          ]
        }
      ],
      "source": [
        "def count(len):\n",
        "  cnt=0\n",
        "  for x in Line:\n",
        "    cnt+=(x//len)\n",
        "  return cnt\n",
        "\n",
        "k,n=map(int,input().split())\n",
        "Line=[]\n",
        "res=0\n",
        "largest=0\n",
        "for i in range(k):\n",
        "  tmp=int(input())\n",
        "  Line.append(tmp)\n",
        "  largest=max(largest, tmp)\n",
        "\n",
        "lt=1\n",
        "rt=largest\n",
        "while lt<=rt:\n",
        "  mid=(lt+rt)//2\n",
        "  if count(mid)>=n:\n",
        "    res=mid\n",
        "    lt= mid+1\n",
        "  else:\n",
        "    rt=mid-1\n",
        "\n",
        "print(res)\n",
        "      \n",
        "\n"
      ]
    }
  ]
}