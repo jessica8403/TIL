{
  "nbformat": 4,
  "nbformat_minor": 0,
  "metadata": {
    "colab": {
      "name": "Untitled1.ipynb",
      "provenance": [],
      "authorship_tag": "ABX9TyPugw7uAdzGadnJgWyHMGup"
    },
    "kernelspec": {
      "name": "python3",
      "display_name": "Python 3"
    },
    "language_info": {
      "name": "python"
    }
  },
  "cells": [
    {
      "cell_type": "code",
      "execution_count": 8,
      "metadata": {
        "colab": {
          "base_uri": "https://localhost:8080/"
        },
        "id": "PwgpidN-4v3H",
        "outputId": "ec67827b-d207-4765-fb10-47c367fd29ae"
      },
      "outputs": [
        {
          "output_type": "stream",
          "name": "stdout",
          "text": [
            "*\n",
            "**\n",
            "***\n",
            "****\n",
            "*****\n"
          ]
        }
      ],
      "source": [
        "# 백준 별찍기 1\n",
        "\n",
        "n=5\n",
        "\n",
        "for i in range(n):\n",
        "  for j in range (i+1):\n",
        "    print('*',end='')\n",
        "  print()"
      ]
    }
  ]
}