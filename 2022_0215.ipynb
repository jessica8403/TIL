{
  "nbformat": 4,
  "nbformat_minor": 0,
  "metadata": {
    "colab": {
      "name": "2022.0215.ipynb",
      "provenance": [],
      "authorship_tag": "ABX9TyPtmbIkz+dO2J/Z9R/MbCAj",
      "include_colab_link": true
    },
    "kernelspec": {
      "name": "python3",
      "display_name": "Python 3"
    },
    "language_info": {
      "name": "python"
    }
  },
  "cells": [
    {
      "cell_type": "markdown",
      "metadata": {
        "id": "view-in-github",
        "colab_type": "text"
      },
      "source": [
        "<a href=\"https://colab.research.google.com/github/jessica8403/TIL/blob/master/2022_0215.ipynb\" target=\"_parent\"><img src=\"https://colab.research.google.com/assets/colab-badge.svg\" alt=\"Open In Colab\"/></a>"
      ]
    },
    {
      "cell_type": "code",
      "execution_count": 2,
      "metadata": {
        "colab": {
          "base_uri": "https://localhost:8080/"
        },
        "id": "-eK2pj2iP4Nt",
        "outputId": "a56ace5c-c8d6-4f7e-b2cc-ff53b6478172"
      },
      "outputs": [
        {
          "output_type": "stream",
          "name": "stdout",
          "text": [
            "5\n",
            "32 55 62 3700 250\n",
            "23 73 "
          ]
        }
      ],
      "source": [
        "def reverse(x):\n",
        "  res=0\n",
        "  while x>0:\n",
        "    t=x%10\n",
        "    res=res*10+t\n",
        "    x=x//10\n",
        "  \n",
        "  return res\n",
        "\n",
        "def isPrime(x):\n",
        "  if x==1:\n",
        "    return False\n",
        "\n",
        "  for i in range(2,x//2+1):\n",
        "    if x%i==0:\n",
        "      return False\n",
        "  \n",
        "  else: \n",
        "    return True\n",
        "\n",
        "n= int(input())\n",
        "a=list(map(int,input().split()))\n",
        "\n",
        "for x in a:\n",
        "  tmp=reverse(x)\n",
        "  if isPrime(tmp):\n",
        "    print(tmp,end=' ')\n",
        "\n",
        "\n"
      ]
    },
    {
      "cell_type": "code",
      "source": [
        ""
      ],
      "metadata": {
        "id": "vLoPkrtwR0r2"
      },
      "execution_count": null,
      "outputs": []
    }
  ]
}