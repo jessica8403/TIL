{
  "nbformat": 4,
  "nbformat_minor": 0,
  "metadata": {
    "colab": {
      "name": "practice 01-24.ipynb",
      "provenance": [],
      "authorship_tag": "ABX9TyMgOzxuBB0L0Uqx9lRWxKHE",
      "include_colab_link": true
    },
    "kernelspec": {
      "name": "python3",
      "display_name": "Python 3"
    },
    "language_info": {
      "name": "python"
    }
  },
  "cells": [
    {
      "cell_type": "markdown",
      "metadata": {
        "id": "view-in-github",
        "colab_type": "text"
      },
      "source": [
        "<a href=\"https://colab.research.google.com/github/jessica8403/TIL/blob/master/practice_01_24.ipynb\" target=\"_parent\"><img src=\"https://colab.research.google.com/assets/colab-badge.svg\" alt=\"Open In Colab\"/></a>"
      ]
    },
    {
      "cell_type": "code",
      "execution_count": 9,
      "metadata": {
        "colab": {
          "base_uri": "https://localhost:8080/"
        },
        "id": "irNRt_feCUg_",
        "outputId": "8b1712f4-01dc-4548-e051-f7f6969fd137"
      },
      "outputs": [
        {
          "output_type": "stream",
          "name": "stdout",
          "text": [
            "Putin     Vladimir   3.63\n",
            "Trump     Donald     7.85\n",
            "XI        jinping   10.60\n"
          ]
        }
      ],
      "source": [
        "import operator\n",
        "\n",
        "PEOPLE=[('Donald', 'Trump', 7.85),\n",
        "        ('Vladimir', 'Putin',3.626),\n",
        "        ('jinping', 'XI',10.603)]\n",
        "\n",
        "def format_sort_records(list_of_tuples):\n",
        "  output=[]\n",
        "  template= '{1:10}{0:10}{2:5.2f}'\n",
        "  for person in sorted(list_of_tuples,\n",
        "                       key=operator.itemgetter(1,0)):\n",
        "    output.append(template.format(*person))\n",
        "  return output\n",
        "\n",
        "print('\\n'.join(format_sort_records(PEOPLE)))\n"
      ]
    }
  ]
}