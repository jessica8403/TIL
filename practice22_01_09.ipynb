{
  "nbformat": 4,
  "nbformat_minor": 0,
  "metadata": {
    "colab": {
      "name": "practice22.01.09.ipynb",
      "provenance": [],
      "authorship_tag": "ABX9TyNt/CZYrZePcCTuUBuY/Vdb",
      "include_colab_link": true
    },
    "kernelspec": {
      "name": "python3",
      "display_name": "Python 3"
    },
    "language_info": {
      "name": "python"
    }
  },
  "cells": [
    {
      "cell_type": "markdown",
      "metadata": {
        "id": "view-in-github",
        "colab_type": "text"
      },
      "source": [
        "<a href=\"https://colab.research.google.com/github/jessica8403/TIL/blob/master/practice22_01_09.ipynb\" target=\"_parent\"><img src=\"https://colab.research.google.com/assets/colab-badge.svg\" alt=\"Open In Colab\"/></a>"
      ]
    },
    {
      "cell_type": "code",
      "execution_count": 6,
      "metadata": {
        "colab": {
          "base_uri": "https://localhost:8080/"
        },
        "id": "jXzNJY3FdLRv",
        "outputId": "42d523aa-ff1d-4046-f8b9-2a5da61b3d9b"
      },
      "outputs": [
        {
          "output_type": "stream",
          "name": "stdout",
          "text": [
            "enter 10km run time: 15\n",
            "enter 10km run time: 20\n",
            "enter 10km run time: 10\n",
            "enter 10km run time: \n",
            "average of 15.0, over 3 runs\n"
          ]
        }
      ],
      "source": [
        "def run_timing():\n",
        "  number_runs=0\n",
        "  total_time=0\n",
        "  while True:\n",
        "    one_run= input('enter 10km run time: ')\n",
        "    if not one_run:\n",
        "      break\n",
        "    \n",
        "    number_runs+=1\n",
        "    total_time+=float(one_run)\n",
        "\n",
        "  average= total_time/number_runs\n",
        "  print(f'average of {average}, over {number_runs} runs')\n",
        "\n",
        "run_timing()\n",
        "\n"
      ]
    }
  ]
}