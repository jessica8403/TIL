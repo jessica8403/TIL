{
  "nbformat": 4,
  "nbformat_minor": 0,
  "metadata": {
    "colab": {
      "name": "practice 1_30.ipynb",
      "provenance": [],
      "authorship_tag": "ABX9TyNHMTytkNBCwnihsXfTIPXX",
      "include_colab_link": true
    },
    "kernelspec": {
      "name": "python3",
      "display_name": "Python 3"
    },
    "language_info": {
      "name": "python"
    }
  },
  "cells": [
    {
      "cell_type": "markdown",
      "metadata": {
        "id": "view-in-github",
        "colab_type": "text"
      },
      "source": [
        "<a href=\"https://colab.research.google.com/github/jessica8403/TIL/blob/master/practice_1_30.ipynb\" target=\"_parent\"><img src=\"https://colab.research.google.com/assets/colab-badge.svg\" alt=\"Open In Colab\"/></a>"
      ]
    },
    {
      "cell_type": "code",
      "execution_count": 3,
      "metadata": {
        "colab": {
          "base_uri": "https://localhost:8080/"
        },
        "id": "LHYHXKXyGXtr",
        "outputId": "2a1b25db-6fc0-4fc7-d0a9-26db1384d53d"
      },
      "outputs": [
        {
          "output_type": "stream",
          "name": "stdout",
          "text": [
            "6 3\n",
            "3\n"
          ]
        }
      ],
      "source": [
        "n,k =map(int,input().split())\n",
        "cnt=0\n",
        "for i in range(1, n+1):\n",
        "  if n%i==0:\n",
        "    cnt+=1\n",
        "    if cnt==k:\n",
        "      print(i)\n",
        "      break\n",
        "\n",
        "else:\n",
        "  print(-1)"
      ]
    }
  ]
}