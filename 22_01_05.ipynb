{
  "nbformat": 4,
  "nbformat_minor": 0,
  "metadata": {
    "colab": {
      "name": "22.01.05.ipynb",
      "provenance": [],
      "authorship_tag": "ABX9TyMSwA2j4cQFEY2eqrywb3GL",
      "include_colab_link": true
    },
    "kernelspec": {
      "name": "python3",
      "display_name": "Python 3"
    },
    "language_info": {
      "name": "python"
    }
  },
  "cells": [
    {
      "cell_type": "markdown",
      "metadata": {
        "id": "view-in-github",
        "colab_type": "text"
      },
      "source": [
        "<a href=\"https://colab.research.google.com/github/jessica8403/TIL/blob/master/22_01_05.ipynb\" target=\"_parent\"><img src=\"https://colab.research.google.com/assets/colab-badge.svg\" alt=\"Open In Colab\"/></a>"
      ]
    },
    {
      "cell_type": "code",
      "execution_count": 3,
      "metadata": {
        "colab": {
          "base_uri": "https://localhost:8080/"
        },
        "id": "W4BN3p4pFqIW",
        "outputId": "5f784564-b917-46a3-d585-9edd11cd1e51"
      },
      "outputs": [
        {
          "output_type": "stream",
          "name": "stdout",
          "text": [
            "55\n",
            "10\n"
          ]
        }
      ],
      "source": [
        "n = int(input())\n",
        "\n",
        "sum=0\n",
        "\n",
        "for i in range(1,n+1):\n",
        "  sum+=i\n",
        "\n",
        "  if sum>=n:\n",
        "    break \n",
        "\n",
        "print(i)\n"
      ]
    },
    {
      "cell_type": "code",
      "source": [
        "n,m= map(int,input().split())\n",
        "\n",
        "for i in range (1,1+n):\n",
        "  for j in range (1,1+m):\n",
        "    print(i,j)\n",
        "\n"
      ],
      "metadata": {
        "colab": {
          "base_uri": "https://localhost:8080/"
        },
        "id": "gPqWJpZqJt5o",
        "outputId": "f75a1178-0bd7-4e04-fec4-342a9cf411a4"
      },
      "execution_count": 11,
      "outputs": [
        {
          "output_type": "stream",
          "name": "stdout",
          "text": [
            "2 3\n",
            "1 1\n",
            "1 2\n",
            "1 3\n",
            "2 1\n",
            "2 2\n",
            "2 3\n"
          ]
        }
      ]
    }
  ]
}