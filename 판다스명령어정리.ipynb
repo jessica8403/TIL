{
  "nbformat": 4,
  "nbformat_minor": 0,
  "metadata": {
    "colab": {
      "name": "판다스명령어정리.ipynb",
      "provenance": [],
      "toc_visible": true,
      "authorship_tag": "ABX9TyM7/7iUDgLbL9NTo7TStQky",
      "include_colab_link": true
    },
    "kernelspec": {
      "name": "python3",
      "display_name": "Python 3"
    },
    "language_info": {
      "name": "python"
    }
  },
  "cells": [
    {
      "cell_type": "markdown",
      "metadata": {
        "id": "view-in-github",
        "colab_type": "text"
      },
      "source": [
        "<a href=\"https://colab.research.google.com/github/jessica8403/TIL/blob/master/%ED%8C%90%EB%8B%A4%EC%8A%A4%EB%AA%85%EB%A0%B9%EC%96%B4%EC%A0%95%EB%A6%AC.ipynb\" target=\"_parent\"><img src=\"https://colab.research.google.com/assets/colab-badge.svg\" alt=\"Open In Colab\"/></a>"
      ]
    },
    {
      "cell_type": "markdown",
      "source": [
        "# 1. 판다스 기본 설정 "
      ],
      "metadata": {
        "id": "4Z9rexm69NwR"
      }
    },
    {
      "cell_type": "code",
      "source": [
        "import pandas as pd\n",
        "import numpy as np\n",
        "import seaborn as sns\n",
        "import matplotlib\n",
        "import matplotlib as mpl\n",
        "import matplotlib.pyplot as plt"
      ],
      "metadata": {
        "id": "pTJiq7i39WhR"
      },
      "execution_count": null,
      "outputs": []
    },
    {
      "cell_type": "markdown",
      "source": [
        "# 2. 판다스 파일불러오기 (ex)인덱스컬럼을 연도로 지정)"
      ],
      "metadata": {
        "id": "Fj6EC6zr8sBe"
      }
    },
    {
      "cell_type": "code",
      "execution_count": null,
      "metadata": {
        "id": "nuT8Zh7D8muR"
      },
      "outputs": [],
      "source": [
        "df1=pd.read_excel('/content/drive/MyDrive/시군구별 출산율_서울특별시 .xlsx',index_col='연도')"
      ]
    },
    {
      "cell_type": "markdown",
      "source": [
        "# 3. 한글설정 (실행후 런타임실행 및 다시실행)"
      ],
      "metadata": {
        "id": "3izHwmSZ9aJv"
      }
    },
    {
      "cell_type": "code",
      "source": [
        "from matplotlib import font_manager, rcParams\n",
        "!apt-get install fonts-nanum*\n",
        "rcParams['font.family'] = 'NanumGothicCoding'\n",
        "rcParams['axes.unicode_minus'] = False\n",
        "font_manager._rebuild()"
      ],
      "metadata": {
        "id": "mXRLoV659HMX"
      },
      "execution_count": null,
      "outputs": []
    },
    {
      "cell_type": "markdown",
      "source": [
        "# 4. 폴리움 및 제이슨 임포트 "
      ],
      "metadata": {
        "id": "kuBBDkmJ9p-2"
      }
    },
    {
      "cell_type": "code",
      "source": [
        "import folium  \n",
        "import json"
      ],
      "metadata": {
        "id": "llHUpNZW91OC"
      },
      "execution_count": null,
      "outputs": []
    },
    {
      "cell_type": "markdown",
      "source": [
        "# 5. 지도 설정시"
      ],
      "metadata": {
        "id": "pyUkex9M93Qt"
      }
    },
    {
      "cell_type": "code",
      "source": [
        "geo_path = '/content/drive/MyDrive/seoulsigungu.geojson'\n",
        "geo_str = json.load(open(geo_path, encoding='utf-8'))"
      ],
      "metadata": {
        "id": "zE1oBGtb-ONy"
      },
      "execution_count": null,
      "outputs": []
    },
    {
      "cell_type": "markdown",
      "source": [
        "# 6. 지도 그리기"
      ],
      "metadata": {
        "id": "tEBpcJmR9Zlx"
      }
    },
    {
      "cell_type": "code",
      "source": [
        "map = folium.Map(location=[37.5502, 126.982], zoom_start=11,\n",
        "                tiles='stamentoner')\n",
        "map.choropleth(geo_data=geo_str,\n",
        "              data=df3,\n",
        "              columns=[df3.index, '평균'],\n",
        "              fill_color='PuRd',\n",
        "              key_on = 'properties.SIG_KOR_NM')\n",
        "map"
      ],
      "metadata": {
        "id": "j2JCcnpq-bNm"
      },
      "execution_count": null,
      "outputs": []
    },
    {
      "cell_type": "markdown",
      "source": [
        "# 7. 리네임"
      ],
      "metadata": {
        "id": "E7H1zYNT-cRU"
      }
    },
    {
      "cell_type": "code",
      "source": [
        "df10.rename(columns= {'증감율' : '출생증감율'},\n",
        "    inplace = True)"
      ],
      "metadata": {
        "id": "GV3-6oEQ-rtO"
      },
      "execution_count": null,
      "outputs": []
    },
    {
      "cell_type": "markdown",
      "source": [
        "# 8. 조인"
      ],
      "metadata": {
        "id": "Z_ePyUpK-tkB"
      }
    },
    {
      "cell_type": "code",
      "source": [
        "df11=df9.join(df10)"
      ],
      "metadata": {
        "id": "LN-i3o_K-zuy"
      },
      "execution_count": null,
      "outputs": []
    },
    {
      "cell_type": "markdown",
      "source": [
        "# 9. 드롭"
      ],
      "metadata": {
        "id": "rHw2-Frx-03G"
      }
    },
    {
      "cell_type": "code",
      "source": [
        "df1.drop( columns ='서울특별시',inplace = True)"
      ],
      "metadata": {
        "id": "bBqCpmDQ_J27"
      },
      "execution_count": null,
      "outputs": []
    },
    {
      "cell_type": "markdown",
      "source": [
        "# 10. 저장"
      ],
      "metadata": {
        "id": "Zpx7EhMD_Krp"
      }
    },
    {
      "cell_type": "code",
      "source": [
        "df1.to_csv('연간출생률완.csv')"
      ],
      "metadata": {
        "id": "NVquo1e9_Pxo"
      },
      "execution_count": null,
      "outputs": []
    },
    {
      "cell_type": "markdown",
      "source": [
        "# 11. 특정 인덱스 불러오기"
      ],
      "metadata": {
        "id": "7QAmI212_Qme"
      }
    },
    {
      "cell_type": "code",
      "source": [
        "rawData[ rawData['시군구별'] == '서울특별시' ]"
      ],
      "metadata": {
        "id": "y0jOwtObAIbg"
      },
      "execution_count": null,
      "outputs": []
    },
    {
      "cell_type": "markdown",
      "source": [
        "# 12. 인덱스 지정"
      ],
      "metadata": {
        "id": "Nb21oYaGAJKC"
      }
    },
    {
      "cell_type": "code",
      "source": [
        "df1.index = df1['시군구별']"
      ],
      "metadata": {
        "id": "-tdZ9MfSBMtG"
      },
      "execution_count": null,
      "outputs": []
    },
    {
      "cell_type": "markdown",
      "source": [
        "# 13. 오브젝트 정수로 변환 반복문"
      ],
      "metadata": {
        "id": "JfTm0HlQBN1E"
      }
    },
    {
      "cell_type": "code",
      "source": [
        "for a in df1.columns:\n",
        "   df1[a] = pd.to_numeric(df1[a]).astype(int)\n",
        "df1.describe()"
      ],
      "metadata": {
        "id": "56kCXJj4Bf4m"
      },
      "execution_count": null,
      "outputs": []
    },
    {
      "cell_type": "markdown",
      "source": [
        "# 14. 컬럼에 빈공간 많을때 정리해주는 반복문 "
      ],
      "metadata": {
        "id": "znMH-khXBg16"
      }
    },
    {
      "cell_type": "code",
      "source": [
        "list1 = []\n",
        "for a in df3.index:\n",
        "  a = a.strip()\n",
        "  list1.append(a)\n",
        "list1"
      ],
      "metadata": {
        "id": "DB0PzYB5Brua"
      },
      "execution_count": null,
      "outputs": []
    }
  ]
}