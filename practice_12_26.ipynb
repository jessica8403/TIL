{
  "nbformat": 4,
  "nbformat_minor": 0,
  "metadata": {
    "colab": {
      "name": "practice_12.26.ipynb",
      "provenance": [],
      "authorship_tag": "ABX9TyPWvP+CIMDbl9+PExcKHWnH",
      "include_colab_link": true
    },
    "kernelspec": {
      "name": "python3",
      "display_name": "Python 3"
    },
    "language_info": {
      "name": "python"
    }
  },
  "cells": [
    {
      "cell_type": "markdown",
      "metadata": {
        "id": "view-in-github",
        "colab_type": "text"
      },
      "source": [
        "<a href=\"https://colab.research.google.com/github/jessica8403/TIL/blob/master/practice_12_26.ipynb\" target=\"_parent\"><img src=\"https://colab.research.google.com/assets/colab-badge.svg\" alt=\"Open In Colab\"/></a>"
      ]
    },
    {
      "cell_type": "code",
      "execution_count": null,
      "metadata": {
        "id": "G12D_g5Q0X8v"
      },
      "outputs": [],
      "source": [
        "# 문제\n",
        "# 9개의 서로 다른 자연수가 주어질 때, 이들 중 최댓값을 찾고 그 최댓값이 몇 번째 수인지를 구하는 프로그램을 작성하시오.\n",
        "\n",
        "# 예를 들어, 서로 다른 9개의 자연수\n",
        "\n",
        "# 3, 29, 38, 12, 57, 74, 40, 85, 61\n",
        "\n",
        "# 이 주어지면, 이들 중 최댓값은 85이고, 이 값은 8번째 수이다.\n",
        "\n",
        "# 입력\n",
        "# 첫째 줄부터 아홉 번째 줄까지 한 줄에 하나의 자연수가 주어진다. 주어지는 자연수는 100 보다 작다.\n",
        "\n",
        "# 출력\n",
        "# 첫째 줄에 최댓값을 출력하고, 둘째 줄에 최댓값이 몇 번째 수인지를 출력한다.\n",
        "\n",
        "\n",
        "a=[]\n",
        "for i in range(9):\n",
        "  a.append(int(input()))\n",
        "print(max(a))\n",
        "print(a.index(max(a))+1)\n"
      ]
    },
    {
      "cell_type": "code",
      "source": [
        ""
      ],
      "metadata": {
        "id": "tyD2IEVa3P7N"
      },
      "execution_count": null,
      "outputs": []
    }
  ]
}