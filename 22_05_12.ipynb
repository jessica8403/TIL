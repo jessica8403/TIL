{
  "nbformat": 4,
  "nbformat_minor": 0,
  "metadata": {
    "colab": {
      "name": "22.05.12.ipynb",
      "provenance": [],
      "authorship_tag": "ABX9TyOfB0p4Lx+0MKVM5DGhwJ/p",
      "include_colab_link": true
    },
    "kernelspec": {
      "name": "python3",
      "display_name": "Python 3"
    },
    "language_info": {
      "name": "python"
    }
  },
  "cells": [
    {
      "cell_type": "markdown",
      "metadata": {
        "id": "view-in-github",
        "colab_type": "text"
      },
      "source": [
        "<a href=\"https://colab.research.google.com/github/jessica8403/TIL/blob/master/22_05_12.ipynb\" target=\"_parent\"><img src=\"https://colab.research.google.com/assets/colab-badge.svg\" alt=\"Open In Colab\"/></a>"
      ]
    },
    {
      "cell_type": "code",
      "execution_count": 1,
      "metadata": {
        "colab": {
          "base_uri": "https://localhost:8080/"
        },
        "id": "4iqx9kS6C08o",
        "outputId": "9fb42a62-653e-484c-919f-8cd233877509"
      },
      "outputs": [
        {
          "output_type": "stream",
          "name": "stdout",
          "text": [
            "5 3\n",
            "1\n",
            "2\n",
            "8\n",
            "4\n",
            "9\n",
            "3\n"
          ]
        }
      ],
      "source": [
        "def count(len):\n",
        "  cnt=1\n",
        "  ep=line[0]\n",
        "  for i in range(1,n):\n",
        "    if line[i]-ep>=len:\n",
        "      cnt+=1\n",
        "      ep= line[i]\n",
        "\n",
        "  return cnt\n",
        "\n",
        "n,c=map(int, input().split())\n",
        "line=[]\n",
        "for _ in range(n):\n",
        "  tmp=int(input())\n",
        "  line.append(tmp)\n",
        "\n",
        "line.sort()\n",
        "lt=1\n",
        "rt=line[n-1]\n",
        "while lt<=rt:\n",
        "  mid= (lt+rt)//2\n",
        "  if count(mid)>=c:\n",
        "    res=mid\n",
        "    lt=mid+1\n",
        "\n",
        "  else:\n",
        "    rt=mid-1\n",
        "\n",
        "print(res)\n",
        "\n"
      ]
    }
  ]
}