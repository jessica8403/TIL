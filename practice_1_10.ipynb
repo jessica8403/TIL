{
  "nbformat": 4,
  "nbformat_minor": 0,
  "metadata": {
    "colab": {
      "name": "practice.1.10.ipynb",
      "provenance": [],
      "authorship_tag": "ABX9TyOYXhjzAwqPdlrhldvrP7h/",
      "include_colab_link": true
    },
    "kernelspec": {
      "name": "python3",
      "display_name": "Python 3"
    },
    "language_info": {
      "name": "python"
    }
  },
  "cells": [
    {
      "cell_type": "markdown",
      "metadata": {
        "id": "view-in-github",
        "colab_type": "text"
      },
      "source": [
        "<a href=\"https://colab.research.google.com/github/jessica8403/TIL/blob/master/practice_1_10.ipynb\" target=\"_parent\"><img src=\"https://colab.research.google.com/assets/colab-badge.svg\" alt=\"Open In Colab\"/></a>"
      ]
    },
    {
      "cell_type": "code",
      "execution_count": 6,
      "metadata": {
        "colab": {
          "base_uri": "https://localhost:8080/"
        },
        "id": "B6sLgECAqUsZ",
        "outputId": "2941da2a-ced4-4c19-a667-3ef31ba8d450"
      },
      "outputs": [
        {
          "output_type": "stream",
          "name": "stdout",
          "text": [
            "9\n",
            "1 2 X 4 5 X 7 8 X "
          ]
        }
      ],
      "source": [
        "# 본 문제는 python 의 빠른 기초 학습을 위해 설계된 문제로서 python 코드 제출을 기준으로 설명되어 있습니다. \n",
        "# ------\n",
        "\n",
        "# 친구들과 함께 3 6 9 게임을 하던 영일이는 잦은 실수 때문에 계속해서 벌칙을 받게 되었다.\n",
        "# 3 6 9 게임의 왕이 되기 위한 369 마스터 프로그램을 작성해 보자.\n",
        "\n",
        "# ** 3 6 9 게임은?\n",
        "# 여러 사람이 순서를 정한 후, 순서대로 수를 부르는 게임이다.\n",
        "# 만약 3, 6, 9 가 들어간 수를 자신이 불러야 하는 상황이라면, 수를 부르는 대신 \"박수(X)\" 를 쳐야 한다.\n",
        "# 33과 같이 3,6,9가 두 번 들어간 수 일때, \"짝짝\"과 같이 박수를 두 번 치는 형태도 있다. \n",
        "\n",
        "# 참고 \n",
        "# ...\n",
        "# for i in range(1, n+1) :\n",
        "#   if i%10==3 :\n",
        "#     print(\"X\", end=' ')    #출력 후 공백문자(빈칸, ' ')로 끝냄\n",
        "# ...\n",
        "\n",
        "# 입력\n",
        "# 30 보다 작은 정수 1개가 입력된다.\n",
        "# (1 ~ 29)\n",
        "\n",
        "# 출력\n",
        "# 1 부터 그 수까지 순서대로 공백을 두고 수를 출력하는데,\n",
        "# 3 또는 6 또는 9가 포함 되어있는 수인 경우, 그 수 대신 영문 대문자 X 를 출력한다.\n",
        "\n",
        "# 입력 예시   \n",
        "# 9\n",
        "\n",
        "# 출력 예시\n",
        "# 1 2 X 4 5 X 7 8 X\n",
        "\n",
        "\n",
        "n= int(input()) \n",
        "\n",
        "for i in range(1, n+1) :\n",
        "  if i%10==3 or i%10==6 or i%10==9 :\n",
        "    print(\"X\", end=' ') \n",
        "\n",
        "  else:\n",
        "    print(i, end=' ')"
      ]
    },
    {
      "cell_type": "code",
      "source": [
        "# 본 문제는 python 의 빠른 기초 학습을 위해 설계된 문제로서 python 코드 제출을 기준으로 설명되어 있습니다. \n",
        "# ------\n",
        "\n",
        "# 빨강(red), 초록(green), 파랑(blue) 빛을 섞어 여러 가지 다른 색 빛을 만들어 내려고 한다.\n",
        "\n",
        "# 빨강(r), 초록(g), 파랑(b) 각 빛의 가짓수가 주어질 때,\n",
        "# 주어진 rgb 빛들을 섞어 만들 수 있는 모든 경우의 조합(r g b)과 만들 수 있는 색의 가짓 수를 계산해보자.  \n",
        "\n",
        "# **모니터, 스마트폰과 같은 디스플레이에서 각 픽셀의 색을 만들어내기 위해서 r, g, b 색을 조합할 수 있다.\n",
        "# **픽셀(pixel)은 그림(picture)을 구성하는 셀(cell)에서 이름이 만들어졌다.\n",
        " \n",
        "\n",
        "# 입력\n",
        "# 빨녹파(r, g, b) 각 빛의 가짓수가 공백을 두고 입력된다.\n",
        "# 예를 들어, 3 3 3 은 빨녹파 빛에 대해서 각각 0~2까지 3가지 색이 있음을 의미한다.\n",
        "# 0 <= r,g,b <= 127\n",
        " \n",
        "\n",
        "# 출력\n",
        "# 만들 수 있는 rgb 색의 정보를 오름차순(계단을 올라가는 순, 12345... abcde..., 가나다라마...)으로\n",
        "# 줄을 바꿔 모두 출력하고, 마지막에 그 개수를 출력한다.\n",
        "\n",
        "r,g,b= map(int,input().split())\n",
        "for i in range(r):\n",
        "  for j in range(g):\n",
        "    for k in range(b):\n",
        "      print(i,j,k)\n",
        "\n",
        "print(r*g*b)\n",
        "\n",
        "\n"
      ],
      "metadata": {
        "colab": {
          "base_uri": "https://localhost:8080/"
        },
        "id": "4Xfm0Pb6ve6S",
        "outputId": "1906b21b-4d77-4c9c-ce09-405dc8dbf290"
      },
      "execution_count": 7,
      "outputs": [
        {
          "output_type": "stream",
          "name": "stdout",
          "text": [
            "2 2 2\n",
            "0 0 0\n",
            "0 0 1\n",
            "0 1 0\n",
            "0 1 1\n",
            "1 0 0\n",
            "1 0 1\n",
            "1 1 0\n",
            "1 1 1\n",
            "8\n"
          ]
        }
      ]
    }
  ]
}