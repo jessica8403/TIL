{
  "nbformat": 4,
  "nbformat_minor": 0,
  "metadata": {
    "colab": {
      "name": "practice 22.01.04.ipynb",
      "provenance": [],
      "authorship_tag": "ABX9TyPvpeHFhl1tgdMXJEH66ulw",
      "include_colab_link": true
    },
    "kernelspec": {
      "name": "python3",
      "display_name": "Python 3"
    },
    "language_info": {
      "name": "python"
    }
  },
  "cells": [
    {
      "cell_type": "markdown",
      "metadata": {
        "id": "view-in-github",
        "colab_type": "text"
      },
      "source": [
        "<a href=\"https://colab.research.google.com/github/jessica8403/TIL/blob/master/practice_22_01_04.ipynb\" target=\"_parent\"><img src=\"https://colab.research.google.com/assets/colab-badge.svg\" alt=\"Open In Colab\"/></a>"
      ]
    },
    {
      "cell_type": "code",
      "execution_count": null,
      "metadata": {
        "id": "aomypPByO4Y6"
      },
      "outputs": [],
      "source": [
        "# 백준 4673번\n",
        "\n",
        "# 문제\n",
        "# 셀프 넘버는 1949년 인도 수학자 D.R. Kaprekar가 이름 붙였다. 양의 정수 n에 대해서 d(n)을 n과 n의 각 자리수를 더하는 함수라고 정의하자. 예를 들어, d(75) = 75+7+5 = 87이다.\n",
        "\n",
        "# 양의 정수 n이 주어졌을 때, 이 수를 시작해서 n, d(n), d(d(n)), d(d(d(n))), ...과 같은 무한 수열을 만들 수 있다. \n",
        "\n",
        "# 예를 들어, 33으로 시작한다면 다음 수는 33 + 3 + 3 = 39이고, 그 다음 수는 39 + 3 + 9 = 51, 다음 수는 51 + 5 + 1 = 57이다. 이런식으로 다음과 같은 수열을 만들 수 있다.\n",
        "\n",
        "# 33, 39, 51, 57, 69, 84, 96, 111, 114, 120, 123, 129, 141, ...\n",
        "\n",
        "# n을 d(n)의 생성자라고 한다. 위의 수열에서 33은 39의 생성자이고, 39는 51의 생성자, 51은 57의 생성자이다. 생성자가 한 개보다 많은 경우도 있다. 예를 들어, 101은 생성자가 2개(91과 100) 있다. \n",
        "\n",
        "# 생성자가 없는 숫자를 셀프 넘버라고 한다. 100보다 작은 셀프 넘버는 총 13개가 있다. 1, 3, 5, 7, 9, 20, 31, 42, 53, 64, 75, 86, 97\n",
        "\n",
        "# 10000보다 작거나 같은 셀프 넘버를 한 줄에 하나씩 출력하는 프로그램을 작성하시오.\n",
        "\n",
        "# 입력\n",
        "# 입력은 없다.\n",
        "\n",
        "# 출력\n",
        "# 10,000보다 작거나 같은 셀프 넘버를 한 줄에 하나씩 증가하는 순서로 출력한다.\n",
        "\n",
        "def selfnum():\n",
        "\ta = set(range(1,10001))     #a는 모든 1~10000까지 숫자를 담은 set를 만든다.\n",
        "\tb = set()                   #b는 모든 생성자가 있는 숫자를 담은 set이다.\n",
        "\t\n",
        "\tfor i in range(1,10001):    #생성자가 있는 숫자를 만들기 위한 반복문\n",
        "\t\tsum = 0                 #1~부터 10000까지 모든 생성자가 있는 숫자를 만들어준다.  \n",
        "\t\tfor j in str(i):        #각 자릿수를 더하기 위한 반복문\n",
        "\t\t\tsum += int(j)      \n",
        "\t\tb.add(sum + i)          #n과 n의 각 자리수를 더한 m(생성자가 있는 수)를 b에 넣는다.\n",
        "\t\n",
        "\tself = list(a - b)          #세트의 연산(차집합)을 이용해 모든 수에서 생성자가 있는 수를 빼준다.\n",
        "\tself.sort()                 #즉) 셀프넘버만 남은 리스트를 정렬해준다.\n",
        "\t\n",
        "\tfor y in self:              # 정렬된 셀프넘버에 하나씩 접근하여 출력한다.\n",
        "\t\tprint(y)\n",
        "\n",
        "selfnum()                      \n"
      ]
    }
  ]
}