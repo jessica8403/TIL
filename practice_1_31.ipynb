{
  "nbformat": 4,
  "nbformat_minor": 0,
  "metadata": {
    "colab": {
      "name": "practice 1-31.ipynb",
      "provenance": [],
      "authorship_tag": "ABX9TyO/+v84WXZ2uziRIoKJfUk+",
      "include_colab_link": true
    },
    "kernelspec": {
      "name": "python3",
      "display_name": "Python 3"
    },
    "language_info": {
      "name": "python"
    }
  },
  "cells": [
    {
      "cell_type": "markdown",
      "metadata": {
        "id": "view-in-github",
        "colab_type": "text"
      },
      "source": [
        "<a href=\"https://colab.research.google.com/github/jessica8403/TIL/blob/master/practice_1_31.ipynb\" target=\"_parent\"><img src=\"https://colab.research.google.com/assets/colab-badge.svg\" alt=\"Open In Colab\"/></a>"
      ]
    },
    {
      "cell_type": "code",
      "execution_count": 3,
      "metadata": {
        "colab": {
          "base_uri": "https://localhost:8080/"
        },
        "id": "BW0XePkXX9ez",
        "outputId": "bbb53af2-ac18-4c9a-ed45-bb6cc023fbe9"
      },
      "outputs": [
        {
          "output_type": "stream",
          "name": "stdout",
          "text": [
            "10\n",
            "10 4 2 3 6 6 7 9 8 5\n",
            "5 8 9 7 6 6 3 2 4 10 "
          ]
        }
      ],
      "source": [
        "n= int(input())\n",
        "k= input().split()\n",
        "\n",
        "for i in range(n):\n",
        "  k[i]=int(k[i])\n",
        "for i in range(n-1,-1,-1):\n",
        "  print(k[i], end=' ')\n",
        "\n"
      ]
    }
  ]
}