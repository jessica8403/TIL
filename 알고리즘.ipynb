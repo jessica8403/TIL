{
  "nbformat": 4,
  "nbformat_minor": 0,
  "metadata": {
    "colab": {
      "name": "알고리즘.ipynb",
      "provenance": [],
      "authorship_tag": "ABX9TyOkzmkO912lGJ72D558B3ny",
      "include_colab_link": true
    },
    "kernelspec": {
      "name": "python3",
      "display_name": "Python 3"
    },
    "language_info": {
      "name": "python"
    }
  },
  "cells": [
    {
      "cell_type": "markdown",
      "metadata": {
        "id": "view-in-github",
        "colab_type": "text"
      },
      "source": [
        "<a href=\"https://colab.research.google.com/github/jessica8403/TIL/blob/master/%EC%95%8C%EA%B3%A0%EB%A6%AC%EC%A6%98.ipynb\" target=\"_parent\"><img src=\"https://colab.research.google.com/assets/colab-badge.svg\" alt=\"Open In Colab\"/></a>"
      ]
    },
    {
      "cell_type": "code",
      "execution_count": 4,
      "metadata": {
        "colab": {
          "base_uri": "https://localhost:8080/"
        },
        "id": "bF5v2w3UpIAr",
        "outputId": "c0637bc1-1e0b-4d0e-8d13-8c263cf6ea4e"
      },
      "outputs": [
        {
          "output_type": "stream",
          "name": "stdout",
          "text": [
            "['다현', '정연', '쯔위', '사나', '지효']\n",
            "['다현', '정연', '쯔위', '사나', '지효', '모모']\n",
            "['다현', '정연', '쯔위', '미나', '사나', '지효', '모모']\n",
            "['다현', '정연', '쯔위', '미나', '지효', '모모']\n"
          ]
        }
      ],
      "source": [
        "## 함수부\n",
        "def  add_data(friend) : # 선형 리스트에 추가\n",
        "    katok.append(None)\n",
        "    kLen = len(katok)\n",
        "    katok[kLen-1] = friend\n",
        "\n",
        "def  insert_data(position, friend) :\n",
        "    katok.append(None)\n",
        "    kLen = len(katok)\n",
        "    for i in range(kLen-1, position, -1) :\n",
        "        katok[i] = katok[i-1]\n",
        "        katok[i-1] = None\n",
        "    katok[position] = friend\n",
        "\n",
        "def delete_data(position) :\n",
        "    katok[position] = None\n",
        "    kLen = len(katok)\n",
        "    for i in range(position+1, kLen, 1) :\n",
        "        katok[i-1] = katok[i]\n",
        "        katok[i] = None\n",
        "    del(katok[kLen-1])\n",
        "\n",
        "## 전역변수부\n",
        "katok = [] # 선형 리스트\n",
        "\n",
        "## 메인코드부\n",
        "add_data('다현')\n",
        "add_data('정연')\n",
        "add_data('쯔위')\n",
        "add_data('사나')\n",
        "add_data('지효')\n",
        "print(katok)\n",
        "add_data('모모')\n",
        "print(katok)\n",
        "\n",
        "insert_data(3, '미나')\n",
        "print(katok)\n",
        "delete_data(4)\n",
        "print(katok)"
      ]
    }
  ]
}