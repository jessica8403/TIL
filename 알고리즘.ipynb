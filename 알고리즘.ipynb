{
  "nbformat": 4,
  "nbformat_minor": 0,
  "metadata": {
    "colab": {
      "name": "알고리즘.ipynb",
      "provenance": [],
      "authorship_tag": "ABX9TyN8iTOe/HvMDd+5f/ul7NqJ",
      "include_colab_link": true
    },
    "kernelspec": {
      "name": "python3",
      "display_name": "Python 3"
    },
    "language_info": {
      "name": "python"
    }
  },
  "cells": [
    {
      "cell_type": "markdown",
      "metadata": {
        "id": "view-in-github",
        "colab_type": "text"
      },
      "source": [
        "<a href=\"https://colab.research.google.com/github/jessica8403/TIL/blob/master/%EC%95%8C%EA%B3%A0%EB%A6%AC%EC%A6%98.ipynb\" target=\"_parent\"><img src=\"https://colab.research.google.com/assets/colab-badge.svg\" alt=\"Open In Colab\"/></a>"
      ]
    },
    {
      "cell_type": "code",
      "execution_count": 5,
      "metadata": {
        "colab": {
          "base_uri": "https://localhost:8080/"
        },
        "id": "bF5v2w3UpIAr",
        "outputId": "6fd18dc3-2b1e-4a44-c760-0ab698b43f74"
      },
      "outputs": [
        {
          "output_type": "stream",
          "name": "stdout",
          "text": [
            "['다현', '정연', '쯔위', '사나', '지효']\n",
            "['다현', '정연', '쯔위', '사나', '지효', '모모']\n",
            "['다현', '정연', '쯔위', '미나', '사나', '지효', '모모']\n",
            "['다현', '정연', '쯔위', '미나', '지효', '모모']\n"
          ]
        }
      ],
      "source": [
        "## 함수부\n",
        "def  add_data(friend) : # 선형 리스트에 추가\n",
        "    katok.append(None)\n",
        "    kLen = len(katok)\n",
        "    katok[kLen-1] = friend\n",
        "\n",
        "def  insert_data(position, friend) :\n",
        "    katok.append(None)\n",
        "    kLen = len(katok)\n",
        "    for i in range(kLen-1, position, -1) :\n",
        "        katok[i] = katok[i-1]\n",
        "        katok[i-1] = None\n",
        "    katok[position] = friend\n",
        "\n",
        "def delete_data(position) :\n",
        "    katok[position] = None\n",
        "    kLen = len(katok)\n",
        "    for i in range(position+1, kLen, 1) :\n",
        "        katok[i-1] = katok[i]\n",
        "        katok[i] = None\n",
        "    del(katok[kLen-1])\n",
        "\n",
        "## 전역변수부\n",
        "katok = [] # 선형 리스트\n",
        "\n",
        "## 메인코드부\n",
        "\n",
        "add_data('다현')\n",
        "add_data('정연')\n",
        "add_data('쯔위')\n",
        "add_data('사나')\n",
        "add_data('지효')\n",
        "print(katok)\n",
        "add_data('모모')\n",
        "print(katok)\n",
        "\n",
        "insert_data(3, '미나')\n",
        "print(katok)\n",
        "delete_data(4)\n",
        "print(katok)\n"
      ]
    },
    {
      "cell_type": "code",
      "source": [
        "## 함수\n",
        "class Node() :\n",
        "    def __init__(self):\n",
        "        self.data = None\n",
        "        self.link = None\n",
        "\n",
        "## 전역\n",
        "\n",
        "## 메인\n",
        "node1 = Node(); node1.data = '다현'\n",
        "node2 = Node(); node2.data = '정연'; node1.link = node2\n",
        "node3 = Node(); node3.data = \"쯔위\"; node2.link = node3\n",
        "node4 = Node(); node4.data = \"사나\"; node3.link = node4\n",
        "node5 = Node(); node5.data = \"지효\"; node4.link = node5\n",
        "\n",
        "# 삽입\n",
        "# newNode = Node()\n",
        "# newNode.data = '재남'\n",
        "# newNode.link = node2.link\n",
        "# node2.link = newNode\n",
        "\n",
        "# 삭제\n",
        "node2.link = node3.link\n",
        "del(node3)\n",
        "\n",
        "current = node1\n",
        "print(current.data, end= ' ')\n",
        "while current.link != None :\n",
        "    current = current.link\n",
        "    print(current.data, end=' ')\n"
      ],
      "metadata": {
        "colab": {
          "base_uri": "https://localhost:8080/"
        },
        "id": "Dgz5QJtSG-08",
        "outputId": "90d18207-a485-4b7b-ffc2-2b6062f7f7c6"
      },
      "execution_count": 7,
      "outputs": [
        {
          "output_type": "stream",
          "name": "stdout",
          "text": [
            "다현 정연 사나 지효 "
          ]
        }
      ]
    }
  ]
}