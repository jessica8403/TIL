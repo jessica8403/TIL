{
  "nbformat": 4,
  "nbformat_minor": 0,
  "metadata": {
    "colab": {
      "name": "Untitled7.ipynb",
      "provenance": [],
      "mount_file_id": "1tEmFooa4HdeZydzn0SMzPjr5WWloWzQk",
      "authorship_tag": "ABX9TyNuzqCL2Szwz2EXv5iAIpoH",
      "include_colab_link": true
    },
    "kernelspec": {
      "name": "python3",
      "display_name": "Python 3"
    },
    "language_info": {
      "name": "python"
    }
  },
  "cells": [
    {
      "cell_type": "markdown",
      "metadata": {
        "id": "view-in-github",
        "colab_type": "text"
      },
      "source": [
        "<a href=\"https://colab.research.google.com/github/jessica8403/TIL/blob/master/Untitled7.ipynb\" target=\"_parent\"><img src=\"https://colab.research.google.com/assets/colab-badge.svg\" alt=\"Open In Colab\"/></a>"
      ]
    },
    {
      "cell_type": "code",
      "execution_count": null,
      "metadata": {
        "id": "9VVbgx478bKW"
      },
      "outputs": [],
      "source": [
        "import warnings\n",
        "warnings.filterwarnings('always')\n",
        "warnings.filterwarnings('ignore')\n",
        "\n",
        "import numpy as np\n",
        "import pandas as pd\n",
        "\n",
        "import matplotlib.pyplot as plt\n",
        "import seaborn as sns\n",
        "from scipy.stats import norm\n",
        "from scipy.optimize import minimize"
      ]
    },
    {
      "cell_type": "code",
      "source": [
        "temp = np.array([32.13, 25.95, 27.95, 26.3, 26.33, 32.78, 31.48, \n",
        "    32.63, 28.2, 31.82, 25.52, 27.42, 28.92, 30.17, \n",
        "    29.09, 31.38, 29.52, 27.83, 30.27, 26.91])\n",
        "elec = np.array([364.5, 105.82, 147.28, 89.57, 114.05, 411.23, \n",
        "    301.93, 386.16, 149.09, 327.93, 111.67, 130.59, 180.6, \n",
        "    214.77, 188.84, 312.11, 194.13, 135.12, 236.75, 113.6])"
      ],
      "metadata": {
        "id": "-CmpTBax8caR"
      },
      "execution_count": null,
      "outputs": []
    },
    {
      "cell_type": "code",
      "source": [
        "df = pd.DataFrame( np.array( [elec, temp] ).T, columns=['elec', 'temp'] )\n",
        "df.sort_values(by='temp', inplace=True, ignore_index=True)\n",
        "df"
      ],
      "metadata": {
        "colab": {
          "base_uri": "https://localhost:8080/",
          "height": 676
        },
        "id": "-7Zu3F_F8fHE",
        "outputId": "620ff77b-c971-4a8d-a8ba-ee3f673d9026"
      },
      "execution_count": null,
      "outputs": [
        {
          "output_type": "execute_result",
          "data": {
            "text/html": [
              "\n",
              "  <div id=\"df-bac7e6d9-b61a-4da3-b5a2-dd75b0612a24\">\n",
              "    <div class=\"colab-df-container\">\n",
              "      <div>\n",
              "<style scoped>\n",
              "    .dataframe tbody tr th:only-of-type {\n",
              "        vertical-align: middle;\n",
              "    }\n",
              "\n",
              "    .dataframe tbody tr th {\n",
              "        vertical-align: top;\n",
              "    }\n",
              "\n",
              "    .dataframe thead th {\n",
              "        text-align: right;\n",
              "    }\n",
              "</style>\n",
              "<table border=\"1\" class=\"dataframe\">\n",
              "  <thead>\n",
              "    <tr style=\"text-align: right;\">\n",
              "      <th></th>\n",
              "      <th>elec</th>\n",
              "      <th>temp</th>\n",
              "    </tr>\n",
              "  </thead>\n",
              "  <tbody>\n",
              "    <tr>\n",
              "      <th>0</th>\n",
              "      <td>111.67</td>\n",
              "      <td>25.52</td>\n",
              "    </tr>\n",
              "    <tr>\n",
              "      <th>1</th>\n",
              "      <td>105.82</td>\n",
              "      <td>25.95</td>\n",
              "    </tr>\n",
              "    <tr>\n",
              "      <th>2</th>\n",
              "      <td>89.57</td>\n",
              "      <td>26.30</td>\n",
              "    </tr>\n",
              "    <tr>\n",
              "      <th>3</th>\n",
              "      <td>114.05</td>\n",
              "      <td>26.33</td>\n",
              "    </tr>\n",
              "    <tr>\n",
              "      <th>4</th>\n",
              "      <td>113.60</td>\n",
              "      <td>26.91</td>\n",
              "    </tr>\n",
              "    <tr>\n",
              "      <th>5</th>\n",
              "      <td>130.59</td>\n",
              "      <td>27.42</td>\n",
              "    </tr>\n",
              "    <tr>\n",
              "      <th>6</th>\n",
              "      <td>135.12</td>\n",
              "      <td>27.83</td>\n",
              "    </tr>\n",
              "    <tr>\n",
              "      <th>7</th>\n",
              "      <td>147.28</td>\n",
              "      <td>27.95</td>\n",
              "    </tr>\n",
              "    <tr>\n",
              "      <th>8</th>\n",
              "      <td>149.09</td>\n",
              "      <td>28.20</td>\n",
              "    </tr>\n",
              "    <tr>\n",
              "      <th>9</th>\n",
              "      <td>180.60</td>\n",
              "      <td>28.92</td>\n",
              "    </tr>\n",
              "    <tr>\n",
              "      <th>10</th>\n",
              "      <td>188.84</td>\n",
              "      <td>29.09</td>\n",
              "    </tr>\n",
              "    <tr>\n",
              "      <th>11</th>\n",
              "      <td>194.13</td>\n",
              "      <td>29.52</td>\n",
              "    </tr>\n",
              "    <tr>\n",
              "      <th>12</th>\n",
              "      <td>214.77</td>\n",
              "      <td>30.17</td>\n",
              "    </tr>\n",
              "    <tr>\n",
              "      <th>13</th>\n",
              "      <td>236.75</td>\n",
              "      <td>30.27</td>\n",
              "    </tr>\n",
              "    <tr>\n",
              "      <th>14</th>\n",
              "      <td>312.11</td>\n",
              "      <td>31.38</td>\n",
              "    </tr>\n",
              "    <tr>\n",
              "      <th>15</th>\n",
              "      <td>301.93</td>\n",
              "      <td>31.48</td>\n",
              "    </tr>\n",
              "    <tr>\n",
              "      <th>16</th>\n",
              "      <td>327.93</td>\n",
              "      <td>31.82</td>\n",
              "    </tr>\n",
              "    <tr>\n",
              "      <th>17</th>\n",
              "      <td>364.50</td>\n",
              "      <td>32.13</td>\n",
              "    </tr>\n",
              "    <tr>\n",
              "      <th>18</th>\n",
              "      <td>386.16</td>\n",
              "      <td>32.63</td>\n",
              "    </tr>\n",
              "    <tr>\n",
              "      <th>19</th>\n",
              "      <td>411.23</td>\n",
              "      <td>32.78</td>\n",
              "    </tr>\n",
              "  </tbody>\n",
              "</table>\n",
              "</div>\n",
              "      <button class=\"colab-df-convert\" onclick=\"convertToInteractive('df-bac7e6d9-b61a-4da3-b5a2-dd75b0612a24')\"\n",
              "              title=\"Convert this dataframe to an interactive table.\"\n",
              "              style=\"display:none;\">\n",
              "        \n",
              "  <svg xmlns=\"http://www.w3.org/2000/svg\" height=\"24px\"viewBox=\"0 0 24 24\"\n",
              "       width=\"24px\">\n",
              "    <path d=\"M0 0h24v24H0V0z\" fill=\"none\"/>\n",
              "    <path d=\"M18.56 5.44l.94 2.06.94-2.06 2.06-.94-2.06-.94-.94-2.06-.94 2.06-2.06.94zm-11 1L8.5 8.5l.94-2.06 2.06-.94-2.06-.94L8.5 2.5l-.94 2.06-2.06.94zm10 10l.94 2.06.94-2.06 2.06-.94-2.06-.94-.94-2.06-.94 2.06-2.06.94z\"/><path d=\"M17.41 7.96l-1.37-1.37c-.4-.4-.92-.59-1.43-.59-.52 0-1.04.2-1.43.59L10.3 9.45l-7.72 7.72c-.78.78-.78 2.05 0 2.83L4 21.41c.39.39.9.59 1.41.59.51 0 1.02-.2 1.41-.59l7.78-7.78 2.81-2.81c.8-.78.8-2.07 0-2.86zM5.41 20L4 18.59l7.72-7.72 1.47 1.35L5.41 20z\"/>\n",
              "  </svg>\n",
              "      </button>\n",
              "      \n",
              "  <style>\n",
              "    .colab-df-container {\n",
              "      display:flex;\n",
              "      flex-wrap:wrap;\n",
              "      gap: 12px;\n",
              "    }\n",
              "\n",
              "    .colab-df-convert {\n",
              "      background-color: #E8F0FE;\n",
              "      border: none;\n",
              "      border-radius: 50%;\n",
              "      cursor: pointer;\n",
              "      display: none;\n",
              "      fill: #1967D2;\n",
              "      height: 32px;\n",
              "      padding: 0 0 0 0;\n",
              "      width: 32px;\n",
              "    }\n",
              "\n",
              "    .colab-df-convert:hover {\n",
              "      background-color: #E2EBFA;\n",
              "      box-shadow: 0px 1px 2px rgba(60, 64, 67, 0.3), 0px 1px 3px 1px rgba(60, 64, 67, 0.15);\n",
              "      fill: #174EA6;\n",
              "    }\n",
              "\n",
              "    [theme=dark] .colab-df-convert {\n",
              "      background-color: #3B4455;\n",
              "      fill: #D2E3FC;\n",
              "    }\n",
              "\n",
              "    [theme=dark] .colab-df-convert:hover {\n",
              "      background-color: #434B5C;\n",
              "      box-shadow: 0px 1px 3px 1px rgba(0, 0, 0, 0.15);\n",
              "      filter: drop-shadow(0px 1px 2px rgba(0, 0, 0, 0.3));\n",
              "      fill: #FFFFFF;\n",
              "    }\n",
              "  </style>\n",
              "\n",
              "      <script>\n",
              "        const buttonEl =\n",
              "          document.querySelector('#df-bac7e6d9-b61a-4da3-b5a2-dd75b0612a24 button.colab-df-convert');\n",
              "        buttonEl.style.display =\n",
              "          google.colab.kernel.accessAllowed ? 'block' : 'none';\n",
              "\n",
              "        async function convertToInteractive(key) {\n",
              "          const element = document.querySelector('#df-bac7e6d9-b61a-4da3-b5a2-dd75b0612a24');\n",
              "          const dataTable =\n",
              "            await google.colab.kernel.invokeFunction('convertToInteractive',\n",
              "                                                     [key], {});\n",
              "          if (!dataTable) return;\n",
              "\n",
              "          const docLinkHtml = 'Like what you see? Visit the ' +\n",
              "            '<a target=\"_blank\" href=https://colab.research.google.com/notebooks/data_table.ipynb>data table notebook</a>'\n",
              "            + ' to learn more about interactive tables.';\n",
              "          element.innerHTML = '';\n",
              "          dataTable['output_type'] = 'display_data';\n",
              "          await google.colab.output.renderOutput(dataTable, element);\n",
              "          const docLink = document.createElement('div');\n",
              "          docLink.innerHTML = docLinkHtml;\n",
              "          element.appendChild(docLink);\n",
              "        }\n",
              "      </script>\n",
              "    </div>\n",
              "  </div>\n",
              "  "
            ],
            "text/plain": [
              "      elec   temp\n",
              "0   111.67  25.52\n",
              "1   105.82  25.95\n",
              "2    89.57  26.30\n",
              "3   114.05  26.33\n",
              "4   113.60  26.91\n",
              "5   130.59  27.42\n",
              "6   135.12  27.83\n",
              "7   147.28  27.95\n",
              "8   149.09  28.20\n",
              "9   180.60  28.92\n",
              "10  188.84  29.09\n",
              "11  194.13  29.52\n",
              "12  214.77  30.17\n",
              "13  236.75  30.27\n",
              "14  312.11  31.38\n",
              "15  301.93  31.48\n",
              "16  327.93  31.82\n",
              "17  364.50  32.13\n",
              "18  386.16  32.63\n",
              "19  411.23  32.78"
            ]
          },
          "metadata": {},
          "execution_count": 51
        }
      ]
    },
    {
      "cell_type": "code",
      "source": [
        "df.plot(kind='scatter', x='temp', y='elec')\n",
        "plt.grid()\n",
        "plt.show()"
      ],
      "metadata": {
        "colab": {
          "base_uri": "https://localhost:8080/",
          "height": 279
        },
        "id": "Evslz9l19EOm",
        "outputId": "53a20f76-01df-4dc6-bed4-a132cfb71d10"
      },
      "execution_count": null,
      "outputs": [
        {
          "output_type": "display_data",
          "data": {
            "image/png": "[encoded data removed]",
            "text/plain": [
              "<Figure size 432x288 with 1 Axes>"
            ]
          },
          "metadata": {
            "needs_background": "light"
          }
        }
      ]
    },
    {
      "cell_type": "code",
      "source": [
        "sigma = df['elec'].std()\n",
        "\n",
        "def L(beta):\n",
        "  likelihood = norm( beta[0] + beta[1] * temp, sigma).pdf(elec)\n",
        "  return np.sum( - np.log( likelihood ) )"
      ],
      "metadata": {
        "id": "AJJ2z0pU9oFa"
      },
      "execution_count": null,
      "outputs": []
    },
    {
      "cell_type": "code",
      "source": [
        "beta = [ 0, 0 ]\n",
        "result = minimize( L, beta )\n",
        "result.x\n",
        "\n"
      ],
      "metadata": {
        "colab": {
          "base_uri": "https://localhost:8080/"
        },
        "id": "XPdG-ffN_V5w",
        "outputId": "2d6162b3-f69f-4dde-c61d-0369bb67807c"
      },
      "execution_count": null,
      "outputs": [
        {
          "output_type": "execute_result",
          "data": {
            "text/plain": [
              "array([-1025.31332352,    42.43388997])"
            ]
          },
          "metadata": {},
          "execution_count": 57
        }
      ]
    },
    {
      "cell_type": "code",
      "source": [
        "def error(beta):\n",
        "  yhat = beta[0] + beta[1] * temp\n",
        "  return np.sum( (elec - yhat) ** 2 )"
      ],
      "metadata": {
        "id": "YZdPJYQZDZkA"
      },
      "execution_count": null,
      "outputs": []
    },
    {
      "cell_type": "code",
      "source": [
        "beta = [ 0, 0 ]\n",
        "result = minimize( error, beta )\n",
        "result.x"
      ],
      "metadata": {
        "colab": {
          "base_uri": "https://localhost:8080/"
        },
        "id": "2iPeC3NeI4Hu",
        "outputId": "8b5f2b9a-dd0b-4df6-d0ea-da357727fd73"
      },
      "execution_count": null,
      "outputs": [
        {
          "output_type": "execute_result",
          "data": {
            "text/plain": [
              "array([-1025.12948367,    42.42761693])"
            ]
          },
          "metadata": {},
          "execution_count": 59
        }
      ]
    },
    {
      "cell_type": "code",
      "source": [
        "def grad_fa(beta):\n",
        "  return np.sum(-2 * temp * (-beta[1] * temp - beta[0] + elec))\n",
        "\n",
        "def grad_fb(beta):\n",
        "  return np.sum(2 * beta[1] * temp + 2 * beta[0] - 2 * elec)"
      ],
      "metadata": {
        "id": "Jo6Q9PJdI_Bm"
      },
      "execution_count": null,
      "outputs": []
    },
    {
      "cell_type": "code",
      "source": [
        "w = np.array( [ 0, 0 ] )\n",
        "lr = 0.00001\n",
        "maxIter = 2000000\n",
        "\n",
        "f = []\n",
        "for _ in range(maxIter):\n",
        "  f.append( error(w) )\n",
        "  grad = np.array( [ grad_fb(w), grad_fa(w) ] )\n",
        "  w1 = w - lr * grad\n",
        "  w = w1"
      ],
      "metadata": {
        "id": "GcSkL_NiKOM9"
      },
      "execution_count": null,
      "outputs": []
    },
    {
      "cell_type": "code",
      "source": [
        "plt.plot( f )\n",
        "plt.grid()\n",
        "plt.show()"
      ],
      "metadata": {
        "colab": {
          "base_uri": "https://localhost:8080/",
          "height": 289
        },
        "id": "BrwgSKvVLRmD",
        "outputId": "b9d248a9-1bdf-4c6e-893e-e1802c25703b"
      },
      "execution_count": null,
      "outputs": [
        {
          "output_type": "display_data",
          "data": {
            "image/png": "[encoded data removed]",
            "text/plain": [
              "<Figure size 432x288 with 1 Axes>"
            ]
          },
          "metadata": {
            "needs_background": "light"
          }
        }
      ]
    },
    {
      "cell_type": "code",
      "source": [
        "w0"
      ],
      "metadata": {
        "colab": {
          "base_uri": "https://localhost:8080/"
        },
        "id": "WffEc3KMLT-4",
        "outputId": "66bcf45e-c929-43ce-9dee-f74662bd32d7"
      },
      "execution_count": null,
      "outputs": [
        {
          "output_type": "execute_result",
          "data": {
            "text/plain": [
              "array([-938.78891348,   39.48197878])"
            ]
          },
          "metadata": {},
          "execution_count": 63
        }
      ]
    },
    {
      "cell_type": "code",
      "source": [
        "df.plot(kind='scatter', x='temp', y='elec')\n",
        "plt.plot( df['temp'], w[0] + w[1] * df['temp'] )\n",
        "plt.grid()\n",
        "plt.show()"
      ],
      "metadata": {
        "colab": {
          "base_uri": "https://localhost:8080/",
          "height": 279
        },
        "id": "9O-QUs9vNw2f",
        "outputId": "8beb3889-f0bc-460c-9f53-c31e42d88737"
      },
      "execution_count": null,
      "outputs": [
        {
          "output_type": "display_data",
          "data": {
            "image/png": "[encoded data removed]",
            "text/plain": [
              "<Figure size 432x288 with 1 Axes>"
            ]
          },
          "metadata": {
            "needs_background": "light"
          }
        }
      ]
    },
    {
      "cell_type": "code",
      "source": [
        "df['temp2'] = df['temp'] ** 2\n",
        "df"
      ],
      "metadata": {
        "colab": {
          "base_uri": "https://localhost:8080/",
          "height": 676
        },
        "id": "889jGEjFN7HT",
        "outputId": "7ea63fe8-be82-4c3d-943e-ba48d008e7ab"
      },
      "execution_count": null,
      "outputs": [
        {
          "output_type": "execute_result",
          "data": {
            "text/html": [
              "\n",
              "  <div id=\"df-af12cb93-60ed-4898-933d-abd8b31cab9e\">\n",
              "    <div class=\"colab-df-container\">\n",
              "      <div>\n",
              "<style scoped>\n",
              "    .dataframe tbody tr th:only-of-type {\n",
              "        vertical-align: middle;\n",
              "    }\n",
              "\n",
              "    .dataframe tbody tr th {\n",
              "        vertical-align: top;\n",
              "    }\n",
              "\n",
              "    .dataframe thead th {\n",
              "        text-align: right;\n",
              "    }\n",
              "</style>\n",
              "<table border=\"1\" class=\"dataframe\">\n",
              "  <thead>\n",
              "    <tr style=\"text-align: right;\">\n",
              "      <th></th>\n",
              "      <th>elec</th>\n",
              "      <th>temp</th>\n",
              "      <th>temp2</th>\n",
              "    </tr>\n",
              "  </thead>\n",
              "  <tbody>\n",
              "    <tr>\n",
              "      <th>0</th>\n",
              "      <td>111.67</td>\n",
              "      <td>25.52</td>\n",
              "      <td>651.2704</td>\n",
              "    </tr>\n",
              "    <tr>\n",
              "      <th>1</th>\n",
              "      <td>105.82</td>\n",
              "      <td>25.95</td>\n",
              "      <td>673.4025</td>\n",
              "    </tr>\n",
              "    <tr>\n",
              "      <th>2</th>\n",
              "      <td>89.57</td>\n",
              "      <td>26.30</td>\n",
              "      <td>691.6900</td>\n",
              "    </tr>\n",
              "    <tr>\n",
              "      <th>3</th>\n",
              "      <td>114.05</td>\n",
              "      <td>26.33</td>\n",
              "      <td>693.2689</td>\n",
              "    </tr>\n",
              "    <tr>\n",
              "      <th>4</th>\n",
              "      <td>113.60</td>\n",
              "      <td>26.91</td>\n",
              "      <td>724.1481</td>\n",
              "    </tr>\n",
              "    <tr>\n",
              "      <th>5</th>\n",
              "      <td>130.59</td>\n",
              "      <td>27.42</td>\n",
              "      <td>751.8564</td>\n",
              "    </tr>\n",
              "    <tr>\n",
              "      <th>6</th>\n",
              "      <td>135.12</td>\n",
              "      <td>27.83</td>\n",
              "      <td>774.5089</td>\n",
              "    </tr>\n",
              "    <tr>\n",
              "      <th>7</th>\n",
              "      <td>147.28</td>\n",
              "      <td>27.95</td>\n",
              "      <td>781.2025</td>\n",
              "    </tr>\n",
              "    <tr>\n",
              "      <th>8</th>\n",
              "      <td>149.09</td>\n",
              "      <td>28.20</td>\n",
              "      <td>795.2400</td>\n",
              "    </tr>\n",
              "    <tr>\n",
              "      <th>9</th>\n",
              "      <td>180.60</td>\n",
              "      <td>28.92</td>\n",
              "      <td>836.3664</td>\n",
              "    </tr>\n",
              "    <tr>\n",
              "      <th>10</th>\n",
              "      <td>188.84</td>\n",
              "      <td>29.09</td>\n",
              "      <td>846.2281</td>\n",
              "    </tr>\n",
              "    <tr>\n",
              "      <th>11</th>\n",
              "      <td>194.13</td>\n",
              "      <td>29.52</td>\n",
              "      <td>871.4304</td>\n",
              "    </tr>\n",
              "    <tr>\n",
              "      <th>12</th>\n",
              "      <td>214.77</td>\n",
              "      <td>30.17</td>\n",
              "      <td>910.2289</td>\n",
              "    </tr>\n",
              "    <tr>\n",
              "      <th>13</th>\n",
              "      <td>236.75</td>\n",
              "      <td>30.27</td>\n",
              "      <td>916.2729</td>\n",
              "    </tr>\n",
              "    <tr>\n",
              "      <th>14</th>\n",
              "      <td>312.11</td>\n",
              "      <td>31.38</td>\n",
              "      <td>984.7044</td>\n",
              "    </tr>\n",
              "    <tr>\n",
              "      <th>15</th>\n",
              "      <td>301.93</td>\n",
              "      <td>31.48</td>\n",
              "      <td>990.9904</td>\n",
              "    </tr>\n",
              "    <tr>\n",
              "      <th>16</th>\n",
              "      <td>327.93</td>\n",
              "      <td>31.82</td>\n",
              "      <td>1012.5124</td>\n",
              "    </tr>\n",
              "    <tr>\n",
              "      <th>17</th>\n",
              "      <td>364.50</td>\n",
              "      <td>32.13</td>\n",
              "      <td>1032.3369</td>\n",
              "    </tr>\n",
              "    <tr>\n",
              "      <th>18</th>\n",
              "      <td>386.16</td>\n",
              "      <td>32.63</td>\n",
              "      <td>1064.7169</td>\n",
              "    </tr>\n",
              "    <tr>\n",
              "      <th>19</th>\n",
              "      <td>411.23</td>\n",
              "      <td>32.78</td>\n",
              "      <td>1074.5284</td>\n",
              "    </tr>\n",
              "  </tbody>\n",
              "</table>\n",
              "</div>\n",
              "      <button class=\"colab-df-convert\" onclick=\"convertToInteractive('df-af12cb93-60ed-4898-933d-abd8b31cab9e')\"\n",
              "              title=\"Convert this dataframe to an interactive table.\"\n",
              "              style=\"display:none;\">\n",
              "        \n",
              "  <svg xmlns=\"http://www.w3.org/2000/svg\" height=\"24px\"viewBox=\"0 0 24 24\"\n",
              "       width=\"24px\">\n",
              "    <path d=\"M0 0h24v24H0V0z\" fill=\"none\"/>\n",
              "    <path d=\"M18.56 5.44l.94 2.06.94-2.06 2.06-.94-2.06-.94-.94-2.06-.94 2.06-2.06.94zm-11 1L8.5 8.5l.94-2.06 2.06-.94-2.06-.94L8.5 2.5l-.94 2.06-2.06.94zm10 10l.94 2.06.94-2.06 2.06-.94-2.06-.94-.94-2.06-.94 2.06-2.06.94z\"/><path d=\"M17.41 7.96l-1.37-1.37c-.4-.4-.92-.59-1.43-.59-.52 0-1.04.2-1.43.59L10.3 9.45l-7.72 7.72c-.78.78-.78 2.05 0 2.83L4 21.41c.39.39.9.59 1.41.59.51 0 1.02-.2 1.41-.59l7.78-7.78 2.81-2.81c.8-.78.8-2.07 0-2.86zM5.41 20L4 18.59l7.72-7.72 1.47 1.35L5.41 20z\"/>\n",
              "  </svg>\n",
              "      </button>\n",
              "      \n",
              "  <style>\n",
              "    .colab-df-container {\n",
              "      display:flex;\n",
              "      flex-wrap:wrap;\n",
              "      gap: 12px;\n",
              "    }\n",
              "\n",
              "    .colab-df-convert {\n",
              "      background-color: #E8F0FE;\n",
              "      border: none;\n",
              "      border-radius: 50%;\n",
              "      cursor: pointer;\n",
              "      display: none;\n",
              "      fill: #1967D2;\n",
              "      height: 32px;\n",
              "      padding: 0 0 0 0;\n",
              "      width: 32px;\n",
              "    }\n",
              "\n",
              "    .colab-df-convert:hover {\n",
              "      background-color: #E2EBFA;\n",
              "      box-shadow: 0px 1px 2px rgba(60, 64, 67, 0.3), 0px 1px 3px 1px rgba(60, 64, 67, 0.15);\n",
              "      fill: #174EA6;\n",
              "    }\n",
              "\n",
              "    [theme=dark] .colab-df-convert {\n",
              "      background-color: #3B4455;\n",
              "      fill: #D2E3FC;\n",
              "    }\n",
              "\n",
              "    [theme=dark] .colab-df-convert:hover {\n",
              "      background-color: #434B5C;\n",
              "      box-shadow: 0px 1px 3px 1px rgba(0, 0, 0, 0.15);\n",
              "      filter: drop-shadow(0px 1px 2px rgba(0, 0, 0, 0.3));\n",
              "      fill: #FFFFFF;\n",
              "    }\n",
              "  </style>\n",
              "\n",
              "      <script>\n",
              "        const buttonEl =\n",
              "          document.querySelector('#df-af12cb93-60ed-4898-933d-abd8b31cab9e button.colab-df-convert');\n",
              "        buttonEl.style.display =\n",
              "          google.colab.kernel.accessAllowed ? 'block' : 'none';\n",
              "\n",
              "        async function convertToInteractive(key) {\n",
              "          const element = document.querySelector('#df-af12cb93-60ed-4898-933d-abd8b31cab9e');\n",
              "          const dataTable =\n",
              "            await google.colab.kernel.invokeFunction('convertToInteractive',\n",
              "                                                     [key], {});\n",
              "          if (!dataTable) return;\n",
              "\n",
              "          const docLinkHtml = 'Like what you see? Visit the ' +\n",
              "            '<a target=\"_blank\" href=https://colab.research.google.com/notebooks/data_table.ipynb>data table notebook</a>'\n",
              "            + ' to learn more about interactive tables.';\n",
              "          element.innerHTML = '';\n",
              "          dataTable['output_type'] = 'display_data';\n",
              "          await google.colab.output.renderOutput(dataTable, element);\n",
              "          const docLink = document.createElement('div');\n",
              "          docLink.innerHTML = docLinkHtml;\n",
              "          element.appendChild(docLink);\n",
              "        }\n",
              "      </script>\n",
              "    </div>\n",
              "  </div>\n",
              "  "
            ],
            "text/plain": [
              "      elec   temp      temp2\n",
              "0   111.67  25.52   651.2704\n",
              "1   105.82  25.95   673.4025\n",
              "2    89.57  26.30   691.6900\n",
              "3   114.05  26.33   693.2689\n",
              "4   113.60  26.91   724.1481\n",
              "5   130.59  27.42   751.8564\n",
              "6   135.12  27.83   774.5089\n",
              "7   147.28  27.95   781.2025\n",
              "8   149.09  28.20   795.2400\n",
              "9   180.60  28.92   836.3664\n",
              "10  188.84  29.09   846.2281\n",
              "11  194.13  29.52   871.4304\n",
              "12  214.77  30.17   910.2289\n",
              "13  236.75  30.27   916.2729\n",
              "14  312.11  31.38   984.7044\n",
              "15  301.93  31.48   990.9904\n",
              "16  327.93  31.82  1012.5124\n",
              "17  364.50  32.13  1032.3369\n",
              "18  386.16  32.63  1064.7169\n",
              "19  411.23  32.78  1074.5284"
            ]
          },
          "metadata": {},
          "execution_count": 65
        }
      ]
    },
    {
      "cell_type": "code",
      "source": [
        "def error(beta):\n",
        "  yhat = beta[0] + beta[1] * df['temp'] + beta[2] * df['temp2']\n",
        "  return np.sum( (df['elec'] - yhat) ** 2 )\n",
        "\n",
        "def grad_b0(beta):\n",
        "  return np.sum( 2 * beta[0] + 2 * beta[1] * df['temp'] + 2 * beta[2] * df['temp2'] - 2 * elec )\n",
        "\n",
        "def grad_b1(beta):\n",
        "  return np.sum( -2 * df['temp'] * (-beta[0] - beta[1] * df['temp'] - beta[2] * df['temp2'] + elec) )\n",
        "\n",
        "def grad_b2(beta):\n",
        "  return np.sum( -2 * df['temp2'] * (-beta[0] - beta[1] * df['temp'] - beta[2] * df['temp2'] + elec) )"
      ],
      "metadata": {
        "id": "D5YI-zeQeDZj"
      },
      "execution_count": null,
      "outputs": []
    },
    {
      "cell_type": "code",
      "source": [
        "w = np.array( [ 0, 0, 0 ] )\n",
        "lr = 0.000000001\n",
        "maxIter = 1000\n",
        "\n",
        "f = []\n",
        "for _ in range(maxIter):\n",
        "  f.append( error(w) )\n",
        "  grad = np.array( [ grad_b0(w), grad_b1(w), grad_b2(w) ] )\n",
        "  w1 = w - lr * grad\n",
        "  w = w1"
      ],
      "metadata": {
        "id": "jM3WXpylfTpb"
      },
      "execution_count": null,
      "outputs": []
    },
    {
      "cell_type": "code",
      "source": [
        "plt.plot( f )\n",
        "plt.grid()\n",
        "plt.show()"
      ],
      "metadata": {
        "colab": {
          "base_uri": "https://localhost:8080/",
          "height": 276
        },
        "id": "ChlRrSNLwYjX",
        "outputId": "58817c9b-91de-4826-decd-cd99114e7d77"
      },
      "execution_count": null,
      "outputs": [
        {
          "output_type": "display_data",
          "data": {
            "image/png": "[encoded data removed]",
            "text/plain": [
              "<Figure size 432x288 with 1 Axes>"
            ]
          },
          "metadata": {
            "needs_background": "light"
          }
        }
      ]
    },
    {
      "cell_type": "code",
      "source": [
        "beta=np.array([0,0,0])\n",
        "result=minimize(error,beta)\n",
        "result.x"
      ],
      "metadata": {
        "colab": {
          "base_uri": "https://localhost:8080/"
        },
        "id": "X_VjD9puwdtb",
        "outputId": "1efc7248-cbe8-44ec-982f-64d9ed6f1983"
      },
      "execution_count": null,
      "outputs": [
        {
          "output_type": "execute_result",
          "data": {
            "text/plain": [
              "array([3647.24199537, -279.29392256,    5.50378104])"
            ]
          },
          "metadata": {},
          "execution_count": 78
        }
      ]
    },
    {
      "cell_type": "code",
      "source": [
        "w = result.x\n",
        "df.plot(kind='scatter', x='temp', y='elec')\n",
        "plt.plot( df['temp'], w[0] + w[1] * df['temp'] + w[2] * df['temp2'] )\n",
        "plt.grid()\n",
        "plt.show()"
      ],
      "metadata": {
        "id": "DyFVofgRxRZ-",
        "colab": {
          "base_uri": "https://localhost:8080/",
          "height": 279
        },
        "outputId": "2b951de2-83ba-420c-f25b-dbf58e1a1928"
      },
      "execution_count": 80,
      "outputs": [
        {
          "output_type": "display_data",
          "data": {
            "image/png": "[encoded data removed]",
            "text/plain": [
              "<Figure size 432x288 with 1 Axes>"
            ]
          },
          "metadata": {
            "needs_background": "light"
          }
        }
      ]
    },
    {
      "cell_type": "code",
      "source": [
        "rawData=np.load('/content/drive/MyDrive/moore.npz')"
      ],
      "metadata": {
        "id": "WBUs0kHO13_t"
      },
      "execution_count": 81,
      "outputs": []
    },
    {
      "cell_type": "code",
      "source": [
        "x = rawData['X']\n",
        "y = rawData['y']"
      ],
      "metadata": {
        "id": "8DiWCICL_hS3"
      },
      "execution_count": 82,
      "outputs": []
    },
    {
      "cell_type": "code",
      "source": [
        "plt.plot(x, y, 'o')\n",
        "plt.grid()\n",
        "plt.show()"
      ],
      "metadata": {
        "colab": {
          "base_uri": "https://localhost:8080/",
          "height": 276
        },
        "id": "rYeSjJ3l_ttM",
        "outputId": "fcc01865-5340-4ddd-8b43-f7c2091e3e15"
      },
      "execution_count": 83,
      "outputs": [
        {
          "output_type": "display_data",
          "data": {
            "image/png": "[encoded data removed]",
            "text/plain": [
              "<Figure size 432x288 with 1 Axes>"
            ]
          },
          "metadata": {
            "needs_background": "light"
          }
        }
      ]
    },
    {
      "cell_type": "code",
      "source": [
        "x"
      ],
      "metadata": {
        "colab": {
          "base_uri": "https://localhost:8080/"
        },
        "id": "HjJ-SpGpEfxH",
        "outputId": "21631391-4583-4a11-afa3-db4be75d305b"
      },
      "execution_count": 116,
      "outputs": [
        {
          "output_type": "execute_result",
          "data": {
            "text/plain": [
              "array([1971, 1972, 1974, 1974, 1974, 1974, 1975, 1976, 1976, 1978, 1978,\n",
              "       1979, 1979, 1981, 1982, 1982, 1983, 1984, 1985, 1985, 1985, 1986,\n",
              "       1987, 1988, 1988, 1989, 1989, 1991, 1991, 1993, 1994, 1995, 1995,\n",
              "       1996, 1997, 1997, 1998, 1999, 1999, 1999, 1999, 1999, 2000, 2000,\n",
              "       2001, 2002, 2002, 2003, 2003, 2003, 2004, 2004, 2005, 2005, 2006,\n",
              "       2006, 2006, 2006, 2006, 2007, 2007, 2007, 2007, 2007, 2008, 2008,\n",
              "       2008, 2008, 2008, 2009, 2010, 2010, 2010, 2010, 2010, 2010, 2011,\n",
              "       2011, 2011, 2012, 2012, 2012, 2012, 2012, 2012, 2012, 2013, 2013,\n",
              "       2013, 2013, 2014, 2014, 2014, 2014, 2014, 2014, 2015, 2015, 2015,\n",
              "       2015, 2015, 2016])"
            ]
          },
          "metadata": {},
          "execution_count": 116
        }
      ]
    },
    {
      "cell_type": "code",
      "source": [
        "df = pd.DataFrame( np.array( [x, y] ).T, columns=['x', 'y'] )\n",
        "df.sort_values(by='x', inplace=True, ignore_index=True)\n",
        "df"
      ],
      "metadata": {
        "colab": {
          "base_uri": "https://localhost:8080/",
          "height": 423
        },
        "id": "l22glkPiEuAm",
        "outputId": "2f1e4f66-8e70-4b2e-d7e7-9a36644f5c74"
      },
      "execution_count": 117,
      "outputs": [
        {
          "output_type": "execute_result",
          "data": {
            "text/html": [
              "\n",
              "  <div id=\"df-65352816-a579-4522-9fe5-a98f97589239\">\n",
              "    <div class=\"colab-df-container\">\n",
              "      <div>\n",
              "<style scoped>\n",
              "    .dataframe tbody tr th:only-of-type {\n",
              "        vertical-align: middle;\n",
              "    }\n",
              "\n",
              "    .dataframe tbody tr th {\n",
              "        vertical-align: top;\n",
              "    }\n",
              "\n",
              "    .dataframe thead th {\n",
              "        text-align: right;\n",
              "    }\n",
              "</style>\n",
              "<table border=\"1\" class=\"dataframe\">\n",
              "  <thead>\n",
              "    <tr style=\"text-align: right;\">\n",
              "      <th></th>\n",
              "      <th>x</th>\n",
              "      <th>y</th>\n",
              "    </tr>\n",
              "  </thead>\n",
              "  <tbody>\n",
              "    <tr>\n",
              "      <th>0</th>\n",
              "      <td>1971</td>\n",
              "      <td>2300</td>\n",
              "    </tr>\n",
              "    <tr>\n",
              "      <th>1</th>\n",
              "      <td>1972</td>\n",
              "      <td>3500</td>\n",
              "    </tr>\n",
              "    <tr>\n",
              "      <th>2</th>\n",
              "      <td>1974</td>\n",
              "      <td>4500</td>\n",
              "    </tr>\n",
              "    <tr>\n",
              "      <th>3</th>\n",
              "      <td>1974</td>\n",
              "      <td>4100</td>\n",
              "    </tr>\n",
              "    <tr>\n",
              "      <th>4</th>\n",
              "      <td>1974</td>\n",
              "      <td>5000</td>\n",
              "    </tr>\n",
              "    <tr>\n",
              "      <th>...</th>\n",
              "      <td>...</td>\n",
              "      <td>...</td>\n",
              "    </tr>\n",
              "    <tr>\n",
              "      <th>97</th>\n",
              "      <td>2015</td>\n",
              "      <td>7100000000</td>\n",
              "    </tr>\n",
              "    <tr>\n",
              "      <th>98</th>\n",
              "      <td>2015</td>\n",
              "      <td>10000000000</td>\n",
              "    </tr>\n",
              "    <tr>\n",
              "      <th>99</th>\n",
              "      <td>2015</td>\n",
              "      <td>1900000000</td>\n",
              "    </tr>\n",
              "    <tr>\n",
              "      <th>100</th>\n",
              "      <td>2015</td>\n",
              "      <td>3990000000</td>\n",
              "    </tr>\n",
              "    <tr>\n",
              "      <th>101</th>\n",
              "      <td>2016</td>\n",
              "      <td>7200000000</td>\n",
              "    </tr>\n",
              "  </tbody>\n",
              "</table>\n",
              "<p>102 rows × 2 columns</p>\n",
              "</div>\n",
              "      <button class=\"colab-df-convert\" onclick=\"convertToInteractive('df-65352816-a579-4522-9fe5-a98f97589239')\"\n",
              "              title=\"Convert this dataframe to an interactive table.\"\n",
              "              style=\"display:none;\">\n",
              "        \n",
              "  <svg xmlns=\"http://www.w3.org/2000/svg\" height=\"24px\"viewBox=\"0 0 24 24\"\n",
              "       width=\"24px\">\n",
              "    <path d=\"M0 0h24v24H0V0z\" fill=\"none\"/>\n",
              "    <path d=\"M18.56 5.44l.94 2.06.94-2.06 2.06-.94-2.06-.94-.94-2.06-.94 2.06-2.06.94zm-11 1L8.5 8.5l.94-2.06 2.06-.94-2.06-.94L8.5 2.5l-.94 2.06-2.06.94zm10 10l.94 2.06.94-2.06 2.06-.94-2.06-.94-.94-2.06-.94 2.06-2.06.94z\"/><path d=\"M17.41 7.96l-1.37-1.37c-.4-.4-.92-.59-1.43-.59-.52 0-1.04.2-1.43.59L10.3 9.45l-7.72 7.72c-.78.78-.78 2.05 0 2.83L4 21.41c.39.39.9.59 1.41.59.51 0 1.02-.2 1.41-.59l7.78-7.78 2.81-2.81c.8-.78.8-2.07 0-2.86zM5.41 20L4 18.59l7.72-7.72 1.47 1.35L5.41 20z\"/>\n",
              "  </svg>\n",
              "      </button>\n",
              "      \n",
              "  <style>\n",
              "    .colab-df-container {\n",
              "      display:flex;\n",
              "      flex-wrap:wrap;\n",
              "      gap: 12px;\n",
              "    }\n",
              "\n",
              "    .colab-df-convert {\n",
              "      background-color: #E8F0FE;\n",
              "      border: none;\n",
              "      border-radius: 50%;\n",
              "      cursor: pointer;\n",
              "      display: none;\n",
              "      fill: #1967D2;\n",
              "      height: 32px;\n",
              "      padding: 0 0 0 0;\n",
              "      width: 32px;\n",
              "    }\n",
              "\n",
              "    .colab-df-convert:hover {\n",
              "      background-color: #E2EBFA;\n",
              "      box-shadow: 0px 1px 2px rgba(60, 64, 67, 0.3), 0px 1px 3px 1px rgba(60, 64, 67, 0.15);\n",
              "      fill: #174EA6;\n",
              "    }\n",
              "\n",
              "    [theme=dark] .colab-df-convert {\n",
              "      background-color: #3B4455;\n",
              "      fill: #D2E3FC;\n",
              "    }\n",
              "\n",
              "    [theme=dark] .colab-df-convert:hover {\n",
              "      background-color: #434B5C;\n",
              "      box-shadow: 0px 1px 3px 1px rgba(0, 0, 0, 0.15);\n",
              "      filter: drop-shadow(0px 1px 2px rgba(0, 0, 0, 0.3));\n",
              "      fill: #FFFFFF;\n",
              "    }\n",
              "  </style>\n",
              "\n",
              "      <script>\n",
              "        const buttonEl =\n",
              "          document.querySelector('#df-65352816-a579-4522-9fe5-a98f97589239 button.colab-df-convert');\n",
              "        buttonEl.style.display =\n",
              "          google.colab.kernel.accessAllowed ? 'block' : 'none';\n",
              "\n",
              "        async function convertToInteractive(key) {\n",
              "          const element = document.querySelector('#df-65352816-a579-4522-9fe5-a98f97589239');\n",
              "          const dataTable =\n",
              "            await google.colab.kernel.invokeFunction('convertToInteractive',\n",
              "                                                     [key], {});\n",
              "          if (!dataTable) return;\n",
              "\n",
              "          const docLinkHtml = 'Like what you see? Visit the ' +\n",
              "            '<a target=\"_blank\" href=https://colab.research.google.com/notebooks/data_table.ipynb>data table notebook</a>'\n",
              "            + ' to learn more about interactive tables.';\n",
              "          element.innerHTML = '';\n",
              "          dataTable['output_type'] = 'display_data';\n",
              "          await google.colab.output.renderOutput(dataTable, element);\n",
              "          const docLink = document.createElement('div');\n",
              "          docLink.innerHTML = docLinkHtml;\n",
              "          element.appendChild(docLink);\n",
              "        }\n",
              "      </script>\n",
              "    </div>\n",
              "  </div>\n",
              "  "
            ],
            "text/plain": [
              "        x            y\n",
              "0    1971         2300\n",
              "1    1972         3500\n",
              "2    1974         4500\n",
              "3    1974         4100\n",
              "4    1974         5000\n",
              "..    ...          ...\n",
              "97   2015   7100000000\n",
              "98   2015  10000000000\n",
              "99   2015   1900000000\n",
              "100  2015   3990000000\n",
              "101  2016   7200000000\n",
              "\n",
              "[102 rows x 2 columns]"
            ]
          },
          "metadata": {},
          "execution_count": 117
        }
      ]
    },
    {
      "cell_type": "code",
      "source": [
        "def error(beta):\n",
        "  yhat = beta[0] + beta[1] * x\n",
        "  return np.sum( (y - yhat) ** 2 )"
      ],
      "metadata": {
        "id": "zdD6vTH5_wfQ"
      },
      "execution_count": 126,
      "outputs": []
    },
    {
      "cell_type": "code",
      "source": [
        "beta = [ 0, 0 ]\n",
        "result = minimize( error, beta )\n",
        "result.x"
      ],
      "metadata": {
        "colab": {
          "base_uri": "https://localhost:8080/"
        },
        "id": "ADUrqBiXAChP",
        "outputId": "f162776f-5b5f-4d17-a5bd-0d3d79389d2f"
      },
      "execution_count": 127,
      "outputs": [
        {
          "output_type": "execute_result",
          "data": {
            "text/plain": [
              "array([     0.        , 524287.96260122])"
            ]
          },
          "metadata": {},
          "execution_count": 127
        }
      ]
    },
    {
      "cell_type": "code",
      "source": [
        "sigma = rawData['y'].std()\n",
        "\n",
        "def L(beta):\n",
        "  likelihood = norm( beta[0] + beta[1] * x, sigma).pdf(y)\n",
        "  return np.sum( - np.log( likelihood ) )"
      ],
      "metadata": {
        "id": "FIVpEs7GAF08"
      },
      "execution_count": 120,
      "outputs": []
    },
    {
      "cell_type": "code",
      "source": [
        "beta = [ 0, 0 ]\n",
        "result = minimize( L, beta )\n",
        "result.x"
      ],
      "metadata": {
        "colab": {
          "base_uri": "https://localhost:8080/"
        },
        "id": "nXfqDozEAUEr",
        "outputId": "63db3907-2aac-4299-abfd-cd700aa231f3"
      },
      "execution_count": 121,
      "outputs": [
        {
          "output_type": "execute_result",
          "data": {
            "text/plain": [
              "array([    0.        , 11182.29585447])"
            ]
          },
          "metadata": {},
          "execution_count": 121
        }
      ]
    },
    {
      "cell_type": "code",
      "source": [
        "def grad_fa(beta):\n",
        "  return np.sum(-2 * x * (-beta[1] * x - beta[0] + y))\n",
        "\n",
        "def grad_fb(beta):\n",
        "  return np.sum(2 * beta[1] * x + 2 * beta[0] - 2 * y)"
      ],
      "metadata": {
        "id": "pd0S2IOuAxaA"
      },
      "execution_count": 122,
      "outputs": []
    },
    {
      "cell_type": "code",
      "source": [
        "w = np.array( [ 0, 0 ] )\n",
        "lr = 0.0000001\n",
        "maxIter = 1000\n",
        "\n",
        "f = []\n",
        "for _ in range(maxIter):\n",
        "  f.append( error(w) )\n",
        "  grad = np.array( [ grad_fb(w), grad_fa(w) ] )\n",
        "  w1 = w - lr * grad\n",
        "  w = w1"
      ],
      "metadata": {
        "id": "MQWzJcfdBC-c"
      },
      "execution_count": 123,
      "outputs": []
    },
    {
      "cell_type": "code",
      "source": [
        "plt.plot( f )\n",
        "plt.grid()\n",
        "plt.show()"
      ],
      "metadata": {
        "colab": {
          "base_uri": "https://localhost:8080/",
          "height": 276
        },
        "id": "kapohXJiBJeY",
        "outputId": "361221df-879f-42d6-edd7-041244618c18"
      },
      "execution_count": 124,
      "outputs": [
        {
          "output_type": "display_data",
          "data": {
            "image/png": "[encoded data removed]",
            "text/plain": [
              "<Figure size 432x288 with 1 Axes>"
            ]
          },
          "metadata": {
            "needs_background": "light"
          }
        }
      ]
    },
    {
      "cell_type": "code",
      "source": [
        ""
      ],
      "metadata": {
        "id": "-olDGhezEMMp"
      },
      "execution_count": null,
      "outputs": []
    }
  ]
}