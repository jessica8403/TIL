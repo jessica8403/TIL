{
  "nbformat": 4,
  "nbformat_minor": 0,
  "metadata": {
    "colab": {
      "name": "2022.02.14.ipynb",
      "provenance": [],
      "authorship_tag": "ABX9TyOS19EnRpVk3fZ47URWVy/X",
      "include_colab_link": true
    },
    "kernelspec": {
      "name": "python3",
      "display_name": "Python 3"
    },
    "language_info": {
      "name": "python"
    }
  },
  "cells": [
    {
      "cell_type": "markdown",
      "metadata": {
        "id": "view-in-github",
        "colab_type": "text"
      },
      "source": [
        "<a href=\"https://colab.research.google.com/github/jessica8403/TIL/blob/master/2022_02_14.ipynb\" target=\"_parent\"><img src=\"https://colab.research.google.com/assets/colab-badge.svg\" alt=\"Open In Colab\"/></a>"
      ]
    },
    {
      "cell_type": "code",
      "execution_count": 3,
      "metadata": {
        "colab": {
          "base_uri": "https://localhost:8080/"
        },
        "id": "EjJWke7A-oa0",
        "outputId": "248650f9-13a9-4f33-c4b5-5c60af280736"
      },
      "outputs": [
        {
          "output_type": "stream",
          "name": "stdout",
          "text": [
            "20\n",
            "8\n"
          ]
        }
      ],
      "source": [
        "n= int(input())\n",
        "\n",
        "ch=[0]*(n+1)\n",
        "cnt=0\n",
        "for i in range(2, n+1):\n",
        "  if ch[i]==0:\n",
        "    cnt+=1\n",
        "    for j in range(i, n+1,i):\n",
        "      ch[j]=1\n",
        "\n",
        "print(cnt)\n",
        "  "
      ]
    }
  ]
}