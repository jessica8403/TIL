{
  "nbformat": 4,
  "nbformat_minor": 0,
  "metadata": {
    "colab": {
      "name": "22.04.20.ipynb",
      "provenance": [],
      "authorship_tag": "ABX9TyMiUu9JAQlDKosqyzvT3idO",
      "include_colab_link": true
    },
    "kernelspec": {
      "name": "python3",
      "display_name": "Python 3"
    },
    "language_info": {
      "name": "python"
    }
  },
  "cells": [
    {
      "cell_type": "markdown",
      "metadata": {
        "id": "view-in-github",
        "colab_type": "text"
      },
      "source": [
        "<a href=\"https://colab.research.google.com/github/jessica8403/TIL/blob/master/22_04_20.ipynb\" target=\"_parent\"><img src=\"https://colab.research.google.com/assets/colab-badge.svg\" alt=\"Open In Colab\"/></a>"
      ]
    },
    {
      "cell_type": "code",
      "execution_count": 3,
      "metadata": {
        "colab": {
          "base_uri": "https://localhost:8080/"
        },
        "id": "RXgA2lubIkbs",
        "outputId": "ae8c5719-17a6-44fd-f7b4-bb53abd3b4e4"
      },
      "outputs": [
        {
          "output_type": "stream",
          "name": "stdout",
          "text": [
            "10\n",
            "1 0 1 1 1 0 0 1 1 0\n",
            "10\n"
          ]
        }
      ],
      "source": [
        "N= int(input())\n",
        "A=list(map(int,input().split()))\n",
        "sum=0\n",
        "cnt=0\n",
        "for x in A:\n",
        "  if x==1:\n",
        "    cnt+=1\n",
        "    sum+=cnt\n",
        "  else:\n",
        "    cnt=0\n",
        "\n",
        "print(sum)\n"
      ]
    },
    {
      "cell_type": "code",
      "source": [
        "n= int(input())\n",
        "for i in range(n):\n",
        "  s=input()\n",
        "  s=s.upper()\n",
        "  size=len(s)\n",
        "  for j in range(size//2):\n",
        "    if s[j]!=s[-1-j]:\n",
        "      print('#%d NO' %(i+1))\n",
        "      break\n",
        "  \n",
        "  else:\n",
        "    print('#%d YES' %(i+1))\n",
        "\n"
      ],
      "metadata": {
        "colab": {
          "base_uri": "https://localhost:8080/"
        },
        "id": "rC5xGvVJLQCy",
        "outputId": "8177a116-810b-4813-e922-43a17deb78bd"
      },
      "execution_count": 4,
      "outputs": [
        {
          "output_type": "stream",
          "name": "stdout",
          "text": [
            "5\n",
            "level\n",
            "#1 YES\n",
            "moon\n",
            "#2 NO\n",
            "abcba\n",
            "#3 YES\n",
            "soon\n",
            "#4 NO\n",
            "gooG\n",
            "#5 YES\n"
          ]
        }
      ]
    },
    {
      "cell_type": "code",
      "source": [
        "n= int(input())\n",
        "for i in range(n):\n",
        "  s=input()\n",
        "  s=s.upper()\n",
        "  if s==s[::-1]:\n",
        "    print('#%d YES' %(i+1))\n",
        "  \n",
        "  else:\n",
        "    print('#%d NO' %(i+1))"
      ],
      "metadata": {
        "colab": {
          "base_uri": "https://localhost:8080/"
        },
        "id": "O0uuDo-6OO-w",
        "outputId": "f5209b2e-c4b3-46a2-eb0b-913abf50efd1"
      },
      "execution_count": 5,
      "outputs": [
        {
          "output_type": "stream",
          "name": "stdout",
          "text": [
            "5\n",
            "level\n",
            "#1 YES\n",
            "moon\n",
            "#2 NO\n",
            "abcba\n",
            "#3 YES\n",
            "soon\n",
            "#4 NO\n",
            "gooG\n",
            "#5 YES\n"
          ]
        }
      ]
    },
    {
      "cell_type": "code",
      "source": [
        ""
      ],
      "metadata": {
        "id": "q8MA-SIjP3v2"
      },
      "execution_count": null,
      "outputs": []
    }
  ]
}