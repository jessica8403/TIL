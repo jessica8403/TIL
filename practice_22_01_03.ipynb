{
  "nbformat": 4,
  "nbformat_minor": 0,
  "metadata": {
    "colab": {
      "name": "practice_22.01.03.ipynb",
      "provenance": [],
      "collapsed_sections": [],
      "authorship_tag": "ABX9TyP3IBLD3ALQAzSoesTHn/KE",
      "include_colab_link": true
    },
    "kernelspec": {
      "name": "python3",
      "display_name": "Python 3"
    },
    "language_info": {
      "name": "python"
    }
  },
  "cells": [
    {
      "cell_type": "markdown",
      "metadata": {
        "id": "view-in-github",
        "colab_type": "text"
      },
      "source": [
        "<a href=\"https://colab.research.google.com/github/jessica8403/TIL/blob/master/practice_22_01_03.ipynb\" target=\"_parent\"><img src=\"https://colab.research.google.com/assets/colab-badge.svg\" alt=\"Open In Colab\"/></a>"
      ]
    },
    {
      "cell_type": "code",
      "execution_count": 4,
      "metadata": {
        "id": "qnlZOJhN1sMj"
      },
      "outputs": [],
      "source": [
        "# 백준 15596번\n",
        "\n",
        "# 문제\n",
        "# 정수 n개가 주어졌을 때, n개의 합을 구하는 함수를 작성하시오.\n",
        "\n",
        "# 작성해야 하는 함수는 다음과 같다.\n",
        "\n",
        "# Python 2, Python 3, PyPy, PyPy3: def solve(a: list) -> int\n",
        "# a: 합을 구해야 하는 정수 n개가 저장되어 있는 리스트 (0 ≤ a[i] ≤ 1,000,000, 1 ≤ n ≤ 3,000,000)\n",
        "# 리턴값: a에 포함되어 있는 정수 n개의 합 (정수)\n",
        "\n",
        "def solve(a) :\n",
        "    return sum(a)\n",
        "\n",
        "\n",
        "\n"
      ]
    }
  ]
}