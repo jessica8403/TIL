{
  "nbformat": 4,
  "nbformat_minor": 0,
  "metadata": {
    "colab": {
      "name": "practice0207.ipynb",
      "provenance": [],
      "authorship_tag": "ABX9TyPczCKZbyzdlXnBAUOVhZ40",
      "include_colab_link": true
    },
    "kernelspec": {
      "name": "python3",
      "display_name": "Python 3"
    },
    "language_info": {
      "name": "python"
    }
  },
  "cells": [
    {
      "cell_type": "markdown",
      "metadata": {
        "id": "view-in-github",
        "colab_type": "text"
      },
      "source": [
        "<a href=\"https://colab.research.google.com/github/jessica8403/TIL/blob/master/practice0207.ipynb\" target=\"_parent\"><img src=\"https://colab.research.google.com/assets/colab-badge.svg\" alt=\"Open In Colab\"/></a>"
      ]
    },
    {
      "cell_type": "code",
      "execution_count": 6,
      "metadata": {
        "colab": {
          "base_uri": "https://localhost:8080/"
        },
        "id": "oPSJYDw2Vmx-",
        "outputId": "d4f5183c-1947-4017-dedc-ce6c0b448ee6"
      },
      "outputs": [
        {
          "output_type": "stream",
          "name": "stdout",
          "text": [
            "10\n",
            "45 73 66 87 92 67 75 79 75 80\n",
            "74 7\n"
          ]
        }
      ],
      "source": [
        "n= int(input())\n",
        "a= list(map(int,input().split()))\n",
        "ave= round(sum(a)/n)\n",
        "min=2147000000\n",
        "for idx,x in enumerate(a):\n",
        "  tmp=abs(x-ave)\n",
        "  if tmp<min:\n",
        "    min=tmp\n",
        "    score=x\n",
        "    res=idx+1\n",
        "  \n",
        "  elif tmp==min:\n",
        "       if x>score:\n",
        "         score=x\n",
        "         res=idx+1\n",
        "\n",
        "print(ave, res)\n"
      ]
    },
    {
      "cell_type": "code",
      "source": [
        ""
      ],
      "metadata": {
        "id": "Cib_1VZZc21y"
      },
      "execution_count": null,
      "outputs": []
    }
  ]
}