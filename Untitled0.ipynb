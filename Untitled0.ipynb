{
  "nbformat": 4,
  "nbformat_minor": 0,
  "metadata": {
    "colab": {
      "name": "Untitled0.ipynb",
      "provenance": [],
      "authorship_tag": "ABX9TyN323Pql953Bs8t2pSwQVN5",
      "include_colab_link": true
    },
    "kernelspec": {
      "name": "python3",
      "display_name": "Python 3"
    },
    "language_info": {
      "name": "python"
    }
  },
  "cells": [
    {
      "cell_type": "markdown",
      "metadata": {
        "id": "view-in-github",
        "colab_type": "text"
      },
      "source": [
        "<a href=\"https://colab.research.google.com/github/jessica8403/TIL/blob/master/Untitled0.ipynb\" target=\"_parent\"><img src=\"https://colab.research.google.com/assets/colab-badge.svg\" alt=\"Open In Colab\"/></a>"
      ]
    },
    {
      "cell_type": "code",
      "execution_count": null,
      "metadata": {
        "id": "CWhf4LtRDBsc"
      },
      "outputs": [],
      "source": [
        "# 정보 선생님은 오늘도 이상한 출석을 부른다.\n",
        "\n",
        "# 영일이는 오늘도 다른 생각을 해보았다.\n",
        "# 출석 번호를 다 부르지는 않은 것 같은데... 가장 빠른 번호가 뭐였지?\n",
        "\n",
        "# 출석 번호를 n번 무작위로 불렀을 때, 가장 빠른 번호를 출력해 보자.\n",
        "\n",
        "# 단, \n",
        "# 첫 번째 번호와 마지막 번호가 몇 번인지는 아무도 모른다.\n",
        "# 음수(-) 번호, 0번 번호도 있을 수 있다.\n",
        "\n",
        "# 참고\n",
        "# 리스트에 출석 번호를 기록해 두었다가, 그 중에서 가장 작은 값을 찾아내면 된다.\n",
        "# 그런데, 가장 작은 값은 어떻게 어떤 것과 비교하고, 어떻게 찾아야 할까?\n",
        "\n",
        "# 입력\n",
        "# 번호를 부른 횟수(n, 1 ~ 10000)가 첫 줄에 입력된다.\n",
        "# n개의 랜덤 번호(k)가 두 번째 줄에 공백을 사이에 두고 순서대로 입력된다.\n",
        "\n",
        "# 출력\n",
        "# 출석을 부른 번호 중에 가장 빠른 번호를 출력한다.\n",
        "\n",
        "# 입력 예시   \n",
        "# 10\n",
        "# 10 4 2 3 6 6 7 9 8 5\n",
        "\n",
        "# 출력 예시\n",
        "# 2"
      ]
    },
    {
      "cell_type": "code",
      "source": [
        "n = int(input())\n",
        "a = input().split()\n",
        "for i in range(n):\n",
        "\ta[i]=int(a[i])\n",
        "\n",
        "a.sort()\n",
        "print(a[0])\n"
      ],
      "metadata": {
        "colab": {
          "base_uri": "https://localhost:8080/"
        },
        "id": "lEKC8m_4FFQM",
        "outputId": "8bb51348-6ad9-4a0b-e2ab-ce4ec7c302a8"
      },
      "execution_count": 1,
      "outputs": [
        {
          "output_type": "stream",
          "name": "stdout",
          "text": [
            "10\n",
            "10 4 2 3 6 6 7 9 8 5\n",
            "2\n"
          ]
        }
      ]
    }
  ]
}