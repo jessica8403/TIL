{
  "nbformat": 4,
  "nbformat_minor": 0,
  "metadata": {
    "colab": {
      "name": "text전처리.ipynb",
      "provenance": [],
      "mount_file_id": "1pwvPo3XPU_0xXnlMxKEbEXVsSz191Pl2",
      "authorship_tag": "ABX9TyPeEeLibbbzPsRyhGcyj7co",
      "include_colab_link": true
    },
    "kernelspec": {
      "name": "python3",
      "display_name": "Python 3"
    },
    "language_info": {
      "name": "python"
    },
    "accelerator": "GPU"
  },
  "cells": [
    {
      "cell_type": "markdown",
      "metadata": {
        "id": "view-in-github",
        "colab_type": "text"
      },
      "source": [
        "<a href=\"https://colab.research.google.com/github/jessica8403/TIL/blob/master/text%EC%A0%84%EC%B2%98%EB%A6%AC.ipynb\" target=\"_parent\"><img src=\"https://colab.research.google.com/assets/colab-badge.svg\" alt=\"Open In Colab\"/></a>"
      ]
    },
    {
      "cell_type": "code",
      "execution_count": 6,
      "metadata": {
        "colab": {
          "base_uri": "https://localhost:8080/"
        },
        "id": "7vXnmNObhUdM",
        "outputId": "7af9ec58-f4c0-4961-8af3-a84e9f354d9a"
      },
      "outputs": [
        {
          "output_type": "stream",
          "name": "stdout",
          "text": [
            "Found GPU at: /device:GPU:0\n"
          ]
        }
      ],
      "source": [
        "%tensorflow_version 2.x\n",
        "import tensorflow as tf\n",
        "device_name = tf.test.gpu_device_name()\n",
        "if device_name != '/device:GPU:0':\n",
        "  raise SystemError('GPU device not found')\n",
        "print('Found GPU at: {}'.format(device_name))"
      ]
    },
    {
      "cell_type": "code",
      "source": [
        "import warnings\n",
        "warnings.filterwarnings('always')\n",
        "warnings.filterwarnings('ignore')\n",
        "\n",
        "import os, shutil\n",
        "\n",
        "import numpy as np\n",
        "import pandas as pd\n",
        "\n",
        "import matplotlib.pyplot as plt\n",
        "import seaborn as sns\n",
        "\n",
        "from sklearn import datasets"
      ],
      "metadata": {
        "id": "9FvicJJUhaZ9"
      },
      "execution_count": 7,
      "outputs": []
    },
    {
      "cell_type": "code",
      "source": [
        "!pip install konlpy"
      ],
      "metadata": {
        "colab": {
          "base_uri": "https://localhost:8080/"
        },
        "id": "qMR6wzxYhi0Z",
        "outputId": "2a8c6b88-93f5-4733-d0fe-8b30f509c068"
      },
      "execution_count": 5,
      "outputs": [
        {
          "output_type": "stream",
          "name": "stdout",
          "text": [
            "Collecting konlpy\n",
            "  Downloading konlpy-0.6.0-py2.py3-none-any.whl (19.4 MB)\n",
            "\u001b[K     |████████████████████████████████| 19.4 MB 1.5 MB/s \n",
            "\u001b[?25hCollecting JPype1>=0.7.0\n",
            "  Downloading JPype1-1.3.0-cp37-cp37m-manylinux_2_5_x86_64.manylinux1_x86_64.whl (448 kB)\n",
            "\u001b[K     |████████████████████████████████| 448 kB 23.2 MB/s \n",
            "\u001b[?25hRequirement already satisfied: numpy>=1.6 in /usr/local/lib/python3.7/dist-packages (from konlpy) (1.19.5)\n",
            "Requirement already satisfied: lxml>=4.1.0 in /usr/local/lib/python3.7/dist-packages (from konlpy) (4.2.6)\n",
            "Requirement already satisfied: typing-extensions in /usr/local/lib/python3.7/dist-packages (from JPype1>=0.7.0->konlpy) (3.10.0.2)\n",
            "Installing collected packages: JPype1, konlpy\n",
            "Successfully installed JPype1-1.3.0 konlpy-0.6.0\n"
          ]
        }
      ]
    },
    {
      "cell_type": "code",
      "source": [
        "%%shell\n",
        "apt-get update\n",
        "apt-get install g++ openjdk-8-jdk python-dev python3-dev\n",
        "pip install JPype1\n",
        "pip install konlpy"
      ],
      "metadata": {
        "id": "5m0Na-gn6O46"
      },
      "execution_count": null,
      "outputs": []
    },
    {
      "cell_type": "code",
      "source": [
        "%env JAVA_HOME \"/usr/lib/jvm/java-8-openjdk-amd64\""
      ],
      "metadata": {
        "colab": {
          "base_uri": "https://localhost:8080/"
        },
        "id": "_WePpcuA6XIQ",
        "outputId": "7c1d6648-9823-4037-aa8a-8a705ac35ad5"
      },
      "execution_count": 16,
      "outputs": [
        {
          "output_type": "stream",
          "name": "stdout",
          "text": [
            "env: JAVA_HOME=\"/usr/lib/jvm/java-8-openjdk-amd64\"\n"
          ]
        }
      ]
    },
    {
      "cell_type": "code",
      "source": [
        "%%shell\n",
        "bash <(curl -s https://raw.githubusercontent.com/konlpy/konlpy/master/scripts/mecab.sh)\n",
        "pip install /tmp/mecab-python-0.996"
      ],
      "metadata": {
        "id": "fYIE92Ua6X44"
      },
      "execution_count": null,
      "outputs": []
    },
    {
      "cell_type": "code",
      "source": [
        "from konlpy.tag import Kkma, Komoran, Okt, Hannanum, Mecab"
      ],
      "metadata": {
        "id": "23jM3kPQiY8W"
      },
      "execution_count": 1,
      "outputs": []
    },
    {
      "cell_type": "code",
      "source": [
        "# 교재에서는 실습을 위해서\n",
        "samples = ['The cat sat on the mat.', 'The dog ate my homework.']"
      ],
      "metadata": {
        "id": "h14eneXViy8h"
      },
      "execution_count": 3,
      "outputs": []
    },
    {
      "cell_type": "code",
      "source": [
        "from tensorflow.keras.preprocessing.text import Tokenizer"
      ],
      "metadata": {
        "id": "XgyagpfH0u1s"
      },
      "execution_count": 4,
      "outputs": []
    },
    {
      "cell_type": "code",
      "source": [
        "# 토크나이저 객체 생성(가장 빈도가 높은 단어 1,000개만 선택해서 토크나이징)\n",
        "tokenizer = Tokenizer(num_words=1000)\n",
        "\n",
        "# 단어 인덱스 구축\n",
        "tokenizer.fit_on_texts(samples)\n",
        "\n",
        "# 인덱스 리트스 확인\n",
        "sequence = tokenizer.texts_to_sequences(samples)\n",
        "print(sequence)\n",
        "\n",
        "# 변환된 숫자 인덱스를 벡터 형태로 변환()\n",
        "one_hot_encoded = tokenizer.texts_to_matrix(samples, mode='binary')\n",
        "print(one_hot_encoded)"
      ],
      "metadata": {
        "colab": {
          "base_uri": "https://localhost:8080/"
        },
        "id": "NBh-1K-31-Qm",
        "outputId": "ddee9202-714e-4a87-a6ce-24ea37e52af2"
      },
      "execution_count": 5,
      "outputs": [
        {
          "output_type": "stream",
          "name": "stdout",
          "text": [
            "[[1, 2, 3, 4, 1, 5], [1, 6, 7, 8, 9]]\n",
            "[[0. 1. 1. ... 0. 0. 0.]\n",
            " [0. 1. 0. ... 0. 0. 0.]]\n"
          ]
        }
      ]
    },
    {
      "cell_type": "code",
      "source": [
        "kkma = Kkma()\n",
        "komoran = Komoran()\n",
        "han = Hannanum()\n",
        "mecab = Mecab()\n",
        "okt = Okt()"
      ],
      "metadata": {
        "id": "bWqnyMs32eCA"
      },
      "execution_count": 2,
      "outputs": []
    },
    {
      "cell_type": "code",
      "source": [
        "samples = ['아버지가방에들어가신다', '아기다리고기다리던데이터']"
      ],
      "metadata": {
        "id": "bx8nMaCR5um_"
      },
      "execution_count": 15,
      "outputs": []
    },
    {
      "cell_type": "code",
      "source": [
        "kkma.pos(samples[0])"
      ],
      "metadata": {
        "colab": {
          "base_uri": "https://localhost:8080/"
        },
        "id": "7GZ55ttm8mSf",
        "outputId": "63baa968-1180-4443-b277-2fd12e33472f"
      },
      "execution_count": 16,
      "outputs": [
        {
          "output_type": "execute_result",
          "data": {
            "text/plain": [
              "[('아버지', 'NNG'),\n",
              " ('가방', 'NNG'),\n",
              " ('에', 'JKM'),\n",
              " ('들어가', 'VV'),\n",
              " ('시', 'EPH'),\n",
              " ('ㄴ다', 'EFN')]"
            ]
          },
          "metadata": {},
          "execution_count": 16
        }
      ]
    },
    {
      "cell_type": "code",
      "source": [
        "kkma.morphs( samples[1] )"
      ],
      "metadata": {
        "colab": {
          "base_uri": "https://localhost:8080/"
        },
        "id": "s_VGwcMI8q5B",
        "outputId": "7c3c89dc-f8df-4db6-8339-5db30b16538d"
      },
      "execution_count": 17,
      "outputs": [
        {
          "output_type": "execute_result",
          "data": {
            "text/plain": [
              "['아', '아', '기다리', '고', '기다리', '던데', '이', '터']"
            ]
          },
          "metadata": {},
          "execution_count": 17
        }
      ]
    },
    {
      "cell_type": "code",
      "source": [
        "kkma.nouns( samples[0] )"
      ],
      "metadata": {
        "colab": {
          "base_uri": "https://localhost:8080/"
        },
        "id": "kubWpBz_86-f",
        "outputId": "fbe42051-5ff9-40be-98bb-ccd1ae854c86"
      },
      "execution_count": 18,
      "outputs": [
        {
          "output_type": "execute_result",
          "data": {
            "text/plain": [
              "['아버지', '아버지가방', '가방']"
            ]
          },
          "metadata": {},
          "execution_count": 18
        }
      ]
    },
    {
      "cell_type": "code",
      "source": [
        "mecab.pos( samples[0] )"
      ],
      "metadata": {
        "colab": {
          "base_uri": "https://localhost:8080/"
        },
        "id": "MRYbK4569Irr",
        "outputId": "de745265-baf0-4656-a977-e7551fb91a46"
      },
      "execution_count": 19,
      "outputs": [
        {
          "output_type": "execute_result",
          "data": {
            "text/plain": [
              "[('아버지', 'NNG'),\n",
              " ('가', 'JKS'),\n",
              " ('방', 'NNG'),\n",
              " ('에', 'JKB'),\n",
              " ('들어가', 'VV'),\n",
              " ('신다', 'EP+EC')]"
            ]
          },
          "metadata": {},
          "execution_count": 19
        }
      ]
    },
    {
      "cell_type": "code",
      "source": [
        "mecab.morphs( samples[1] )"
      ],
      "metadata": {
        "colab": {
          "base_uri": "https://localhost:8080/"
        },
        "id": "jjjYXEzB9SLi",
        "outputId": "35aa1282-a5c3-4da3-f9c2-22f62b307f2c"
      },
      "execution_count": 20,
      "outputs": [
        {
          "output_type": "execute_result",
          "data": {
            "text/plain": [
              "['아기', '다리', '고', '기다리', '던', '데이터']"
            ]
          },
          "metadata": {},
          "execution_count": 20
        }
      ]
    },
    {
      "cell_type": "code",
      "source": [
        "mecab.nouns( samples[1] )"
      ],
      "metadata": {
        "colab": {
          "base_uri": "https://localhost:8080/"
        },
        "id": "HFDTRWGD9aOb",
        "outputId": "7b97bc4b-798e-4e2d-8ecf-54cf5747dd13"
      },
      "execution_count": 21,
      "outputs": [
        {
          "output_type": "execute_result",
          "data": {
            "text/plain": [
              "['아기', '데이터']"
            ]
          },
          "metadata": {},
          "execution_count": 21
        }
      ]
    },
    {
      "cell_type": "code",
      "source": [
        "komoran.pos( samples[1] )"
      ],
      "metadata": {
        "colab": {
          "base_uri": "https://localhost:8080/"
        },
        "id": "iYt2yrNX9jof",
        "outputId": "ed4ea622-5bb0-4617-cb24-6744c8c9fc09"
      },
      "execution_count": 22,
      "outputs": [
        {
          "output_type": "execute_result",
          "data": {
            "text/plain": [
              "[('아', 'IC'),\n",
              " ('기다리', 'VV'),\n",
              " ('고', 'EC'),\n",
              " ('기다리', 'VV'),\n",
              " ('던', 'ETM'),\n",
              " ('데이터', 'NNG')]"
            ]
          },
          "metadata": {},
          "execution_count": 22
        }
      ]
    },
    {
      "cell_type": "code",
      "source": [
        "samples_to_word = []\n",
        "for sample in samples:\n",
        "  # print( mecab.morphs(sample) )\n",
        "  samples_to_word.append( mecab.morphs(sample) )\n",
        "\n",
        "samples_to_word"
      ],
      "metadata": {
        "colab": {
          "base_uri": "https://localhost:8080/"
        },
        "id": "WYtjObmm94EK",
        "outputId": "153c568e-f436-4125-de34-f68360108fb9"
      },
      "execution_count": 23,
      "outputs": [
        {
          "output_type": "execute_result",
          "data": {
            "text/plain": [
              "[['아버지', '가', '방', '에', '들어가', '신다'], ['아기', '다리', '고', '기다리', '던', '데이터']]"
            ]
          },
          "metadata": {},
          "execution_count": 23
        }
      ]
    },
    {
      "cell_type": "code",
      "source": [
        "from tensorflow.keras.preprocessing.text import Tokenizer"
      ],
      "metadata": {
        "id": "WcCYNEMqA3we"
      },
      "execution_count": 24,
      "outputs": []
    },
    {
      "cell_type": "code",
      "source": [
        "tokenizer = Tokenizer(num_words=1000)\n",
        "tokenizer.fit_on_texts(samples_to_word)\n",
        "sequence = tokenizer.texts_to_sequences(samples_to_word)\n",
        "print(sequence) \n",
        "\n",
        "one_hot_encoded = tokenizer.texts_to_matrix(samples_to_word, mode='binary')\n",
        "print(one_hot_encoded)"
      ],
      "metadata": {
        "colab": {
          "base_uri": "https://localhost:8080/"
        },
        "id": "SpacvexkBUw_",
        "outputId": "04ef0f1f-95eb-4cd3-9cb7-a04c1bd66e94"
      },
      "execution_count": 25,
      "outputs": [
        {
          "output_type": "stream",
          "name": "stdout",
          "text": [
            "[[1, 2, 3, 4, 5, 6], [7, 8, 9, 10, 11, 12]]\n",
            "[[0. 1. 1. ... 0. 0. 0.]\n",
            " [0. 0. 0. ... 0. 0. 0.]]\n"
          ]
        }
      ]
    },
    {
      "cell_type": "code",
      "source": [
        "from tensorflow.keras.datasets import imdb"
      ],
      "metadata": {
        "id": "WulIFeANBXiW"
      },
      "execution_count": 26,
      "outputs": []
    },
    {
      "cell_type": "code",
      "source": [
        "# 특성으로 사용할 단어의 갯수\n",
        "max_features = 10000\n",
        "# 사용할 텍스트의 길이\n",
        "maxLen = 20\n",
        "\n",
        "# 정수 리스트로 데이터를 로드\n",
        "(x_train, y_train), (x_test, y_test) = imdb.load_data(num_words = max_features)"
      ],
      "metadata": {
        "colab": {
          "base_uri": "https://localhost:8080/"
        },
        "id": "saNwkbxREmeT",
        "outputId": "73ea303a-592f-4437-d5b1-db8c698a909e"
      },
      "execution_count": 27,
      "outputs": [
        {
          "output_type": "stream",
          "name": "stdout",
          "text": [
            "Downloading data from https://storage.googleapis.com/tensorflow/tf-keras-datasets/imdb.npz\n",
            "17465344/17464789 [==============================] - 0s 0us/step\n",
            "17473536/17464789 [==============================] - 0s 0us/step\n"
          ]
        }
      ]
    },
    {
      "cell_type": "code",
      "source": [
        ""
      ],
      "metadata": {
        "id": "SWxWirYQFMgo"
      },
      "execution_count": null,
      "outputs": []
    }
  ]
}