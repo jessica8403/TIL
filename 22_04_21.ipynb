{
  "nbformat": 4,
  "nbformat_minor": 0,
  "metadata": {
    "colab": {
      "name": "22.04.21.ipynb",
      "provenance": [],
      "authorship_tag": "ABX9TyORfy4nlajqiHADUJFpFFSu",
      "include_colab_link": true
    },
    "kernelspec": {
      "name": "python3",
      "display_name": "Python 3"
    },
    "language_info": {
      "name": "python"
    }
  },
  "cells": [
    {
      "cell_type": "markdown",
      "metadata": {
        "id": "view-in-github",
        "colab_type": "text"
      },
      "source": [
        "<a href=\"https://colab.research.google.com/github/jessica8403/TIL/blob/master/22_04_21.ipynb\" target=\"_parent\"><img src=\"https://colab.research.google.com/assets/colab-badge.svg\" alt=\"Open In Colab\"/></a>"
      ]
    },
    {
      "cell_type": "code",
      "execution_count": 3,
      "metadata": {
        "colab": {
          "base_uri": "https://localhost:8080/"
        },
        "id": "7I5-vmmVs2GE",
        "outputId": "9c55eaac-b2ba-4f05-ec4d-4c4e64975a96"
      },
      "outputs": [
        {
          "output_type": "stream",
          "name": "stdout",
          "text": [
            "g0en2Ts8eSoft\n",
            "28\n",
            "6\n"
          ]
        }
      ],
      "source": [
        "s=input()\n",
        "res=0\n",
        "\n",
        "for x in s:\n",
        "\n",
        "  if x.isdecimal():\n",
        "    res=res*10+int(x)\n",
        "\n",
        "print(res)\n",
        "cnt=0\n",
        "for i in range(1, res+1):\n",
        "  if res%i==0:\n",
        "    cnt+=1\n",
        "print(cnt)\n",
        "\n"
      ]
    },
    {
      "cell_type": "code",
      "source": [
        "a=list(range(21))\n",
        "for _ in range(10):\n",
        "  s, e=map(int,input().split())\n",
        "  for i in range((e-s+1)//2):\n",
        "    a[s+i], a[e-i]=a[e-i], a[s+i]\n",
        "\n",
        "a.pop(0)\n",
        "for x in a:\n",
        "  print(x, end=' ')\n",
        "\n"
      ],
      "metadata": {
        "colab": {
          "base_uri": "https://localhost:8080/"
        },
        "id": "-CTrCRfTwSHm",
        "outputId": "b0ae4642-64bc-4b2f-8a45-02eb1ce1b010"
      },
      "execution_count": 7,
      "outputs": [
        {
          "output_type": "stream",
          "name": "stdout",
          "text": [
            "5 10\n",
            "9 13\n",
            "1 2\n",
            "3 4\n",
            "5 6\n",
            "1 2\n",
            "3 4\n",
            "5 6\n",
            "1 20\n",
            "1 20\n",
            "1 2 3 4 10 9 8 7 13 12 11 5 6 14 15 16 17 18 19 20 "
          ]
        }
      ]
    },
    {
      "cell_type": "code",
      "source": [
        "n=int(input())\n",
        "a=list(map(int,input().split()))\n",
        "m=int(input())\n",
        "b=list(map(int, input().split()))\n",
        "p1=p2=0\n",
        "c=[]\n",
        "while p1<n and p2<m:\n",
        "  if a[p1]<=b[p2]:\n",
        "    c.append(a[p1])\n",
        "    p1+=1\n",
        "\n",
        "  else:\n",
        "    c.append(b[p2])\n",
        "    p2+=1\n",
        "\n",
        "if p1<n:\n",
        "  c=c+a[p1:]\n",
        "\n",
        "if p2<m:\n",
        "  c=c+b[p2:]\n",
        "\n",
        "print(c)\n",
        "  \n",
        "for x in c:\n",
        "  print(x, end=' ') "
      ],
      "metadata": {
        "colab": {
          "base_uri": "https://localhost:8080/"
        },
        "id": "gIazG1CozlFF",
        "outputId": "a3b0f582-c569-4c3e-beff-aa97783045f1"
      },
      "execution_count": 11,
      "outputs": [
        {
          "output_type": "stream",
          "name": "stdout",
          "text": [
            "3\n",
            "1 3 5\n",
            "5\n",
            "2 3 6 7 9\n",
            "[1, 2, 3, 3, 5, 6, 7, 9]\n",
            "1 2 3 3 5 6 7 9 "
          ]
        }
      ]
    },
    {
      "cell_type": "code",
      "source": [
        "n,m=map(int,input().split())\n",
        "a=list(map(int,input().split()))\n",
        "lt=0\n",
        "rt=1\n",
        "tot=a[0]\n",
        "cnt=0\n",
        "\n",
        "while True:\n",
        "  if tot<m:\n",
        "    if rt<n:\n",
        "      tot+=a[rt]\n",
        "      rt+=1\n",
        "    else:\n",
        "      break\n",
        "\n",
        "  elif tot==m:\n",
        "    cnt+=1\n",
        "    tot-=a[lt]\n",
        "    lt+=1\n",
        "  \n",
        "  else:\n",
        "    tot-=a[lt]\n",
        "    lt+=1\n",
        "\n",
        "print(cnt)"
      ],
      "metadata": {
        "colab": {
          "base_uri": "https://localhost:8080/"
        },
        "id": "IrpT5Y0M53uD",
        "outputId": "386d23ce-4e94-4d43-c604-96f22b1f67bd"
      },
      "execution_count": 12,
      "outputs": [
        {
          "output_type": "stream",
          "name": "stdout",
          "text": [
            "8 3\n",
            "1 2 1 3 1 1 1 2\n",
            "5\n"
          ]
        }
      ]
    },
    {
      "cell_type": "code",
      "source": [
        ""
      ],
      "metadata": {
        "id": "rsLNPszwAkd-"
      },
      "execution_count": null,
      "outputs": []
    }
  ]
}