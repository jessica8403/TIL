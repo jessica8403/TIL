{
  "nbformat": 4,
  "nbformat_minor": 0,
  "metadata": {
    "colab": {
      "name": "22.04.22.ipynb",
      "provenance": [],
      "authorship_tag": "ABX9TyNsRUZM7XIGR7opz1Y0xm4N",
      "include_colab_link": true
    },
    "kernelspec": {
      "name": "python3",
      "display_name": "Python 3"
    },
    "language_info": {
      "name": "python"
    }
  },
  "cells": [
    {
      "cell_type": "markdown",
      "metadata": {
        "id": "view-in-github",
        "colab_type": "text"
      },
      "source": [
        "<a href=\"https://colab.research.google.com/github/jessica8403/TIL/blob/master/22_04_22.ipynb\" target=\"_parent\"><img src=\"https://colab.research.google.com/assets/colab-badge.svg\" alt=\"Open In Colab\"/></a>"
      ]
    },
    {
      "cell_type": "code",
      "execution_count": 4,
      "metadata": {
        "colab": {
          "base_uri": "https://localhost:8080/"
        },
        "id": "zEkIT4n8o_qK",
        "outputId": "85257504-ef04-4ead-bd54-672d97efa173"
      },
      "outputs": [
        {
          "output_type": "stream",
          "name": "stdout",
          "text": [
            "5\n",
            "10 13 10 12 15\n",
            "12 39 30 23 11\n",
            "11 25 50 53 15\n",
            "19 27 29 37 27\n",
            "19 13 30 13 19\n",
            "155\n"
          ]
        }
      ],
      "source": [
        "n=int(input())\n",
        "a=[list(map(int, input().split())) for _ in range(n)]\n",
        "largest=-2147000000\n",
        "for i in range(n):\n",
        "  sum1=sum2=0\n",
        "  for j in range(n):\n",
        "    sum1+=a[i][j]\n",
        "    sum2+=a[j][i]\n",
        "    \n",
        "  if sum1>largest:\n",
        "    largest=sum1\n",
        "  if sum2>largest:\n",
        "    largest=sum2\n",
        "\n",
        "\n",
        "sum1=sum2=0\n",
        "for i in range(n):\n",
        "  sum1+=a[i][i]\n",
        "  sum2+=a[i][n-i-1]\n",
        "\n",
        "if sum1>largest:\n",
        "    largest=sum1\n",
        "if sum2>largest:\n",
        "    largest=sum2\n",
        "\n",
        "print(largest)\n"
      ]
    },
    {
      "cell_type": "code",
      "source": [
        "n=int(input())\n",
        "a=[list(map(int, input().split())) for _ in range(n)]\n",
        "\n",
        "res=0\n",
        "s=e=n//2\n",
        "for i in range(n):\n",
        "  for j in range(s,e+1):\n",
        "    res+=a[i][j]\n",
        "\n",
        "  if i<n//2:\n",
        "    s-=1\n",
        "    e+=1\n",
        "\n",
        "  else:\n",
        "    s+=1\n",
        "    e-=1\n",
        "\n",
        "print(res)\n"
      ],
      "metadata": {
        "colab": {
          "base_uri": "https://localhost:8080/"
        },
        "id": "K8LBgg87r-ph",
        "outputId": "a71eeec2-e31b-432e-d2c3-a816de1dc32a"
      },
      "execution_count": 5,
      "outputs": [
        {
          "output_type": "stream",
          "name": "stdout",
          "text": [
            "5\n",
            "10 13 10 12 15\n",
            "12 39 30 23 11\n",
            "11 25 50 53 15\n",
            "19 27 29 37 27\n",
            "19 13 30 13 19\n",
            "379\n"
          ]
        }
      ]
    },
    {
      "cell_type": "code",
      "source": [
        ""
      ],
      "metadata": {
        "id": "EJLSJu46AQ5Q"
      },
      "execution_count": null,
      "outputs": []
    }
  ]
}