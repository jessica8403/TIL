{
  "nbformat": 4,
  "nbformat_minor": 0,
  "metadata": {
    "colab": {
      "name": "practice 12.22.ipynb",
      "provenance": [],
      "authorship_tag": "ABX9TyNZ+2fh82bXSe5VHi3wcIYl",
      "include_colab_link": true
    },
    "kernelspec": {
      "name": "python3",
      "display_name": "Python 3"
    },
    "language_info": {
      "name": "python"
    }
  },
  "cells": [
    {
      "cell_type": "markdown",
      "metadata": {
        "id": "view-in-github",
        "colab_type": "text"
      },
      "source": [
        "<a href=\"https://colab.research.google.com/github/jessica8403/TIL/blob/master/practice_12_22.ipynb\" target=\"_parent\"><img src=\"https://colab.research.google.com/assets/colab-badge.svg\" alt=\"Open In Colab\"/></a>"
      ]
    },
    {
      "cell_type": "code",
      "execution_count": null,
      "metadata": {
        "id": "Vm_OYMa7MEYP"
      },
      "outputs": [],
      "source": [
        "#counter html\n",
        "#이벤트 카운트\n",
        "\n",
        "<!DOCTYPE html>\n",
        "<html>\n",
        "  <head>\n",
        "  </head>\n",
        "\n",
        "  <body>\n",
        "    <h2 id='number'>0</h2>\n",
        "    <div>\n",
        "      <button id='increase'>+1</button>\n",
        "      <button id='decrease'>-1</button>\n",
        "    </div>\n",
        "\n",
        "    <script>\n",
        "      let number = document.getElementById('number');\n",
        "      let up = document.getElementById('increase');\n",
        "      let down = document.getElementById('decrease');\n",
        "\n",
        "      // 요소에 이벤트 달기\n",
        "      up.onclick = function () {\n",
        "        let count = number.innerText;\n",
        "        count = parseInt(count);\n",
        "        number.innerText = ++count;\n",
        "      };\n",
        "\n",
        "      down.onclick = function () {\n",
        "        let count = number.innerText;\n",
        "        count = parseInt(count);\n",
        "        number.innerText = --count;\n",
        "      }\n",
        "\n",
        "    </script>\n",
        "  </body>\n",
        "</html>"
      ]
    }
  ]
}